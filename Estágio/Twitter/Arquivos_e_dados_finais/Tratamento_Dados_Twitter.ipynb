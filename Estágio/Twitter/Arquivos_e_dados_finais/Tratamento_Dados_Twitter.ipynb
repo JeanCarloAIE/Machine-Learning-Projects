{
  "nbformat": 4,
  "nbformat_minor": 0,
  "metadata": {
    "colab": {
      "name": "Tratamento_Dados_Twitter.ipynb",
      "provenance": [],
      "collapsed_sections": [
        "Y3SvrPZXzLeA",
        "J8-anMk6Obl2",
        "A-ZDlRY7Oa_k",
        "0Nsu6eQ4Obb3",
        "JCx_ppN3Na-J",
        "ZZI2-_8JbeTd"
      ],
      "include_colab_link": true
    },
    "kernelspec": {
      "name": "python390jvsc74a57bd00d61aa711e3a9418ac9613b8f6815164376e3ce3e5e4fbdb5bee1906f224ab66",
      "display_name": "Python 3.9.0 64-bit"
    },
    "language_info": {
      "name": "python",
      "version": "3.9.0"
    },
    "metadata": {
      "interpreter": {
        "hash": "0d61aa711e3a9418ac9613b8f6815164376e3ce3e5e4fbdb5bee1906f224ab66"
      }
    }
  },
  "cells": [
    {
      "cell_type": "markdown",
      "metadata": {
        "id": "view-in-github",
        "colab_type": "text"
      },
      "source": [
        "<a href=\"https://colab.research.google.com/github/JeanCarloTS/Machine-Learning-Projects/blob/main/Est%C3%A1gio/Tratamento_Dados_Twitter.ipynb\" target=\"_parent\"><img src=\"https://colab.research.google.com/assets/colab-badge.svg\" alt=\"Open In Colab\"/></a>"
      ]
    },
    {
      "cell_type": "markdown",
      "metadata": {
        "id": "x6h9aCaArG2z"
      },
      "source": [
        "# **1. Bibliotecas**"
      ]
    },
    {
      "cell_type": "code",
      "metadata": {
        "id": "oZEDTcqwq0lh"
      },
      "source": [
        "import pandas as pd                   # manipulação de base de dados\n",
        "import numpy as np                    # manipulação numérica\n",
        "import seaborn as sns                 # manipulação gráfica\n",
        "import matplotlib.pyplot as plt       # manipulação gráfica"
      ],
      "execution_count": 8,
      "outputs": []
    },
    {
      "cell_type": "markdown",
      "metadata": {
        "id": "IX6lkuYkKuoC"
      },
      "source": [
        "# **2. Importação dos dados (Drive)**"
      ]
    },
    {
      "source": [
        "## **2.1 Via Google Drive**"
      ],
      "cell_type": "markdown",
      "metadata": {}
    },
    {
      "cell_type": "code",
      "metadata": {
        "colab": {
          "base_uri": "https://localhost:8080/"
        },
        "id": "njNwsiB4K0bI",
        "outputId": "0153905c-6c4a-4568-feb9-e7a1f6ce6ad4"
      },
      "source": [
        "from google.colab import drive\n",
        "drive.mount('/content/drive')"
      ],
      "execution_count": 9,
      "outputs": [
        {
          "output_type": "error",
          "ename": "ModuleNotFoundError",
          "evalue": "No module named 'google'",
          "traceback": [
            "\u001b[1;31m---------------------------------------------------------------------------\u001b[0m",
            "\u001b[1;31mModuleNotFoundError\u001b[0m                       Traceback (most recent call last)",
            "\u001b[1;32m<ipython-input-9-d5df0069828e>\u001b[0m in \u001b[0;36m<module>\u001b[1;34m\u001b[0m\n\u001b[1;32m----> 1\u001b[1;33m \u001b[1;32mfrom\u001b[0m \u001b[0mgoogle\u001b[0m\u001b[1;33m.\u001b[0m\u001b[0mcolab\u001b[0m \u001b[1;32mimport\u001b[0m \u001b[0mdrive\u001b[0m\u001b[1;33m\u001b[0m\u001b[1;33m\u001b[0m\u001b[0m\n\u001b[0m\u001b[0;32m      2\u001b[0m \u001b[0mdrive\u001b[0m\u001b[1;33m.\u001b[0m\u001b[0mmount\u001b[0m\u001b[1;33m(\u001b[0m\u001b[1;34m'/content/drive'\u001b[0m\u001b[1;33m)\u001b[0m\u001b[1;33m\u001b[0m\u001b[1;33m\u001b[0m\u001b[0m\n",
            "\u001b[1;31mModuleNotFoundError\u001b[0m: No module named 'google'"
          ]
        }
      ]
    },
    {
      "cell_type": "code",
      "metadata": {
        "id": "-lASZLFit6im"
      },
      "source": [
        "# Gerando o Data Frame que vai carregar os dados importados\n",
        "df1 = pd.read_csv('/content/drive/MyDrive/Colab Notebooks/Estágio - IMT & NPL Brasil/Primeira Semana_cnnbrasil_tweets.csv', error_bad_lines=False)\n",
        "df2 = pd.read_csv('/content/drive/MyDrive/Colab Notebooks/Estágio - IMT & NPL Brasil/Primeira Semana_estadao_tweets.csv', error_bad_lines=False)\n",
        "df3 = pd.read_csv('/content/drive/MyDrive/Colab Notebooks/Estágio - IMT & NPL Brasil/Primeira Semana_folha_tweets.csv', error_bad_lines=False)\n",
        "df4 = pd.read_csv('/content/drive/MyDrive/Colab Notebooks/Estágio - IMT & NPL Brasil/Primeira Semana_jornaldobrasil_tweets.csv', error_bad_lines=False)\n",
        "df5 = pd.read_csv('/content/drive/MyDrive/Colab Notebooks/Estágio - IMT & NPL Brasil/Primeira Semana_nexojornal_tweets.csv', error_bad_lines=False)"
      ],
      "execution_count": null,
      "outputs": []
    },
    {
      "source": [
        "## **2.2 Via pasta local**\n"
      ],
      "cell_type": "markdown",
      "metadata": {}
    },
    {
      "cell_type": "code",
      "execution_count": 3,
      "metadata": {},
      "outputs": [],
      "source": [
        "df1 = pd.read_csv(r\"C:\\Users\\jcts1\\Desktop\\JEAN\\GitHub\\Machine-Learning-Projects\\Estágio\\Twitter\\Dados_Twitter_brutos\\cnnbrasil_tweets.csv\", error_bad_lines=False)\n",
        "df2 = pd.read_csv(r\"C:\\Users\\jcts1\\Desktop\\JEAN\\GitHub\\Machine-Learning-Projects\\Estágio\\Twitter\\Dados_Twitter_brutos\\estadao_tweets.csv\", error_bad_lines=False)\n",
        "df3 = pd.read_csv(r\"C:\\Users\\jcts1\\Desktop\\JEAN\\GitHub\\Machine-Learning-Projects\\Estágio\\Twitter\\Dados_Twitter_brutos\\estadao_tweets.csv\", error_bad_lines=False)\n",
        "df4 = pd.read_csv(r\"C:\\Users\\jcts1\\Desktop\\JEAN\\GitHub\\Machine-Learning-Projects\\Estágio\\Twitter\\Dados_Twitter_brutos\\jornaldobrasil_tweets.csv\", error_bad_lines=False)\n",
        "df5 = pd.read_csv(r\"C:\\Users\\jcts1\\Desktop\\JEAN\\GitHub\\Machine-Learning-Projects\\Estágio\\Twitter\\Dados_Twitter_brutos\\nexojornal_tweets.csv\", error_bad_lines=False)"
      ]
    },
    {
      "cell_type": "code",
      "metadata": {
        "id": "PWHtcD-9sgWm"
      },
      "source": [
        "df = df1.copy()\n",
        "df = pd.merge(df, df2, how='outer')\n",
        "df = pd.merge(df, df3, how='outer')\n",
        "df = pd.merge(df, df4, how='outer')\n",
        "df = pd.merge(df, df5, how='outer')"
      ],
      "execution_count": 4,
      "outputs": []
    },
    {
      "cell_type": "code",
      "metadata": {
        "colab": {
          "base_uri": "https://localhost:8080/",
          "height": 417
        },
        "id": "eipyF9nQuwhU",
        "outputId": "6aea4580-65bf-4601-a0e0-ae79ead22e5e"
      },
      "source": [
        "df"
      ],
      "execution_count": 5,
      "outputs": [
        {
          "output_type": "execute_result",
          "data": {
            "text/plain": [
              "                        id           created_at  \\\n",
              "0      1396860868957130755  2021-05-24 16:09:18   \n",
              "1      1396860373601427460  2021-05-24 16:07:20   \n",
              "2      1396860123868446720  2021-05-24 16:06:20   \n",
              "3      1396860068935749632  2021-05-24 16:06:07   \n",
              "4      1396858874125295617  2021-05-24 16:01:22   \n",
              "...                    ...                  ...   \n",
              "12985  1343270711117414400  2020-12-27 19:01:08   \n",
              "12986  1343255583504412672  2020-12-27 18:01:02   \n",
              "12987  1343240634199638017  2020-12-27 17:01:38   \n",
              "12988  1343225525003808768  2020-12-27 16:01:35   \n",
              "12989  1343210172970360838  2020-12-27 15:00:35   \n",
              "\n",
              "                                                    text  likes in reply to  \\\n",
              "0      Tremores de terra sacudiram Goma, na República...      7         NaN   \n",
              "1      O novo presidente do Equador, Guillermo Lasso,...     13         NaN   \n",
              "2      Novos dados sobre pesquisadores de Wuhan aumen...     39         NaN   \n",
              "3      RT @CNNBrBusiness: A Ericsson disse que pode o...      0         NaN   \n",
              "4      Aeroportos devem ser foco para conter a varian...     42         NaN   \n",
              "...                                                  ...    ...         ...   \n",
              "12985  Este conteúdo faz parte da #NexoEDUnoEnem - no...     26         NaN   \n",
              "12986  #AcessoLivre  | Ao longo do mês de dezembro, o...     19         NaN   \n",
              "12987  Este conteúdo faz parte da #NexoEDUnoEnem - no...     23         NaN   \n",
              "12988  [opinião] ‘O termo empreendedorismo nada mais ...     62         NaN   \n",
              "12989  Seleção #MaisLidasDoNexo entre os assinantes e...     56         NaN   \n",
              "\n",
              "      retweeted  \n",
              "0         False  \n",
              "1         False  \n",
              "2         False  \n",
              "3         False  \n",
              "4         False  \n",
              "...         ...  \n",
              "12985     False  \n",
              "12986     False  \n",
              "12987     False  \n",
              "12988     False  \n",
              "12989     False  \n",
              "\n",
              "[12990 rows x 6 columns]"
            ],
            "text/html": "<div>\n<style scoped>\n    .dataframe tbody tr th:only-of-type {\n        vertical-align: middle;\n    }\n\n    .dataframe tbody tr th {\n        vertical-align: top;\n    }\n\n    .dataframe thead th {\n        text-align: right;\n    }\n</style>\n<table border=\"1\" class=\"dataframe\">\n  <thead>\n    <tr style=\"text-align: right;\">\n      <th></th>\n      <th>id</th>\n      <th>created_at</th>\n      <th>text</th>\n      <th>likes</th>\n      <th>in reply to</th>\n      <th>retweeted</th>\n    </tr>\n  </thead>\n  <tbody>\n    <tr>\n      <th>0</th>\n      <td>1396860868957130755</td>\n      <td>2021-05-24 16:09:18</td>\n      <td>Tremores de terra sacudiram Goma, na República...</td>\n      <td>7</td>\n      <td>NaN</td>\n      <td>False</td>\n    </tr>\n    <tr>\n      <th>1</th>\n      <td>1396860373601427460</td>\n      <td>2021-05-24 16:07:20</td>\n      <td>O novo presidente do Equador, Guillermo Lasso,...</td>\n      <td>13</td>\n      <td>NaN</td>\n      <td>False</td>\n    </tr>\n    <tr>\n      <th>2</th>\n      <td>1396860123868446720</td>\n      <td>2021-05-24 16:06:20</td>\n      <td>Novos dados sobre pesquisadores de Wuhan aumen...</td>\n      <td>39</td>\n      <td>NaN</td>\n      <td>False</td>\n    </tr>\n    <tr>\n      <th>3</th>\n      <td>1396860068935749632</td>\n      <td>2021-05-24 16:06:07</td>\n      <td>RT @CNNBrBusiness: A Ericsson disse que pode o...</td>\n      <td>0</td>\n      <td>NaN</td>\n      <td>False</td>\n    </tr>\n    <tr>\n      <th>4</th>\n      <td>1396858874125295617</td>\n      <td>2021-05-24 16:01:22</td>\n      <td>Aeroportos devem ser foco para conter a varian...</td>\n      <td>42</td>\n      <td>NaN</td>\n      <td>False</td>\n    </tr>\n    <tr>\n      <th>...</th>\n      <td>...</td>\n      <td>...</td>\n      <td>...</td>\n      <td>...</td>\n      <td>...</td>\n      <td>...</td>\n    </tr>\n    <tr>\n      <th>12985</th>\n      <td>1343270711117414400</td>\n      <td>2020-12-27 19:01:08</td>\n      <td>Este conteúdo faz parte da #NexoEDUnoEnem - no...</td>\n      <td>26</td>\n      <td>NaN</td>\n      <td>False</td>\n    </tr>\n    <tr>\n      <th>12986</th>\n      <td>1343255583504412672</td>\n      <td>2020-12-27 18:01:02</td>\n      <td>#AcessoLivre  | Ao longo do mês de dezembro, o...</td>\n      <td>19</td>\n      <td>NaN</td>\n      <td>False</td>\n    </tr>\n    <tr>\n      <th>12987</th>\n      <td>1343240634199638017</td>\n      <td>2020-12-27 17:01:38</td>\n      <td>Este conteúdo faz parte da #NexoEDUnoEnem - no...</td>\n      <td>23</td>\n      <td>NaN</td>\n      <td>False</td>\n    </tr>\n    <tr>\n      <th>12988</th>\n      <td>1343225525003808768</td>\n      <td>2020-12-27 16:01:35</td>\n      <td>[opinião] ‘O termo empreendedorismo nada mais ...</td>\n      <td>62</td>\n      <td>NaN</td>\n      <td>False</td>\n    </tr>\n    <tr>\n      <th>12989</th>\n      <td>1343210172970360838</td>\n      <td>2020-12-27 15:00:35</td>\n      <td>Seleção #MaisLidasDoNexo entre os assinantes e...</td>\n      <td>56</td>\n      <td>NaN</td>\n      <td>False</td>\n    </tr>\n  </tbody>\n</table>\n<p>12990 rows × 6 columns</p>\n</div>"
          },
          "metadata": {},
          "execution_count": 5
        }
      ]
    },
    {
      "cell_type": "markdown",
      "metadata": {
        "id": "7LdAfGYBbDwI"
      },
      "source": [
        "## **2.1 Reconhecimento dos dados (Drive)**"
      ]
    },
    {
      "cell_type": "code",
      "metadata": {
        "colab": {
          "base_uri": "https://localhost:8080/"
        },
        "id": "twmG43b62maL",
        "outputId": "11ffbfa7-700d-4bac-b9be-9c1f4faf708f"
      },
      "source": [
        "df.columns                            # Informação de quais são as colunas do Data Frame, e também, como estão nomeadas"
      ],
      "execution_count": 25,
      "outputs": [
        {
          "output_type": "execute_result",
          "data": {
            "text/plain": [
              "Index(['id', 'created_at', 'text', 'likes', 'in reply to', 'retweeted'], dtype='object')"
            ]
          },
          "metadata": {},
          "execution_count": 25
        }
      ]
    },
    {
      "cell_type": "code",
      "metadata": {
        "id": "Q-OE1w_yTA6c",
        "colab": {
          "base_uri": "https://localhost:8080/",
          "height": 35
        },
        "outputId": "dbc329dd-081b-4be1-960b-831c5a07fd25"
      },
      "source": [
        "df['text'][16239]"
      ],
      "execution_count": 26,
      "outputs": [
        {
          "output_type": "execute_result",
          "data": {
            "text/plain": [
              "'Seleção #MaisLidasDoNexo entre os assinantes em 2020. Este conteúdo está com #acessolivre por tempo limitado. Aprov… https://t.co/AqiKEs3r0y'"
            ]
          },
          "metadata": {},
          "execution_count": 26
        }
      ]
    },
    {
      "cell_type": "code",
      "metadata": {
        "colab": {
          "base_uri": "https://localhost:8080/",
          "height": 295
        },
        "id": "5P-RliJe8E8C",
        "outputId": "ef5b7df7-6c69-4766-f2f5-0444d7e86207"
      },
      "source": [
        "df.describe()                         # Informações sobre as colunas númericas apenas"
      ],
      "execution_count": 27,
      "outputs": [
        {
          "output_type": "execute_result",
          "data": {
            "text/plain": [
              "                 id         likes\n",
              "count  1.624000e+04  16240.000000\n",
              "mean   1.386219e+18    119.514039\n",
              "std    1.437718e+16    626.234042\n",
              "min    1.343210e+18      0.000000\n",
              "25%    1.378539e+18      0.000000\n",
              "50%    1.393203e+18     26.000000\n",
              "75%    1.395813e+18     74.000000\n",
              "max    1.399359e+18  23462.000000"
            ],
            "text/html": "<div>\n<style scoped>\n    .dataframe tbody tr th:only-of-type {\n        vertical-align: middle;\n    }\n\n    .dataframe tbody tr th {\n        vertical-align: top;\n    }\n\n    .dataframe thead th {\n        text-align: right;\n    }\n</style>\n<table border=\"1\" class=\"dataframe\">\n  <thead>\n    <tr style=\"text-align: right;\">\n      <th></th>\n      <th>id</th>\n      <th>likes</th>\n    </tr>\n  </thead>\n  <tbody>\n    <tr>\n      <th>count</th>\n      <td>1.624000e+04</td>\n      <td>16240.000000</td>\n    </tr>\n    <tr>\n      <th>mean</th>\n      <td>1.386219e+18</td>\n      <td>119.514039</td>\n    </tr>\n    <tr>\n      <th>std</th>\n      <td>1.437718e+16</td>\n      <td>626.234042</td>\n    </tr>\n    <tr>\n      <th>min</th>\n      <td>1.343210e+18</td>\n      <td>0.000000</td>\n    </tr>\n    <tr>\n      <th>25%</th>\n      <td>1.378539e+18</td>\n      <td>0.000000</td>\n    </tr>\n    <tr>\n      <th>50%</th>\n      <td>1.393203e+18</td>\n      <td>26.000000</td>\n    </tr>\n    <tr>\n      <th>75%</th>\n      <td>1.395813e+18</td>\n      <td>74.000000</td>\n    </tr>\n    <tr>\n      <th>max</th>\n      <td>1.399359e+18</td>\n      <td>23462.000000</td>\n    </tr>\n  </tbody>\n</table>\n</div>"
          },
          "metadata": {},
          "execution_count": 27
        }
      ]
    },
    {
      "cell_type": "markdown",
      "metadata": {
        "id": "pIW1dSrQMtGH"
      },
      "source": [
        "# **3. Pre-processamento dos dados**"
      ]
    },
    {
      "cell_type": "markdown",
      "metadata": {
        "id": "iXfNFPb0PK4V"
      },
      "source": [
        "## **3.1 Utilizando artifícios de programação**"
      ]
    },
    {
      "cell_type": "code",
      "metadata": {
        "colab": {
          "base_uri": "https://localhost:8080/",
          "height": 203
        },
        "id": "zg7AmxuvEFx8",
        "outputId": "5686db4d-17e3-454a-fd96-fd4b8d9f3a97"
      },
      "source": [
        "### Copiando o Data Frame para poder fazer manipulações sem alterá-lo\n",
        "\n",
        "df_copy = df.copy()\n",
        "df_copy.head()"
      ],
      "execution_count": 74,
      "outputs": [
        {
          "output_type": "execute_result",
          "data": {
            "text/plain": [
              "                    id           created_at  \\\n",
              "0  1396860868957130755  2021-05-24 16:09:18   \n",
              "1  1396860373601427460  2021-05-24 16:07:20   \n",
              "2  1396860123868446720  2021-05-24 16:06:20   \n",
              "3  1396860068935749632  2021-05-24 16:06:07   \n",
              "4  1396858874125295617  2021-05-24 16:01:22   \n",
              "\n",
              "                                                text  likes in reply to  \\\n",
              "0  Tremores de terra sacudiram Goma, na República...      7         NaN   \n",
              "1  O novo presidente do Equador, Guillermo Lasso,...     13         NaN   \n",
              "2  Novos dados sobre pesquisadores de Wuhan aumen...     39         NaN   \n",
              "3  RT @CNNBrBusiness: A Ericsson disse que pode o...      0         NaN   \n",
              "4  Aeroportos devem ser foco para conter a varian...     42         NaN   \n",
              "\n",
              "  retweeted  \n",
              "0     False  \n",
              "1     False  \n",
              "2     False  \n",
              "3     False  \n",
              "4     False  "
            ],
            "text/html": "<div>\n<style scoped>\n    .dataframe tbody tr th:only-of-type {\n        vertical-align: middle;\n    }\n\n    .dataframe tbody tr th {\n        vertical-align: top;\n    }\n\n    .dataframe thead th {\n        text-align: right;\n    }\n</style>\n<table border=\"1\" class=\"dataframe\">\n  <thead>\n    <tr style=\"text-align: right;\">\n      <th></th>\n      <th>id</th>\n      <th>created_at</th>\n      <th>text</th>\n      <th>likes</th>\n      <th>in reply to</th>\n      <th>retweeted</th>\n    </tr>\n  </thead>\n  <tbody>\n    <tr>\n      <th>0</th>\n      <td>1396860868957130755</td>\n      <td>2021-05-24 16:09:18</td>\n      <td>Tremores de terra sacudiram Goma, na República...</td>\n      <td>7</td>\n      <td>NaN</td>\n      <td>False</td>\n    </tr>\n    <tr>\n      <th>1</th>\n      <td>1396860373601427460</td>\n      <td>2021-05-24 16:07:20</td>\n      <td>O novo presidente do Equador, Guillermo Lasso,...</td>\n      <td>13</td>\n      <td>NaN</td>\n      <td>False</td>\n    </tr>\n    <tr>\n      <th>2</th>\n      <td>1396860123868446720</td>\n      <td>2021-05-24 16:06:20</td>\n      <td>Novos dados sobre pesquisadores de Wuhan aumen...</td>\n      <td>39</td>\n      <td>NaN</td>\n      <td>False</td>\n    </tr>\n    <tr>\n      <th>3</th>\n      <td>1396860068935749632</td>\n      <td>2021-05-24 16:06:07</td>\n      <td>RT @CNNBrBusiness: A Ericsson disse que pode o...</td>\n      <td>0</td>\n      <td>NaN</td>\n      <td>False</td>\n    </tr>\n    <tr>\n      <th>4</th>\n      <td>1396858874125295617</td>\n      <td>2021-05-24 16:01:22</td>\n      <td>Aeroportos devem ser foco para conter a varian...</td>\n      <td>42</td>\n      <td>NaN</td>\n      <td>False</td>\n    </tr>\n  </tbody>\n</table>\n</div>"
          },
          "metadata": {},
          "execution_count": 74
        }
      ]
    },
    {
      "cell_type": "markdown",
      "metadata": {
        "id": "Y3SvrPZXzLeA"
      },
      "source": [
        "### **3.1.1 Retirar: links, emails e etc**"
      ]
    },
    {
      "cell_type": "code",
      "metadata": {
        "colab": {
          "base_uri": "https://localhost:8080/"
        },
        "id": "DStr15GK5Jnr",
        "outputId": "85983520-8ab6-4660-e1f0-121815536115"
      },
      "source": [
        "### Uma vez que foi analisada a presença de links nos textos, eles não são interessantes, portanto serão retirados \n",
        "\n",
        "import re                                                                                 # Modulo de Regular Expressions\n",
        "\n",
        "df_copy['text'] = df_copy['text'].apply(lambda x: re.sub(r\"(?:\\@|https?\\://)\\S+\", \"\", x)) # Regular expression que retira links|e-mails  \n",
        "\n",
        "print(df['text'][16239])\n",
        "print(df_copy['text'][16239])"
      ],
      "execution_count": 55,
      "outputs": [
        {
          "output_type": "stream",
          "name": "stdout",
          "text": [
            "Seleção #MaisLidasDoNexo entre os assinantes em 2020. Este conteúdo está com #acessolivre por tempo limitado. Aprov… https://t.co/AqiKEs3r0y\nSeleção #MaisLidasDoNexo entre os assinantes em . Este conteúdo está com #acessolivre por tempo limitado. Aprov… \n"
          ]
        }
      ]
    },
    {
      "cell_type": "markdown",
      "metadata": {
        "id": "J8-anMk6Obl2"
      },
      "source": [
        "### **3.1.2 Retirar: quebras de linhas e colchetes**"
      ]
    },
    {
      "cell_type": "code",
      "metadata": {
        "id": "QS7dORb8Obl3",
        "colab": {
          "base_uri": "https://localhost:8080/"
        },
        "outputId": "f194d6d8-467e-4f3e-fd93-8cb2b3cf2b70"
      },
      "source": [
        "i = 0\n",
        "for i in range(len(df['text'])):\n",
        "  texto = df_copy['text'][i]\n",
        "  texto = texto.rstrip('\\n')\n",
        "  texto = texto.replace(\"[\", \"\")\n",
        "  texto = texto.replace(\"]\", \"\")\n",
        "  texto = texto.replace('\"', '')\n",
        "  texto = texto.replace(\"'\", \"\")\n",
        "  df_copy['text'][i] = texto\n",
        "\n",
        "print(df['text'][16238])\n",
        "print(df_copy['text'][16238])"
      ],
      "execution_count": 72,
      "outputs": [
        {
          "output_type": "stream",
          "name": "stderr",
          "text": [
            "<ipython-input-72-dd2af55fbd66>:9: SettingWithCopyWarning: \n",
            "A value is trying to be set on a copy of a slice from a DataFrame\n",
            "\n",
            "See the caveats in the documentation: https://pandas.pydata.org/pandas-docs/stable/user_guide/indexing.html#returning-a-view-versus-a-copy\n",
            "  df_copy['text'][i] = texto\n",
            "[opinião] ‘O termo empreendedorismo nada mais é do que a expressão invertida da eliminação de qualquer rede de prot… https://t.co/ycvsClSmTI\n",
            "opinião ‘O termo empreendedorismo nada mais é do que a expressão invertida da eliminação de qualquer rede de prot… https://t.co/ycvsClSmTI\n"
          ]
        }
      ]
    },
    {
      "cell_type": "markdown",
      "metadata": {
        "id": "A-ZDlRY7Oa_k"
      },
      "source": [
        "### **3.1.3 Retirar: datas, numeros e informações numéricas de maneira geral**"
      ]
    },
    {
      "cell_type": "code",
      "metadata": {
        "id": "ZQyyirLUdoWc"
      },
      "source": [
        "import re          # Modulo de Regular Expressions\n",
        "\n",
        "# Regular expression que retira informações numéricas\n",
        "df_copy['text'] = df_copy['text'].apply(lambda x: re.sub(r\"[0-9]\", \"\", x))"
      ],
      "execution_count": 43,
      "outputs": []
    },
    {
      "cell_type": "code",
      "metadata": {
        "colab": {
          "base_uri": "https://localhost:8080/"
        },
        "id": "W5X6rMqWdoWc",
        "outputId": "5acdcc45-082c-4eae-ff4b-65a06fa23bc5"
      },
      "source": [
        "### Note o 24, agora não existe mais!\n",
        "\n",
        "print(df['text'][1])\n",
        "print(df_copy['text'][1])"
      ],
      "execution_count": 56,
      "outputs": [
        {
          "output_type": "stream",
          "name": "stdout",
          "text": [
            "O novo presidente do Equador, Guillermo Lasso, foi empossado nesta segunda-feira (24) em na capital Quito. A cerimô… https://t.co/0BvvUmeO1x\nO novo presidente do Equador, Guillermo Lasso, foi empossado nesta segunda-feira () em na capital Quito. A cerimô… \n"
          ]
        }
      ]
    },
    {
      "cell_type": "markdown",
      "metadata": {
        "id": "99oTOBY2ObRK"
      },
      "source": [
        "### **3.1.4 Retirar: caracteres especiais**"
      ]
    },
    {
      "cell_type": "code",
      "metadata": {
        "id": "k3FD69sCObIS",
        "colab": {
          "base_uri": "https://localhost:8080/"
        },
        "outputId": "bc828fdb-79e3-4a4d-d9b8-3c74840892f9"
      },
      "source": [
        "import string\n",
        "punctuation_list = [' ']\n",
        "for punc in string.punctuation:\n",
        "  punctuation_list.append(punc)\n",
        "print(\"Os caracteres especiais são: \",string.punctuation) "
      ],
      "execution_count": null,
      "outputs": []
    },
    {
      "cell_type": "code",
      "metadata": {
        "id": "gy4KgzHZXz_C"
      },
      "source": [
        "import re          # Modulo de Regular Expressions\n",
        "\n",
        "# Regular expression que retira caracteres especiais\n",
        "df_copy['text'] = df_copy['text'].apply(lambda x: re.sub(r\"[!#$%&'\"\"()*+,-./:;<=>?@\\‘^_`{|}~]\", \"\", x))"
      ],
      "execution_count": null,
      "outputs": []
    },
    {
      "cell_type": "code",
      "metadata": {
        "colab": {
          "base_uri": "https://localhost:8080/"
        },
        "id": "z-UWOiq4caTC",
        "outputId": "45d5f8c7-ec97-4f03-e29a-c5ad20d01f2e"
      },
      "source": [
        "### Note que no 24 havia parentese, agora não há mais!\n",
        "\n",
        "print(df['text'][16238])\n",
        "print(df_copy['text'][16238])"
      ],
      "execution_count": null,
      "outputs": []
    },
    {
      "cell_type": "code",
      "metadata": {
        "id": "tbtDWrHQCUEC"
      },
      "source": [],
      "execution_count": null,
      "outputs": []
    },
    {
      "cell_type": "markdown",
      "metadata": {
        "id": "o1UbURWKObyz"
      },
      "source": [
        "### **3.1.6 Analisar: lógica Fuzzy**"
      ]
    },
    {
      "cell_type": "code",
      "metadata": {
        "id": "JoZU8UJCCc-y"
      },
      "source": [],
      "execution_count": null,
      "outputs": []
    },
    {
      "cell_type": "markdown",
      "metadata": {
        "id": "0Nsu6eQ4Obb3"
      },
      "source": [
        "### **3.1.5 Corrigir erros de ortografia**"
      ]
    },
    {
      "cell_type": "code",
      "metadata": {
        "id": "5piz8LztCY3w"
      },
      "source": [],
      "execution_count": null,
      "outputs": []
    },
    {
      "cell_type": "markdown",
      "metadata": {
        "id": "RtntDrJy2PGh"
      },
      "source": [
        "## **3.2 Testes utiliziando bibliotecas**\n"
      ]
    },
    {
      "cell_type": "markdown",
      "metadata": {
        "id": "GhsZAzyuNZdG"
      },
      "source": [
        "### **3.2.1 CountVectorizer**"
      ]
    },
    {
      "cell_type": "markdown",
      "metadata": {
        "id": "egm-Mmzh19L9"
      },
      "source": [
        "https://scikit-learn.org/stable/modules/generated/sklearn.feature_extraction.text.CountVectorizer.html\n"
      ]
    },
    {
      "cell_type": "code",
      "metadata": {
        "colab": {
          "base_uri": "https://localhost:8080/"
        },
        "id": "RCCV2Yao2qoP",
        "outputId": "cc0f77b8-4a09-4ff8-c149-c1f64b5cb503"
      },
      "source": [
        "from sklearn.feature_extraction.text import CountVectorizer\n",
        "\n",
        "### Universo de palavras - corpus\n",
        "\n",
        "corpus      =  np.array(df_final['text'])                 # Gerando uma sequência de textos(conteúdo dos Tweets). Isso é necessário para o Vectorizer\n",
        "\n",
        "### Criação da funcionalidade\n",
        "\n",
        "vectorizer_cv  =   CountVectorizer()                  \n",
        "countvec       =   vectorizer_cv.fit_transform(corpus)    # Numera quantas vezes uma palavra aprendida (após analisar toda a coluna) aparece em uma instância (mensagem)\n",
        "array_vec      =   countvec.toarray()                  # Matriz de arrays com número de aparições de uma palavra aprendida em uma determinada mensagem\n",
        "words_lrnd     =   vectorizer_cv.get_feature_names()      # Palavras aprendidas com os dados \n",
        "\n",
        "print(words_lrnd[9532:9540])                        # Amostra de algumas palavras aprendidas"
      ],
      "execution_count": null,
      "outputs": []
    },
    {
      "cell_type": "code",
      "metadata": {
        "colab": {
          "base_uri": "https://localhost:8080/",
          "height": 35
        },
        "id": "vuUzIPo-4bgs",
        "outputId": "a6cf2914-fe8e-4713-fb13-b79f34450ffd"
      },
      "source": [
        "### Amostra do conteúdo passado como texto.\n",
        "### Nota-se que junto aos textos são passados links, possivelmente e-mails.\n",
        "df['text'][0]"
      ],
      "execution_count": null,
      "outputs": []
    },
    {
      "cell_type": "code",
      "metadata": {
        "colab": {
          "base_uri": "https://localhost:8080/"
        },
        "id": "OJ_nr5zn46LV",
        "outputId": "c44b8023-abcb-4b96-bab7-b79229ea665d"
      },
      "source": [
        "print(vectorizer_cv.vocabulary_)       # Apresenta um dicionário com as palavras e o numero delas dentro do vocabulário \n",
        "\n",
        "print(\"O número de aparições da palavra 'tremores' dentro dessa mensagem é: {}\".format(array_vec[0][22033]))"
      ],
      "execution_count": null,
      "outputs": []
    },
    {
      "cell_type": "markdown",
      "metadata": {
        "id": "JCx_ppN3Na-J"
      },
      "source": [
        "### **3.2.2 TfidfVectorizer**\n"
      ]
    },
    {
      "cell_type": "markdown",
      "metadata": {
        "id": "WhkTo-8j2NtC"
      },
      "source": [
        "https://scikit-learn.org/stable/modules/generated/sklearn.feature_extraction.text.TfidfVectorizer.html\n"
      ]
    },
    {
      "cell_type": "code",
      "metadata": {
        "id": "N-USzfOIN_04",
        "colab": {
          "base_uri": "https://localhost:8080/"
        },
        "outputId": "406efd54-55c6-47ab-c3a7-cd0352a9f4c4"
      },
      "source": [
        "### TfidfVectorizer é melhor para datasets maiores(muito grandes), além disso possui mais features para stop_words, lowercase, frequency e etc.\n",
        "from sklearn.feature_extraction.text import TfidfVectorizer\n",
        "\n",
        "vectorizer_tf   =   TfidfVectorizer(min_df=1)\n",
        "tfidfvec        =   vectorizer_tf.fit_transform(corpus)   # Contabiliza a frequencia de uma palavra dentro de uma mensagem em relação a quantas aparições no total ela tem\n",
        "array_vec       =   tfidfvec.toarray()                    # Matriz de arrays com as frequências de uma palavra aprendida em uma determinada mensagem\n",
        "words_lrnd2     =   vectorizer_tf.get_feature_names()     # Palavras aprendidas com os dados \n",
        "\n",
        "print(words_lrnd2[9532:9540])        "
      ],
      "execution_count": null,
      "outputs": []
    },
    {
      "cell_type": "code",
      "metadata": {
        "colab": {
          "base_uri": "https://localhost:8080/"
        },
        "id": "inlo6BU2OiC5",
        "outputId": "abca1199-8d31-4b6a-a1d1-36354217c429"
      },
      "source": [
        "print(vectorizer_tf.vocabulary_)       # Apresenta um dicionário com as palavras e o numero delas dentro do vocabulário \n",
        "\n",
        "print(\"A frequência de aparições da palavra 'tremores' dentro dessa mensagem é: {}%\".format(round(100*(array_vec[0][22033]),2)))"
      ],
      "execution_count": null,
      "outputs": []
    },
    {
      "cell_type": "markdown",
      "metadata": {
        "id": "ZZI2-_8JbeTd"
      },
      "source": [
        "### **3.2.3 Pontos que as bibliotecas podem desenvolver**"
      ]
    },
    {
      "cell_type": "markdown",
      "metadata": {
        "id": "35DWdjh3b-q-"
      },
      "source": [
        "**- Corrige palavras iguais escritas de maneiras diferentes. Ex: Maradona vs MarADOna**"
      ]
    },
    {
      "cell_type": "markdown",
      "metadata": {
        "id": "U_tT4J_cdase"
      },
      "source": [
        "**- Retira pontuações e espaços**"
      ]
    },
    {
      "cell_type": "markdown",
      "metadata": {
        "id": "CQu35Q0Cb-rA"
      },
      "source": [
        "**- Retira palavras com frequencia muito alta ou muito baixa**"
      ]
    },
    {
      "cell_type": "code",
      "metadata": {
        "colab": {
          "base_uri": "https://localhost:8080/"
        },
        "id": "OmC3jtbib-rC",
        "outputId": "6e3d971e-e1d8-485f-90a3-429238cfa3d7"
      },
      "source": [
        "### Analisa as mensagens (documentos) exclui todas as palavras que aparecem em menos de 2 documentos\n",
        "### Baixa frequência\n",
        "\n",
        "vectors1       = CountVectorizer(min_df = 2)              # Se numero inteiro, aparentemente é considerada a contagem da palavra, já se for numero entre 0 e 1,\n",
        "                                                          # a porcentagem de documentos em que a palavra apareceu.  \n",
        "count_vectors1 = vectors1.fit_transform(corpus)\n",
        "print(\"\\nvocabulario 1: \",vectors1.vocabulary_)\n",
        "print(\"\\nshape do vocabulario 1:1 \",count_vectors1.shape)"
      ],
      "execution_count": null,
      "outputs": []
    },
    {
      "cell_type": "code",
      "metadata": {
        "colab": {
          "base_uri": "https://localhost:8080/"
        },
        "id": "eLdAJ_bDFIMI",
        "outputId": "20aa1ef8-8982-4da2-8c2b-7c497e6c2a67"
      },
      "source": [
        "### Ignorar palavras que aparecem muito - acima de 50% dos documentos\n",
        "### alta frequência + baixa frequência\n",
        "\n",
        "vectors2 = TfidfVectorizer(min_df = 2, max_df = 0.4)\n",
        "count_vectors2 = vectors2.fit_transform(corpus)\n",
        "print(\"\\nvocabulario 2: \",vectors2.vocabulary_)\n",
        "print(\"\\nshape do vocabulario 2: \",count_vectors2.shape)"
      ],
      "execution_count": null,
      "outputs": []
    },
    {
      "cell_type": "code",
      "metadata": {
        "colab": {
          "base_uri": "https://localhost:8080/"
        },
        "id": "q6yu_p_tb-rE",
        "outputId": "e367477e-c2d5-4b06-9382-00116b4aa89b"
      },
      "source": [
        "### Ignorar palavras que aparecem muito - acima de 50% dos documentos\n",
        "### alta frequência + baixa frequência + ngrams --> , ngram_range(3,4) ?\n",
        "\n",
        "vectors3 = CountVectorizer(min_df = 2, max_df = 0.5, ngram_range=(3,4))\n",
        "count_vectors3 = vectors3.fit_transform(corpus)\n",
        "print(\"\\nvocabulario 3: \",vectors3.vocabulary_)\n",
        "print(\"\\nshape do vocabulario 3: \",count_vectors3.shape)"
      ],
      "execution_count": null,
      "outputs": []
    },
    {
      "cell_type": "code",
      "metadata": {
        "colab": {
          "base_uri": "https://localhost:8080/"
        },
        "id": "Qr8CQdFkF3P_",
        "outputId": "e4222e0f-456a-4e90-9e75-45d1f0639030"
      },
      "source": [
        "### Ignorar palavras que aparecem muito - acima de 50% dos documentos\n",
        "### alta frequência + baixa frequência + numero de palavras\n",
        "\n",
        "vectors4 = CountVectorizer(min_df = 2, max_df = 0.5, max_features = 1000)\n",
        "count_vectors4 = vectors4.fit_transform(corpus)\n",
        "print(\"\\nvocabulario 4: \",vectors4.vocabulary_)\n",
        "print(\"\\nshape do vocabulario 4: \",count_vectors4.shape)"
      ],
      "execution_count": null,
      "outputs": []
    },
    {
      "cell_type": "markdown",
      "metadata": {
        "id": "bq9U5ivbb-rF"
      },
      "source": [
        "**- Retira palavras iguais a pronomes, preposição, artigos definidos e indefinidos**"
      ]
    },
    {
      "cell_type": "code",
      "metadata": {
        "colab": {
          "base_uri": "https://localhost:8080/"
        },
        "id": "cegxAIjpb-rH",
        "outputId": "3b771d71-60e0-4067-9d47-dd475f9f8120"
      },
      "source": [
        "### A princípio é necessário de um dicionário que já tenha esse conjunto de palavras ou utilizar a NLTK que possui alguns\n",
        "from nltk.corpus import stopwords\n",
        "import nltk\n",
        "\n",
        "nltk.download('stopwords')\n",
        "language = \"portuguese\"\n",
        "\n",
        "print(stopwords.words(language))\n",
        "\n",
        "for word in stopwords.words(language):\n",
        "    print (word) "
      ],
      "execution_count": null,
      "outputs": []
    },
    {
      "cell_type": "code",
      "metadata": {
        "colab": {
          "base_uri": "https://localhost:8080/"
        },
        "id": "g6gfbFLqb-rI",
        "outputId": "5e5108d8-a448-4e4e-9525-7fcfe0c98679"
      },
      "source": [
        "stopwords_list  = stopwords.words(language)\n",
        "vectors5        = CountVectorizer(stop_words=stopwords_list)\n",
        "count_vectors5  = vectors5.fit_transform(corpus)\n",
        "print(vectors5.vocabulary_)\n",
        "print(count_vectors5.shape)"
      ],
      "execution_count": null,
      "outputs": []
    },
    {
      "cell_type": "markdown",
      "metadata": {
        "id": "qNPWrPDyQp6D"
      },
      "source": [
        "# **4. Preparação dos dados**"
      ]
    },
    {
      "cell_type": "markdown",
      "metadata": {
        "id": "OH0YxAQDRAhj"
      },
      "source": [
        "## **4.1 Classificação dos textos**"
      ]
    },
    {
      "cell_type": "code",
      "metadata": {
        "id": "4G1C7rPQ8N-w"
      },
      "source": [
        "#### Classificando os tweets em 3 categorias determinadas pelo número de likes\n",
        "\n",
        "tsh1 = 32.00000 + 150.546769\n",
        "tsh2 = 32.00000"
      ],
      "execution_count": null,
      "outputs": []
    },
    {
      "cell_type": "code",
      "metadata": {
        "id": "jqSLZyHk8_ey"
      },
      "source": [
        "df_copy['likes_faixa'] = df_copy['likes'].apply(lambda x: 1 if (x > tsh1)\n",
        "                                                    else (0 if (x > tsh2)\n",
        "                                                    else -1))"
      ],
      "execution_count": null,
      "outputs": []
    },
    {
      "cell_type": "code",
      "metadata": {
        "colab": {
          "base_uri": "https://localhost:8080/",
          "height": 417
        },
        "id": "r9GpCV5t9f99",
        "outputId": "65f3ff4f-0514-4001-e9c4-becbfee4ad57"
      },
      "source": [
        "df_copy"
      ],
      "execution_count": null,
      "outputs": []
    },
    {
      "cell_type": "code",
      "metadata": {
        "id": "v-50k-hEIstA"
      },
      "source": [
        "### Usando OneHotEnconder para melhorar a classificação dos modelos de Machine Learning\n",
        "from sklearn.preprocessing import OneHotEncoder\n",
        "\n",
        "df_ohc = df_copy[['retweeted']]\n",
        "\n",
        "#Criando meu encoder\n",
        "enc = OneHotEncoder(handle_unknown='ignore', sparse=False)\n",
        "enc.fit(df_ohc)\n",
        "\n",
        "# Transformando texto em numero\n",
        "XX_text = enc.transform(df_ohc)\n",
        "\n",
        "# Criando DataFrame texto -> numerico\n",
        "df_ohc = pd.DataFrame(XX_text, columns=enc.get_feature_names(df_ohc.columns))"
      ],
      "execution_count": null,
      "outputs": []
    },
    {
      "cell_type": "code",
      "metadata": {
        "colab": {
          "base_uri": "https://localhost:8080/",
          "height": 417
        },
        "id": "Aa2dxQ5UKqyn",
        "outputId": "54bfdce4-603b-4bac-e51e-a24a87d562be"
      },
      "source": [
        "df_ohc      #Não é necessário utilizar uma vez que só há uma categoria"
      ],
      "execution_count": null,
      "outputs": []
    },
    {
      "cell_type": "code",
      "metadata": {
        "id": "N8AEG0unK_Z-"
      },
      "source": [
        "df_final = df_copy[['text', 'likes_faixa']]"
      ],
      "execution_count": null,
      "outputs": []
    },
    {
      "cell_type": "code",
      "metadata": {
        "colab": {
          "base_uri": "https://localhost:8080/",
          "height": 417
        },
        "id": "_YiGjHPfXNVW",
        "outputId": "9342dff0-4081-4dde-d664-46312cfb33ec"
      },
      "source": [
        "df_final"
      ],
      "execution_count": null,
      "outputs": []
    },
    {
      "cell_type": "code",
      "metadata": {
        "id": "sRQ3-TCJMwoW"
      },
      "source": [
        "path = '/content/drive/MyDrive/Colab Notebooks/Estágio - IMT & NPL Brasil/Notebooks'\n",
        "df_final.to_csv(os.path.join(path,r'DataFrame_final_Twitter.csv'), index=False)"
      ],
      "execution_count": null,
      "outputs": []
    }
  ]
}