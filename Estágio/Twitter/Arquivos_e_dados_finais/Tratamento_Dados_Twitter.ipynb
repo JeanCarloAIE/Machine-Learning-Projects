{
  "nbformat": 4,
  "nbformat_minor": 0,
  "metadata": {
    "colab": {
      "name": "Tratamento_Dados_Twitter.ipynb",
      "provenance": [],
      "collapsed_sections": [
        "Y3SvrPZXzLeA",
        "J8-anMk6Obl2",
        "A-ZDlRY7Oa_k",
        "0Nsu6eQ4Obb3",
        "JCx_ppN3Na-J",
        "ZZI2-_8JbeTd"
      ],
      "include_colab_link": true
    },
    "kernelspec": {
      "name": "python390jvsc74a57bd00d61aa711e3a9418ac9613b8f6815164376e3ce3e5e4fbdb5bee1906f224ab66",
      "display_name": "Python 3.9.0 64-bit"
    },
    "language_info": {
      "name": "python",
      "version": "3.9.0"
    },
    "metadata": {
      "interpreter": {
        "hash": "0d61aa711e3a9418ac9613b8f6815164376e3ce3e5e4fbdb5bee1906f224ab66"
      }
    }
  },
  "cells": [
    {
      "cell_type": "markdown",
      "metadata": {
        "id": "view-in-github",
        "colab_type": "text"
      },
      "source": [
        "<a href=\"https://colab.research.google.com/github/JeanCarloTS/Machine-Learning-Projects/blob/main/Est%C3%A1gio/Tratamento_Dados_Twitter.ipynb\" target=\"_parent\"><img src=\"https://colab.research.google.com/assets/colab-badge.svg\" alt=\"Open In Colab\"/></a>"
      ]
    },
    {
      "cell_type": "markdown",
      "metadata": {
        "id": "x6h9aCaArG2z"
      },
      "source": [
        "# **1. Bibliotecas**"
      ]
    },
    {
      "cell_type": "code",
      "metadata": {
        "id": "oZEDTcqwq0lh"
      },
      "source": [
        "import pandas as pd                   # manipulação de base de dados\n",
        "import numpy as np                    # manipulação numérica\n",
        "import seaborn as sns                 # manipulação gráfica\n",
        "import matplotlib.pyplot as plt       # manipulação gráfica"
      ],
      "execution_count": 75,
      "outputs": []
    },
    {
      "cell_type": "markdown",
      "metadata": {
        "id": "IX6lkuYkKuoC"
      },
      "source": [
        "# **2. Importação dos dados**"
      ]
    },
    {
      "source": [
        "## **2.1 Via Google Drive**"
      ],
      "cell_type": "markdown",
      "metadata": {}
    },
    {
      "cell_type": "code",
      "metadata": {
        "colab": {
          "base_uri": "https://localhost:8080/"
        },
        "id": "njNwsiB4K0bI",
        "outputId": "0153905c-6c4a-4568-feb9-e7a1f6ce6ad4"
      },
      "source": [
        "from google.colab import drive\n",
        "drive.mount('/content/drive')"
      ],
      "execution_count": 76,
      "outputs": [
        {
          "output_type": "error",
          "ename": "ModuleNotFoundError",
          "evalue": "No module named 'google'",
          "traceback": [
            "\u001b[1;31m---------------------------------------------------------------------------\u001b[0m",
            "\u001b[1;31mModuleNotFoundError\u001b[0m                       Traceback (most recent call last)",
            "\u001b[1;32m<ipython-input-76-d5df0069828e>\u001b[0m in \u001b[0;36m<module>\u001b[1;34m\u001b[0m\n\u001b[1;32m----> 1\u001b[1;33m \u001b[1;32mfrom\u001b[0m \u001b[0mgoogle\u001b[0m\u001b[1;33m.\u001b[0m\u001b[0mcolab\u001b[0m \u001b[1;32mimport\u001b[0m \u001b[0mdrive\u001b[0m\u001b[1;33m\u001b[0m\u001b[1;33m\u001b[0m\u001b[0m\n\u001b[0m\u001b[0;32m      2\u001b[0m \u001b[0mdrive\u001b[0m\u001b[1;33m.\u001b[0m\u001b[0mmount\u001b[0m\u001b[1;33m(\u001b[0m\u001b[1;34m'/content/drive'\u001b[0m\u001b[1;33m)\u001b[0m\u001b[1;33m\u001b[0m\u001b[1;33m\u001b[0m\u001b[0m\n",
            "\u001b[1;31mModuleNotFoundError\u001b[0m: No module named 'google'"
          ]
        }
      ]
    },
    {
      "cell_type": "code",
      "metadata": {
        "id": "-lASZLFit6im"
      },
      "source": [
        "# Gerando o Data Frame que vai carregar os dados importados\n",
        "df1 = pd.read_csv('/content/drive/MyDrive/Colab Notebooks/Estágio - IMT & NPL Brasil/Primeira Semana_cnnbrasil_tweets.csv', error_bad_lines=False)\n",
        "df2 = pd.read_csv('/content/drive/MyDrive/Colab Notebooks/Estágio - IMT & NPL Brasil/Primeira Semana_estadao_tweets.csv', error_bad_lines=False)\n",
        "df3 = pd.read_csv('/content/drive/MyDrive/Colab Notebooks/Estágio - IMT & NPL Brasil/Primeira Semana_folha_tweets.csv', error_bad_lines=False)\n",
        "df4 = pd.read_csv('/content/drive/MyDrive/Colab Notebooks/Estágio - IMT & NPL Brasil/Primeira Semana_jornaldobrasil_tweets.csv', error_bad_lines=False)\n",
        "df5 = pd.read_csv('/content/drive/MyDrive/Colab Notebooks/Estágio - IMT & NPL Brasil/Primeira Semana_nexojornal_tweets.csv', error_bad_lines=False)"
      ],
      "execution_count": null,
      "outputs": []
    },
    {
      "source": [
        "## **2.2 Via pasta local**\n"
      ],
      "cell_type": "markdown",
      "metadata": {}
    },
    {
      "cell_type": "code",
      "execution_count": 77,
      "metadata": {},
      "outputs": [],
      "source": [
        "df1 = pd.read_csv(r\"C:\\Users\\jcts1\\Desktop\\JEAN\\GitHub\\Machine-Learning-Projects\\Estágio\\Twitter\\Dados_Twitter_brutos\\cnnbrasil_tweets.csv\", error_bad_lines=False)\n",
        "df2 = pd.read_csv(r\"C:\\Users\\jcts1\\Desktop\\JEAN\\GitHub\\Machine-Learning-Projects\\Estágio\\Twitter\\Dados_Twitter_brutos\\estadao_tweets.csv\", error_bad_lines=False)\n",
        "df3 = pd.read_csv(r\"C:\\Users\\jcts1\\Desktop\\JEAN\\GitHub\\Machine-Learning-Projects\\Estágio\\Twitter\\Dados_Twitter_brutos\\folha_tweets.csv\", error_bad_lines=False)\n",
        "df4 = pd.read_csv(r\"C:\\Users\\jcts1\\Desktop\\JEAN\\GitHub\\Machine-Learning-Projects\\Estágio\\Twitter\\Dados_Twitter_brutos\\jornaldobrasil_tweets.csv\", error_bad_lines=False)\n",
        "df5 = pd.read_csv(r\"C:\\Users\\jcts1\\Desktop\\JEAN\\GitHub\\Machine-Learning-Projects\\Estágio\\Twitter\\Dados_Twitter_brutos\\nexojornal_tweets.csv\", error_bad_lines=False)"
      ]
    },
    {
      "source": [
        "df = df1.copy()\n",
        "df = pd.merge(df, df2, how='outer')\n",
        "df = pd.merge(df, df3, how='outer')\n",
        "df = pd.merge(df, df4, how='outer')\n",
        "df = pd.merge(df, df5, how='outer')"
      ],
      "cell_type": "code",
      "metadata": {
        "id": "PWHtcD-9sgWm"
      },
      "execution_count": null,
      "outputs": []
    },
    {
      "cell_type": "code",
      "metadata": {
        "colab": {
          "base_uri": "https://localhost:8080/",
          "height": 417
        },
        "id": "eipyF9nQuwhU",
        "outputId": "6aea4580-65bf-4601-a0e0-ae79ead22e5e"
      },
      "source": [
        "df"
      ],
      "execution_count": 79,
      "outputs": [
        {
          "output_type": "execute_result",
          "data": {
            "text/plain": [
              "                        id           created_at  \\\n",
              "0      1396860868957130755  2021-05-24 16:09:18   \n",
              "1      1396860373601427460  2021-05-24 16:07:20   \n",
              "2      1396860123868446720  2021-05-24 16:06:20   \n",
              "3      1396860068935749632  2021-05-24 16:06:07   \n",
              "4      1396858874125295617  2021-05-24 16:01:22   \n",
              "...                    ...                  ...   \n",
              "16235  1343270711117414400  2020-12-27 19:01:08   \n",
              "16236  1343255583504412672  2020-12-27 18:01:02   \n",
              "16237  1343240634199638017  2020-12-27 17:01:38   \n",
              "16238  1343225525003808768  2020-12-27 16:01:35   \n",
              "16239  1343210172970360838  2020-12-27 15:00:35   \n",
              "\n",
              "                                                    text  likes in reply to  \\\n",
              "0      Tremores de terra sacudiram Goma, na República...      7         NaN   \n",
              "1      O novo presidente do Equador, Guillermo Lasso,...     13         NaN   \n",
              "2      Novos dados sobre pesquisadores de Wuhan aumen...     39         NaN   \n",
              "3      RT @CNNBrBusiness: A Ericsson disse que pode o...      0         NaN   \n",
              "4      Aeroportos devem ser foco para conter a varian...     42         NaN   \n",
              "...                                                  ...    ...         ...   \n",
              "16235  Este conteúdo faz parte da #NexoEDUnoEnem - no...     26         NaN   \n",
              "16236  #AcessoLivre  | Ao longo do mês de dezembro, o...     19         NaN   \n",
              "16237  Este conteúdo faz parte da #NexoEDUnoEnem - no...     23         NaN   \n",
              "16238  [opinião] ‘O termo empreendedorismo nada mais ...     62         NaN   \n",
              "16239  Seleção #MaisLidasDoNexo entre os assinantes e...     56         NaN   \n",
              "\n",
              "      retweeted  \n",
              "0         False  \n",
              "1         False  \n",
              "2         False  \n",
              "3         False  \n",
              "4         False  \n",
              "...         ...  \n",
              "16235     False  \n",
              "16236     False  \n",
              "16237     False  \n",
              "16238     False  \n",
              "16239     False  \n",
              "\n",
              "[16240 rows x 6 columns]"
            ],
            "text/html": "<div>\n<style scoped>\n    .dataframe tbody tr th:only-of-type {\n        vertical-align: middle;\n    }\n\n    .dataframe tbody tr th {\n        vertical-align: top;\n    }\n\n    .dataframe thead th {\n        text-align: right;\n    }\n</style>\n<table border=\"1\" class=\"dataframe\">\n  <thead>\n    <tr style=\"text-align: right;\">\n      <th></th>\n      <th>id</th>\n      <th>created_at</th>\n      <th>text</th>\n      <th>likes</th>\n      <th>in reply to</th>\n      <th>retweeted</th>\n    </tr>\n  </thead>\n  <tbody>\n    <tr>\n      <th>0</th>\n      <td>1396860868957130755</td>\n      <td>2021-05-24 16:09:18</td>\n      <td>Tremores de terra sacudiram Goma, na República...</td>\n      <td>7</td>\n      <td>NaN</td>\n      <td>False</td>\n    </tr>\n    <tr>\n      <th>1</th>\n      <td>1396860373601427460</td>\n      <td>2021-05-24 16:07:20</td>\n      <td>O novo presidente do Equador, Guillermo Lasso,...</td>\n      <td>13</td>\n      <td>NaN</td>\n      <td>False</td>\n    </tr>\n    <tr>\n      <th>2</th>\n      <td>1396860123868446720</td>\n      <td>2021-05-24 16:06:20</td>\n      <td>Novos dados sobre pesquisadores de Wuhan aumen...</td>\n      <td>39</td>\n      <td>NaN</td>\n      <td>False</td>\n    </tr>\n    <tr>\n      <th>3</th>\n      <td>1396860068935749632</td>\n      <td>2021-05-24 16:06:07</td>\n      <td>RT @CNNBrBusiness: A Ericsson disse que pode o...</td>\n      <td>0</td>\n      <td>NaN</td>\n      <td>False</td>\n    </tr>\n    <tr>\n      <th>4</th>\n      <td>1396858874125295617</td>\n      <td>2021-05-24 16:01:22</td>\n      <td>Aeroportos devem ser foco para conter a varian...</td>\n      <td>42</td>\n      <td>NaN</td>\n      <td>False</td>\n    </tr>\n    <tr>\n      <th>...</th>\n      <td>...</td>\n      <td>...</td>\n      <td>...</td>\n      <td>...</td>\n      <td>...</td>\n      <td>...</td>\n    </tr>\n    <tr>\n      <th>16235</th>\n      <td>1343270711117414400</td>\n      <td>2020-12-27 19:01:08</td>\n      <td>Este conteúdo faz parte da #NexoEDUnoEnem - no...</td>\n      <td>26</td>\n      <td>NaN</td>\n      <td>False</td>\n    </tr>\n    <tr>\n      <th>16236</th>\n      <td>1343255583504412672</td>\n      <td>2020-12-27 18:01:02</td>\n      <td>#AcessoLivre  | Ao longo do mês de dezembro, o...</td>\n      <td>19</td>\n      <td>NaN</td>\n      <td>False</td>\n    </tr>\n    <tr>\n      <th>16237</th>\n      <td>1343240634199638017</td>\n      <td>2020-12-27 17:01:38</td>\n      <td>Este conteúdo faz parte da #NexoEDUnoEnem - no...</td>\n      <td>23</td>\n      <td>NaN</td>\n      <td>False</td>\n    </tr>\n    <tr>\n      <th>16238</th>\n      <td>1343225525003808768</td>\n      <td>2020-12-27 16:01:35</td>\n      <td>[opinião] ‘O termo empreendedorismo nada mais ...</td>\n      <td>62</td>\n      <td>NaN</td>\n      <td>False</td>\n    </tr>\n    <tr>\n      <th>16239</th>\n      <td>1343210172970360838</td>\n      <td>2020-12-27 15:00:35</td>\n      <td>Seleção #MaisLidasDoNexo entre os assinantes e...</td>\n      <td>56</td>\n      <td>NaN</td>\n      <td>False</td>\n    </tr>\n  </tbody>\n</table>\n<p>16240 rows × 6 columns</p>\n</div>"
          },
          "metadata": {},
          "execution_count": 79
        }
      ]
    },
    {
      "cell_type": "markdown",
      "metadata": {
        "id": "7LdAfGYBbDwI"
      },
      "source": [
        "## **2.1 Reconhecimento dos dados (Drive)**"
      ]
    },
    {
      "cell_type": "code",
      "metadata": {
        "colab": {
          "base_uri": "https://localhost:8080/"
        },
        "id": "twmG43b62maL",
        "outputId": "11ffbfa7-700d-4bac-b9be-9c1f4faf708f"
      },
      "source": [
        "df.columns                            # Informação de quais são as colunas do Data Frame, e também, como estão nomeadas"
      ],
      "execution_count": 80,
      "outputs": [
        {
          "output_type": "execute_result",
          "data": {
            "text/plain": [
              "Index(['id', 'created_at', 'text', 'likes', 'in reply to', 'retweeted'], dtype='object')"
            ]
          },
          "metadata": {},
          "execution_count": 80
        }
      ]
    },
    {
      "cell_type": "code",
      "metadata": {
        "id": "Q-OE1w_yTA6c",
        "colab": {
          "base_uri": "https://localhost:8080/",
          "height": 35
        },
        "outputId": "dbc329dd-081b-4be1-960b-831c5a07fd25"
      },
      "source": [
        "df['text'][16239]"
      ],
      "execution_count": 81,
      "outputs": [
        {
          "output_type": "execute_result",
          "data": {
            "text/plain": [
              "'Seleção #MaisLidasDoNexo entre os assinantes em 2020. Este conteúdo está com #acessolivre por tempo limitado. Aprov… https://t.co/AqiKEs3r0y'"
            ]
          },
          "metadata": {},
          "execution_count": 81
        }
      ]
    },
    {
      "cell_type": "code",
      "metadata": {
        "colab": {
          "base_uri": "https://localhost:8080/",
          "height": 295
        },
        "id": "5P-RliJe8E8C",
        "outputId": "ef5b7df7-6c69-4766-f2f5-0444d7e86207"
      },
      "source": [
        "df.describe()                         # Informações sobre as colunas númericas apenas"
      ],
      "execution_count": 82,
      "outputs": [
        {
          "output_type": "execute_result",
          "data": {
            "text/plain": [
              "                 id         likes\n",
              "count  1.624000e+04  16240.000000\n",
              "mean   1.386219e+18    119.514039\n",
              "std    1.437718e+16    626.234042\n",
              "min    1.343210e+18      0.000000\n",
              "25%    1.378539e+18      0.000000\n",
              "50%    1.393203e+18     26.000000\n",
              "75%    1.395813e+18     74.000000\n",
              "max    1.399359e+18  23462.000000"
            ],
            "text/html": "<div>\n<style scoped>\n    .dataframe tbody tr th:only-of-type {\n        vertical-align: middle;\n    }\n\n    .dataframe tbody tr th {\n        vertical-align: top;\n    }\n\n    .dataframe thead th {\n        text-align: right;\n    }\n</style>\n<table border=\"1\" class=\"dataframe\">\n  <thead>\n    <tr style=\"text-align: right;\">\n      <th></th>\n      <th>id</th>\n      <th>likes</th>\n    </tr>\n  </thead>\n  <tbody>\n    <tr>\n      <th>count</th>\n      <td>1.624000e+04</td>\n      <td>16240.000000</td>\n    </tr>\n    <tr>\n      <th>mean</th>\n      <td>1.386219e+18</td>\n      <td>119.514039</td>\n    </tr>\n    <tr>\n      <th>std</th>\n      <td>1.437718e+16</td>\n      <td>626.234042</td>\n    </tr>\n    <tr>\n      <th>min</th>\n      <td>1.343210e+18</td>\n      <td>0.000000</td>\n    </tr>\n    <tr>\n      <th>25%</th>\n      <td>1.378539e+18</td>\n      <td>0.000000</td>\n    </tr>\n    <tr>\n      <th>50%</th>\n      <td>1.393203e+18</td>\n      <td>26.000000</td>\n    </tr>\n    <tr>\n      <th>75%</th>\n      <td>1.395813e+18</td>\n      <td>74.000000</td>\n    </tr>\n    <tr>\n      <th>max</th>\n      <td>1.399359e+18</td>\n      <td>23462.000000</td>\n    </tr>\n  </tbody>\n</table>\n</div>"
          },
          "metadata": {},
          "execution_count": 82
        }
      ]
    },
    {
      "cell_type": "markdown",
      "metadata": {
        "id": "pIW1dSrQMtGH"
      },
      "source": [
        "# **3. Pre-processamento dos dados**"
      ]
    },
    {
      "cell_type": "markdown",
      "metadata": {
        "id": "iXfNFPb0PK4V"
      },
      "source": [
        "## **3.1 Utilizando artifícios de programação**"
      ]
    },
    {
      "cell_type": "code",
      "metadata": {
        "colab": {
          "base_uri": "https://localhost:8080/",
          "height": 203
        },
        "id": "zg7AmxuvEFx8",
        "outputId": "5686db4d-17e3-454a-fd96-fd4b8d9f3a97"
      },
      "source": [
        "### Copiando o Data Frame para poder fazer manipulações sem alterá-lo\n",
        "\n",
        "df_copy = df.copy()\n",
        "df_copy.head()"
      ],
      "execution_count": 83,
      "outputs": [
        {
          "output_type": "execute_result",
          "data": {
            "text/plain": [
              "                    id           created_at  \\\n",
              "0  1396860868957130755  2021-05-24 16:09:18   \n",
              "1  1396860373601427460  2021-05-24 16:07:20   \n",
              "2  1396860123868446720  2021-05-24 16:06:20   \n",
              "3  1396860068935749632  2021-05-24 16:06:07   \n",
              "4  1396858874125295617  2021-05-24 16:01:22   \n",
              "\n",
              "                                                text  likes in reply to  \\\n",
              "0  Tremores de terra sacudiram Goma, na República...      7         NaN   \n",
              "1  O novo presidente do Equador, Guillermo Lasso,...     13         NaN   \n",
              "2  Novos dados sobre pesquisadores de Wuhan aumen...     39         NaN   \n",
              "3  RT @CNNBrBusiness: A Ericsson disse que pode o...      0         NaN   \n",
              "4  Aeroportos devem ser foco para conter a varian...     42         NaN   \n",
              "\n",
              "  retweeted  \n",
              "0     False  \n",
              "1     False  \n",
              "2     False  \n",
              "3     False  \n",
              "4     False  "
            ],
            "text/html": "<div>\n<style scoped>\n    .dataframe tbody tr th:only-of-type {\n        vertical-align: middle;\n    }\n\n    .dataframe tbody tr th {\n        vertical-align: top;\n    }\n\n    .dataframe thead th {\n        text-align: right;\n    }\n</style>\n<table border=\"1\" class=\"dataframe\">\n  <thead>\n    <tr style=\"text-align: right;\">\n      <th></th>\n      <th>id</th>\n      <th>created_at</th>\n      <th>text</th>\n      <th>likes</th>\n      <th>in reply to</th>\n      <th>retweeted</th>\n    </tr>\n  </thead>\n  <tbody>\n    <tr>\n      <th>0</th>\n      <td>1396860868957130755</td>\n      <td>2021-05-24 16:09:18</td>\n      <td>Tremores de terra sacudiram Goma, na República...</td>\n      <td>7</td>\n      <td>NaN</td>\n      <td>False</td>\n    </tr>\n    <tr>\n      <th>1</th>\n      <td>1396860373601427460</td>\n      <td>2021-05-24 16:07:20</td>\n      <td>O novo presidente do Equador, Guillermo Lasso,...</td>\n      <td>13</td>\n      <td>NaN</td>\n      <td>False</td>\n    </tr>\n    <tr>\n      <th>2</th>\n      <td>1396860123868446720</td>\n      <td>2021-05-24 16:06:20</td>\n      <td>Novos dados sobre pesquisadores de Wuhan aumen...</td>\n      <td>39</td>\n      <td>NaN</td>\n      <td>False</td>\n    </tr>\n    <tr>\n      <th>3</th>\n      <td>1396860068935749632</td>\n      <td>2021-05-24 16:06:07</td>\n      <td>RT @CNNBrBusiness: A Ericsson disse que pode o...</td>\n      <td>0</td>\n      <td>NaN</td>\n      <td>False</td>\n    </tr>\n    <tr>\n      <th>4</th>\n      <td>1396858874125295617</td>\n      <td>2021-05-24 16:01:22</td>\n      <td>Aeroportos devem ser foco para conter a varian...</td>\n      <td>42</td>\n      <td>NaN</td>\n      <td>False</td>\n    </tr>\n  </tbody>\n</table>\n</div>"
          },
          "metadata": {},
          "execution_count": 83
        }
      ]
    },
    {
      "cell_type": "markdown",
      "metadata": {
        "id": "Y3SvrPZXzLeA"
      },
      "source": [
        "## **3.1.1 Retirar: links, emails e etc**"
      ]
    },
    {
      "cell_type": "code",
      "metadata": {
        "colab": {
          "base_uri": "https://localhost:8080/"
        },
        "id": "DStr15GK5Jnr",
        "outputId": "85983520-8ab6-4660-e1f0-121815536115"
      },
      "source": [
        "### Uma vez que foi analisada a presença de links nos textos, eles não são interessantes, portanto serão retirados \n",
        "\n",
        "import re                                                                                 # Modulo de Regular Expressions\n",
        "\n",
        "df_copy['text'] = df_copy['text'].apply(lambda x: re.sub(r\"(?:\\@|https?\\://)\\S+\", \"\", x)) # Regular expression que retira links|e-mails  "
      ],
      "execution_count": 84,
      "outputs": [
        {
          "output_type": "stream",
          "name": "stdout",
          "text": [
            "Seleção #MaisLidasDoNexo entre os assinantes em 2020. Este conteúdo está com #acessolivre por tempo limitado. Aprov… https://t.co/AqiKEs3r0y\nSeleção #MaisLidasDoNexo entre os assinantes em 2020. Este conteúdo está com #acessolivre por tempo limitado. Aprov… \n"
          ]
        }
      ]
    },
    {
      "cell_type": "code",
      "execution_count": 114,
      "metadata": {},
      "outputs": [
        {
          "output_type": "stream",
          "name": "stdout",
          "text": [
            "\nLinks retirados: \n\nUma imagem que parece mostrar a princesa Latifa foi postada em uma conta de mídia social. Ela está \"desaparecida\" h… https://t.co/T17zRzK92K\nUma imagem que parece mostrar a princesa Latifa foi postada em uma conta de mídia social Ela está desaparecida h… \n"
          ]
        }
      ],
      "source": [
        "## Links retirados\n",
        "print(\"\\nLinks retirados: \\n\")\n",
        "print(df['text'][160])\n",
        "print(df_copy['text'][160])"
      ]
    },
    {
      "cell_type": "markdown",
      "metadata": {
        "id": "J8-anMk6Obl2"
      },
      "source": [
        "## **3.1.2 Retirar: quebras de linhas e colchetes**"
      ]
    },
    {
      "cell_type": "code",
      "metadata": {
        "id": "QS7dORb8Obl3",
        "colab": {
          "base_uri": "https://localhost:8080/"
        },
        "outputId": "f194d6d8-467e-4f3e-fd93-8cb2b3cf2b70"
      },
      "source": [
        "i = 0\n",
        "for i in range(len(df['text'])):\n",
        "  texto = df_copy['text'][i]\n",
        "  texto = texto.rstrip('\\n')\n",
        "  texto = texto.replace(\"[\", \"\")\n",
        "  texto = texto.replace(\"]\", \"\")\n",
        "  texto = texto.replace('\"', '')\n",
        "  texto = texto.replace(\"'\", \"\")\n",
        "  df_copy['text'][i] = texto"
      ],
      "execution_count": 98,
      "outputs": [
        {
          "output_type": "stream",
          "name": "stderr",
          "text": [
            "<ipython-input-98-b355fd683e3d>:9: SettingWithCopyWarning: \n",
            "A value is trying to be set on a copy of a slice from a DataFrame\n",
            "\n",
            "See the caveats in the documentation: https://pandas.pydata.org/pandas-docs/stable/user_guide/indexing.html#returning-a-view-versus-a-copy\n",
            "  df_copy['text'][i] = texto\n",
            "Uma imagem que parece mostrar a princesa Latifa foi postada em uma conta de mídia social. Ela está \"desaparecida\" h… https://t.co/T17zRzK92K\n",
            "opinião O termo empreendedorismo nada mais é do que a expressão invertida da eliminação de qualquer rede de prot… \n"
          ]
        }
      ]
    },
    {
      "cell_type": "code",
      "execution_count": 113,
      "metadata": {},
      "outputs": [
        {
          "output_type": "stream",
          "name": "stdout",
          "text": [
            "\nAspas simples e duplas retiradas: \n\nUma imagem que parece mostrar a princesa Latifa foi postada em uma conta de mídia social. Ela está \"desaparecida\" h… https://t.co/T17zRzK92K\nUma imagem que parece mostrar a princesa Latifa foi postada em uma conta de mídia social Ela está desaparecida h… \n\nColchetes retirados: \n\n[opinião] ‘O termo empreendedorismo nada mais é do que a expressão invertida da eliminação de qualquer rede de prot… https://t.co/ycvsClSmTI\nopinião O termo empreendedorismo nada mais é do que a expressão invertida da eliminação de qualquer rede de prot… \n"
          ]
        }
      ],
      "source": [
        "## Aspas simples e duplas retiradas\n",
        "print(\"\\nAspas simples e duplas retiradas: \\n\")\n",
        "print(df['text'][160])\n",
        "print(df_copy['text'][160])\n",
        "\n",
        "## Colchetes retirados\n",
        "print(\"\\nColchetes retirados: \\n\")\n",
        "print(df['text'][16238])\n",
        "print(df_copy['text'][16238])"
      ]
    },
    {
      "cell_type": "markdown",
      "metadata": {
        "id": "A-ZDlRY7Oa_k"
      },
      "source": [
        "## **3.1.3 Retirar: datas, numeros e informações numéricas de maneira geral**"
      ]
    },
    {
      "cell_type": "code",
      "metadata": {
        "id": "ZQyyirLUdoWc"
      },
      "source": [
        "import re          # Modulo de Regular Expressions\n",
        "\n",
        "# Regular expression que retira informações numéricas\n",
        "df_copy['text'] = df_copy['text'].apply(lambda x: re.sub(r\"[0-9]\", \"\", x))"
      ],
      "execution_count": 86,
      "outputs": []
    },
    {
      "cell_type": "code",
      "metadata": {
        "colab": {
          "base_uri": "https://localhost:8080/"
        },
        "id": "W5X6rMqWdoWc",
        "outputId": "5acdcc45-082c-4eae-ff4b-65a06fa23bc5"
      },
      "source": [
        "## Números\n",
        "print(\"\\nNúmeros retirados: \\n\")\n",
        "print(df['text'][1])\n",
        "print(df_copy['text'][1])"
      ],
      "execution_count": 115,
      "outputs": [
        {
          "output_type": "stream",
          "name": "stdout",
          "text": [
            "\nNúmeros retirados: \n\nO novo presidente do Equador, Guillermo Lasso, foi empossado nesta segunda-feira (24) em na capital Quito. A cerimô… https://t.co/0BvvUmeO1x\nO novo presidente do Equador Guillermo Lasso foi empossado nesta segundafeira  em na capital Quito A cerimô… \n"
          ]
        }
      ]
    },
    {
      "cell_type": "markdown",
      "metadata": {
        "id": "99oTOBY2ObRK"
      },
      "source": [
        "## **3.1.4 Retirar: caracteres especiais**"
      ]
    },
    {
      "cell_type": "code",
      "metadata": {
        "id": "k3FD69sCObIS",
        "colab": {
          "base_uri": "https://localhost:8080/"
        },
        "outputId": "bc828fdb-79e3-4a4d-d9b8-3c74840892f9"
      },
      "source": [
        "import string\n",
        "punctuation_list = [' ']\n",
        "for punc in string.punctuation:\n",
        "  punctuation_list.append(punc)\n",
        "print(\"Os caracteres especiais são: \",string.punctuation) "
      ],
      "execution_count": 88,
      "outputs": [
        {
          "output_type": "stream",
          "name": "stdout",
          "text": [
            "Os caracteres especiais são:  !\"#$%&'()*+,-./:;<=>?@[\\]^_`{|}~\n"
          ]
        }
      ]
    },
    {
      "cell_type": "code",
      "metadata": {
        "id": "gy4KgzHZXz_C"
      },
      "source": [
        "import re          # Modulo de Regular Expressions\n",
        "\n",
        "# Regular expression que retira caracteres especiais\n",
        "df_copy['text'] = df_copy['text'].apply(lambda x: re.sub(r\"[!#$%&'\"\"()*+,-./:;<=>?@\\‘^_`{|}~]\", \"\", x))"
      ],
      "execution_count": 89,
      "outputs": []
    },
    {
      "cell_type": "code",
      "metadata": {
        "colab": {
          "base_uri": "https://localhost:8080/"
        },
        "id": "z-UWOiq4caTC",
        "outputId": "45d5f8c7-ec97-4f03-e29a-c5ad20d01f2e"
      },
      "source": [
        "## Caracteres especiais\n",
        "print(\"\\nCaracteres especiais: \\n\")\n",
        "print(df['text'][1])\n",
        "print(df_copy['text'][1])"
      ],
      "execution_count": 116,
      "outputs": [
        {
          "output_type": "stream",
          "name": "stdout",
          "text": [
            "\nCaracteres especiais: \n\nO novo presidente do Equador, Guillermo Lasso, foi empossado nesta segunda-feira (24) em na capital Quito. A cerimô… https://t.co/0BvvUmeO1x\nO novo presidente do Equador Guillermo Lasso foi empossado nesta segundafeira  em na capital Quito A cerimô… \n"
          ]
        }
      ]
    },
    {
      "cell_type": "markdown",
      "metadata": {
        "id": "o1UbURWKObyz"
      },
      "source": [
        "## **3.1.6 Analisar: lógica Fuzzy**"
      ]
    },
    {
      "cell_type": "code",
      "metadata": {
        "id": "JoZU8UJCCc-y"
      },
      "source": [],
      "execution_count": null,
      "outputs": []
    },
    {
      "cell_type": "markdown",
      "metadata": {
        "id": "0Nsu6eQ4Obb3"
      },
      "source": [
        "## **3.1.5 Corrigir erros de ortografia**"
      ]
    },
    {
      "cell_type": "code",
      "metadata": {
        "id": "5piz8LztCY3w"
      },
      "source": [],
      "execution_count": null,
      "outputs": []
    },
    {
      "cell_type": "markdown",
      "metadata": {
        "id": "RtntDrJy2PGh"
      },
      "source": [
        "## **3.2 Testes utiliziando bibliotecas**\n"
      ]
    },
    {
      "cell_type": "markdown",
      "metadata": {
        "id": "GhsZAzyuNZdG"
      },
      "source": [
        "## **3.2.1 CountVectorizer**"
      ]
    },
    {
      "cell_type": "markdown",
      "metadata": {
        "id": "egm-Mmzh19L9"
      },
      "source": [
        "https://scikit-learn.org/stable/modules/generated/sklearn.feature_extraction.text.CountVectorizer.html\n"
      ]
    },
    {
      "cell_type": "code",
      "metadata": {
        "colab": {
          "base_uri": "https://localhost:8080/"
        },
        "id": "RCCV2Yao2qoP",
        "outputId": "cc0f77b8-4a09-4ff8-c149-c1f64b5cb503"
      },
      "source": [
        "from sklearn.feature_extraction.text import CountVectorizer\n",
        "\n",
        "### Universo de palavras - corpus\n",
        "\n",
        "corpus      =  np.array(df_copy['text'])                 # Gerando uma sequência de textos(conteúdo dos Tweets). Isso é necessário para o Vectorizer\n",
        "\n",
        "### Criação da funcionalidade\n",
        "\n",
        "vectorizer_cv  =   CountVectorizer()                  \n",
        "countvec       =   vectorizer_cv.fit_transform(corpus)    # Numera quantas vezes uma palavra aprendida (após analisar toda a coluna) aparece em uma instância (mensagem)\n",
        "array_vec      =   countvec.toarray()                  # Matriz de arrays com número de aparições de uma palavra aprendida em uma determinada mensagem\n",
        "words_lrnd     =   vectorizer_cv.get_feature_names()      # Palavras aprendidas com os dados \n",
        "\n",
        "print(words_lrnd[9532:9540])                        # Amostra de algumas palavras aprendidas"
      ],
      "execution_count": 117,
      "outputs": [
        {
          "output_type": "stream",
          "name": "stdout",
          "text": [
            "['favor', 'favoravelmente', 'favorece', 'favorecer', 'favoreceram', 'favorecerem', 'favoreceria', 'favoreça']\n"
          ]
        }
      ]
    },
    {
      "cell_type": "code",
      "metadata": {
        "colab": {
          "base_uri": "https://localhost:8080/"
        },
        "id": "OJ_nr5zn46LV",
        "outputId": "c44b8023-abcb-4b96-bab7-b79229ea665d",
        "tags": [
          "outputPrepend"
        ]
      },
      "source": [
        "print(vectorizer_cv.vocabulary_)       # Apresenta um dicionário com as palavras e o numero delas dentro do vocabulário"
      ],
      "execution_count": 118,
      "outputs": [
        {
          "output_type": "stream",
          "name": "stdout",
          "text": [
            "essaram': 9249, 'unificada': 22351, 'pisos': 16948, 'sugiro': 20975, 'airfryer': 693, 'fes': 9677, 'beni': 2663, 'negó': 15262, 'interlocução': 12224, 'constituições': 5075, 'assegurouse': 1820, 'liber': 13291, 'pedagógica': 16501, 'desperta': 6744, 'contestam': 5159, 'instrução': 12122, 'normativa': 15429, 'empreendedores': 7911, 'segundafeir': 20197, 'segundafei': 20196, 'alterando': 904, 'amedrontada': 1035, 'metrópole': 14393, 'cosmopolita': 5501, 'bastante': 2532, 'locomovemos': 13494, 'escanc': 8381, 'chloé': 4068, 'zhao': 23344, 'nôma': 15554, 'contrast': 5225, 'conscientizar': 4989, 'implicação': 11526, 'alagoano': 722, 'escancaro': 8387, 'carnavalesco': 3632, 'celeiro': 3850, 'pagodinho': 16098, 'guineto': 10917, 'scène': 20128, 'rue': 19821, 'montmartre': 14738, 'sécul': 21178, 'coreano': 5396, 'privadas': 17674, 'obtêm': 15635, 'pautadas': 16455, 'mukbang': 14925, 'fascínio': 9503, 'escravizados': 8447, 'fazêlo': 9558, 'endurec': 8038, 'contracepção': 5198, 'aaron': 0, 'karp': 12871, 'curadores': 5797, 'ticoulat': 21595, 'restituição': 19398, 'anulam': 1296, 'expressiva': 9251, 'intensificação': 12174, 'associadas': 1875, 'sigi': 20467, 'bharat': 2715, 'biotech': 2791, 'tecn': 21332, 'nexopolíticas': 15334, 'xu': 23285, 'renomados': 19116, 'share': 20435, 'like': 13359, 'traba': 21817, 'influem': 11915, 'aprendiz': 1495, 'migrand': 14449, 'mdma': 14165, 'psilocibina': 18089, 'produzem': 17744, 'reformistas': 18874, 'persistentes': 16740, 'convenção': 5300, 'genebra': 10500, 'vacinações': 22487, 'silenciaram': 20493, 'embarcaram': 7825, 'bebel': 2598, 'desenham': 6566, 'cronogramas': 5691, 'atividad': 2023, 'respire': 19336, 'valiosas': 22529, 'partidár': 16331, 'gorduras': 10702, 'cinto': 4168, 'recup': 18740, 'openai': 15838, 'visuais': 22969, 'descritivas': 6516, 'turbulência': 22205, 'biológicas': 2782, 'responsab': 19351, 'tornálo': 21771, 'oxforda': 16033, 'sonoridades': 20753, 'toxinas': 21811, 'taxi': 21305, 'driver': 7461, 'dissipado': 7212, 'afrodescendência': 550, 'reger': 18905, 'orquestra': 15956, 'ficamos': 9714, 'felizes': 9624, 'juntese': 12795, 'debruçado': 6007, 'espontâneo': 8612, 'desencadear': 6562, 'preparados': 17469, 'contraposição': 5214, 'tirinhas': 21650, 'tintim': 21630, 'maus': 14139, 'diver': 7260, 'disputarão': 7198, 'soros': 20766, 'estabel': 8663, 'barulhinhos': 2515, 'encaixam': 7960, 'designam': 6638, 'lisonjeiros': 13427, 'falcatr': 9394, 'leniência': 13203, 'selma': 20244, 'lagerlöf': 12986, 'literatur': 13433, 'regresso': 18941, 'exilados': 9095, 'blindou': 2827, 'doméstico': 7400, 'farrow': 9490, 'negadas': 15226, 'daft': 5908, 'conseguiremos': 5005, 'gladson': 10618, 'cameli': 3408, 'grafado': 10761, 'incorreta': 11752, 'subtítulo': 20935, 'elder': 7706, 'corrigimos': 5469, 'incluímos': 11716, 'vivenciaram': 23006, 'institutos': 12116, 'wright': 23253, 'galáxia': 10391, 'espiral': 8603, 'confirmaç': 4896, 'camelli': 3409, 'calamidade': 3358, 'mantenedor': 13895, 'propositor': 17895, 'possib': 17248, 'duo': 7491, 'dance': 5934, 'parisiense': 16280, 'daftpunk': 5909, 'carazza': 3588, 'irlandeses': 12445, 'transformações': 21922, 'visualizações': 22973, 'ultimato': 22304, 'paredes': 16265, 'tábua': 22241, 'vocábulo': 23038, 'noutras': 15487, 'cole': 4382, 'schrarstzhaupt': 20113, 'inovações': 12025, 'paguem': 16103, 'busquem': 3241, 'cafeteira': 3320, 'moka': 14672, 'bialetti': 2719, 'encorpados': 8023, 'regis': 18914, 'encantamento': 7975, 'reajustes': 18558, 'joaquim': 12663, 'silên': 20505, 'perturbada': 16769, 'assessorias': 1836, 'navegam': 15173, 'jurídicos': 12817, 'desconsidera': 6498, 'adotaram': 440, 'gravadora': 10794, 'fania': 9446, 'dominicano': 7394, 'pensada': 16578, 'reeleição': 18817, 'cartuns': 3678, 'inox': 12026, 'cerâmica': 3926, 'cerdas': 3907, 'manejálas': 13854, 'discursiva': 7128, 'pausado': 16451, 'inscritos': 12046, 'diadoesportista': 6942, 'enalteceu': 7955, 'separatista': 20330, 'couri': 5529, 'fiscalmente': 9851, 'tribute': 22065, 'rendas': 19103, 'efe': 7658, 'especia': 8547, 'emissão': 7866, 'mamíferos': 13818, 'chri': 4083, 'movimentou': 14874, 'govername': 10734, 'ambientes': 1011, 'guiana': 10909, 'esmiúça': 8515, 'performances': 16667, 'minimament': 14531, 'glaciais': 10616, 'gelado': 10494, 'brasileirismo': 3072, 'quartos': 18296, 'coreto': 5401, 'percebem': 16617, 'demonizar': 6242, 'periga': 16688, 'jog': 12675, 'longevo': 13521, 'izael': 12557, 'caldeira': 3366, 'percussionista': 16629, 'menem': 14275, 'capitaneado': 3549, 'comediantes': 4500, 'fósseis': 10347, 'retraçar': 19481, 'deusa': 6881, 'mascotes': 14068, 'koudounaris': 12940, 'envolver': 8262, 'taschen': 21291, 'produzidas': 17748, 'chandoha': 3978, 'gray': 10811, 'especula': 8567, 'felino': 9618, 'separou': 20332, 'fraternidade': 10151, 'acompanhou': 273, 'estágios': 8852, 'requerida': 19244, 'pslrj': 18095, 'mainstream': 13764, 'retas': 19436, 'revolucionária': 19577, 'ext': 9277, 'admiradores': 407, 'peruanos': 16774, 'burocratas': 3217, 'tortoarado': 21783, 'rodaviva': 19694, 'refletimos': 18859, 'metafóricas': 14375, 'definem': 6123, 'nigeriana': 15359, 'ngozi': 15346, 'okonjoiweala': 15755, 'dirigir': 7101, 'enfraqueceu': 8076, 'reduzi': 18799, 'biologia': 2779, 'financiadas': 9809, 'pensadas': 16579, 'looke': 13525, 'gê': 10930, 'chrissie': 4085, 'adotado': 436, 'compositoras': 4678, 'cinematogr': 4165, 'fiscaliza': 9847, 'armamentos': 1656, 'contestar': 5160, 'econom': 7580, 'minicontos': 14530, 'poesias': 17083, 'nostálgica': 15453, 'endereça': 8030, 'resolvidos': 19308, 'imaginários': 11445, 'amér': 1090, 'glauco': 10623, 'parlamentare': 16288, 'amyr': 1087, 'klink': 12923, 'concepção': 4780, 'apaixonados': 1349, 'vinícolas': 22893, 'urban': 22386, 'sanidade': 20012, 'devolveria': 6914, 'transformados': 21915, 'aliviando': 868, 'aterros': 1984, 'tumultuado': 22191, 'ineficiente': 11859, 'ativida': 2022, 'miles': 14466, 'davis': 5981, 'expoentes': 9214, 'jazz': 12619, 'fusion': 10308, 'entrave': 8197, 'questõe': 18362, 'questionamen': 18353, 'atualizamos': 2104, 'monitorou': 14710, 'negr': 15254, 'nexopolí': 15333, 'tucanas': 22176, 'tent': 21439, 'altocomando': 917, 'fecharem': 9583, 'lógicas': 13677, 'carrie': 3658, 'mae': 13735, 'weems': 23202, 'rodríguez': 19709, 'triana': 22051, 'mestres': 14368, 'discí': 7143, 'sejamos': 20224, 'profis': 17770, 'variados': 22569, 'gêneros': 10935, 'seminua': 20271, 'avritzer': 2310, 'conjuntura': 4968, 'fizera': 9876, 'marcelle': 13976, 'soaressantos': 20610, 'cérebros': 5877, 'bado': 2364, 'percebeu': 16621, 'convenções': 5301, 'poderosas': 17069, 'anomia': 1192, 'jornalism': 12714, 'destesta': 6792, 'contribuirmos': 5248, 'conjuntamente': 4965, 'rashid': 18502, 'cin': 4155, 'derivados': 6345, 'mentores': 14317, 'discípulos': 7144, 'carr': 3646, 'isa': 12488, 'penna': 16576, 'prolífica': 17834, 'sucederam': 20941, 'arroubo': 1730, 'autoritári': 2212, 'argumentam': 1636, 'propiciaram': 17885, 'calendários': 3369, 'narrati': 15119, 'schwartz': 20118, 'retratist': 19478, 'fundamentos': 10268, 'oportunid': 15864, 'pabllo': 16046, 'vittar': 22991, 'sophie': 20760, 'compositores': 4679, 'djs': 7320, 'bic': 2725, 'marcela': 13974, 'instigam': 12104, 'encurtar': 8029, 'corr': 5432, 'godinho': 10655, 'biofuturo': 2774, 'comidafuncional': 4566, 'priorizam': 17661, 'simon': 20517, 'detal': 6834, 'morresse': 14781, 'pudesse': 18137, 'detalhada': 6836, 'jovenel': 12731, 'moïse': 14879, 'contesta': 5156, 'discutidos': 7138, 'sinalização': 20544, 'iphones': 12424, 'satisfeit': 20067, 'desvendar': 6823, 'retumbante': 19490, 'contrassenso': 5224, 'supe': 21002, 'percussão': 16630, 'fariam': 9470, 'feitiço': 9612, 'excluem': 9013, 'arauz': 1605, 'desponta': 6753, 'respaldado': 19312, 'coletivos': 4398, 'dali': 5919, 'emergido': 7855, 'trópicos': 22162, 'montanhas': 14731, 'desinformaçã': 6649, 'superbowl': 21014, 'quarterback': 18293, 'touchdown': 21808, 'tackle': 21229, 'traje': 21872, 'econôm': 7592, 'sputnikv': 20824, 'embalam': 7822, 'patinam': 16411, 'mercadoria': 14327, 'preocupante': 17457, 'enraizadas': 8135, 'iní': 12407, 'moldar': 14675, 'detesta': 6867, 'distancia': 7218, 'cançõ': 3523, 'transto': 21960, 'vitorio': 22983, 'melão': 14256, 'limão': 13390, 'maçã': 14149, 'manga': 13855, 'reféns': 18898, 'estab': 8662, 'contingenciar': 5171, 'neces': 15204, 'lírica': 13671, 'animações': 1175, 'lendas': 13196, 'presidências': 17531, 'apoiados': 1438, 'invalidar': 12329, 'parla': 16283, 'auxílios': 2249, 'refugiarse': 18896, 'deserta': 6592, 'minúsculo': 14563, 'herbert': 11051, 'revertida': 19537, 'reformula': 18875, 'incondicional': 11734, 'rúss': 19868, 'newton': 15322, 'inconveniente': 11746, 'horizontes': 11189, 'informativos': 11944, 'fiquemos': 9836, 'manteria': 13900, 'ensi': 8143, 'subh': 20887, 'exemplares': 9051, 'respectiva': 19313, 'zahar': 23318, 'cump': 5778, 'disruptivos': 7201, 'complexos': 4663, 'ating': 1994, 'podemo': 17058, 'bolsonaros': 2936, 'maias': 13759, 'sarneys': 20059, 'colonizaç': 4440, 'ningu': 15364, 'limit': 13369, 'explicando': 9184, 'imputada': 11606, 'autoinfligida': 2187, 'normais': 15422, 'populistas': 17175, 'administrável': 406, 'ilustrad': 11418, 'espaçada': 8539, 'deficit': 6119, 'larissa': 13051, 'boesing': 2876, 'agremiações': 632, 'profissionalizaram': 17775, 'alv': 938, 'contemporâneos': 5154, 'congressogife': 4942, 'implementado': 11518, 'matadora': 14086, 'raquete': 18490, 'matamosquitos': 14091, 'eletrificada': 7742, 'abrimos': 96, 'escapar': 8396, 'envenenamento': 8238, 'colônia': 4457, 'acenderam': 190, 'tortur': 21784, 'pragas': 17331, 'delegar': 6183, 'cpfs': 5553, 'veiculação': 22620, 'automóvel': 2198, 'etária': 8882, 'demandou': 6209, 'generalizante': 10506, 'heterogêneo': 11068, 'pergun': 16672, 'veraneio': 22698, 'obj': 15575, 'schenberg': 20110, 'cientistasdobrasil': 4138, 'astr': 1915, 'potável': 17288, 'gara': 10423, 'anul': 1291, 'repaginação': 19138, 'televisivos': 21373, 'ambientada': 1005, 'buscavam': 3238, 'difere': 6984, 'cie': 4131, 'atômico': 2124, 'antecessor': 1210, 'inovar': 12023, 'experimentação': 9165, 'mardi': 13993, 'gras': 10776, 'iamin': 11299, 'huawei': 11239, 'dentr': 6269, 'anulado': 1294, 'percepção': 16624, 'orqu': 15955, 'joaquín': 12664, 'carvajal': 3681, 'criativos': 5625, 'natércia': 15164, 'abarrotada': 22, 'efêmeros': 7675, 'cristais': 5658, 'rod': 19686, 'dacombe': 5903, 'london': 13512, 'motivações': 14830, 'alienado': 841, 'cenógrafo': 3896, 'arqueólogo': 1679, 'candidaturas': 3486, 'cearense': 3817, 'steven': 20850, 'levitsky': 13268, 'get': 10581, 'away': 2314, 'murder': 14966, 'acessolivres': 218, 'patamares': 16400, 'linhagens': 13409, 'nor': 15417, 'absorve': 114, 'discriminatórios': 7124, 'block': 2831, 'backstreet': 2358, 'nexopo': 15332, 'lhes': 13286, 'negados': 15229, 'diadavisibilidadetrans': 6941, 'boy': 3036, 'estigma': 8748, 'coordenada': 5364, 'ineficaze': 11857, 'merc': 14323, 'filmagens': 9769, 'drone': 7466, 'lapso': 13038, 'curtametragem': 5818, 'nafis': 15084, 'nuanc': 15513, 'visibilidade': 22954, 'vereadoras': 22714, 'actifan': 319, 'zerogravity': 23340, 'glossário': 10647, 'vazado': 22596, 'notificada': 15472, 'refrescar': 18888, 'animar': 1172, 'formatos': 10041, 'aprov': 1527, 'encomendadas': 8003, 'reddit': 18779, 'desafiaram': 6397, 'apostavam': 1474, 'buchi': 3191, 'emecheta': 7845, 'up': 22383, 'ilan': 11397, 'lapyda': 13039, 'financeirização': 9804, 'ec': 7565, 'maquiagem': 13939, 'darmos': 5968, 'terapias': 21466, 'anticientíficas': 1233, 'atrasando': 2064, 'reitora': 18983, 'architect': 1614, 'capitol': 3550, 'sí': 21193, 'imaginário': 11444, 'áustria': 23405, 'industriais': 11841, 'atençã': 1979, 'convers': 5303, 'aglutinar': 596, 'enfrentarem': 8089, 'motivam': 14828, 'ecólogo': 7604, 'fearnside': 9568, 'cinc': 4156, 'giuseppe': 10614, 'descasca': 6458, 'tomate': 21719, 'dívi': 7546, 'desigualdad': 6644, 'dezemb': 6920, 'fixaram': 9870, 'ideológico': 11349, 'aith': 696, 'hobsbawm': 11128, 'soviético': 20796, 'conectavam': 4855, 'aldeias': 758, 'uniam': 22340, 'culturas': 5775, 'anne': 1187, 'hidalgo': 11075, 'recusado': 18764, 'shijiazhuang': 20441, 'província': 17998, 'hebei': 11025, 'youtub': 23307, 'nautilus': 15165, 'descobertas': 6470, 'refeição': 18838, 'turi': 22209, 'mattoso': 14124, 'roteiristachefe': 19770, 'neblina': 15198, 'soam': 20607, 'extraordinárias': 9306, 'chappell': 3986, 'brunel': 3168, 'julie': 12778, 'parsons': 16301, 'plym': 17029, 'alexei': 804, 'navalny': 15169, 'investigativos': 12375, 'locomotiva': 13493, 'rsssf': 19806, 'disponibiliza': 7177, 'impasses': 11494, 'uffizi': 22289, 'pintor': 16913, 'ecos': 7598, 'livrou': 13463, 'contrapondo': 5211, 'infundadas': 11961, 'memb': 14257, 'populosos': 17177, 'internas': 12245, 'poison': 17088, 'garden': 10434, 'finlândia': 9823, 'agasalhada': 562, 'descolonização': 6483, 'ciências': 4217, 'cientistatrabalhando': 4139, 'cand': 3477, 'interseccional': 12272, 'popu': 17161, 'sucessivos': 20943, 'moment': 14689, 'déc': 7534, 'chalhoub': 3949, 'chalhoud': 3950, 'repartições': 19145, 'constituiçã': 5073, 'miligramas': 14482, 'paper': 16186, 'manutençã': 13924, 'biológica': 2781, 'megadiversos': 14219, 'etnografia': 8879, 'situaç': 20590, 'americas': 1046, 'quarterly': 18294, 'buttliere': 3248, 'recria': 18726, 'construções': 5094, 'compila': 4641, 'ediç': 7633, 'sucessores': 20946, 'magra': 13753, 'descendente': 6461, 'solteir': 20716, 'gouda': 10720, 'canastra': 3460, 'desafiado': 6390, 'responsabilizar': 19361, 'elei': 7718, 'nordes': 15419, 'frustrante': 10212, 'irritação': 12482, 'cercada': 3902, 'reincluído': 18968, 'cronog': 5689, 'fissura': 9862, 'fotojornalista': 10105, 'gui': 10906, 'christ': 4086, 'violam': 22897, 'insist': 12066, 'telas': 21349, 'aparecimento': 1365, 'massivo': 14080, 'miopia': 14565, 'externos': 9291, 'organizaram': 15924, 'levada': 13238, 'consideração': 5039, 'kelly': 12888, 'kom': 12932, 'panelaços': 16169, 'trancista': 21889, 'mayara': 14144, 'disponib': 7175, 'controversa': 5266, 'padeceu': 16068, 'luther': 13633, 'cursando': 5813, 'fundam': 10262, 'pediatras': 16514, 'retomarem': 19462, 'liberalizante': 13300, 'eleilson': 7719, 'desa': 6367, 'constantes': 5062, 'visam': 22950, 'mantida': 13903, 'restante': 19387, 'saborosas': 19889, 'telma': 21376, 'shiraishi': 20444, 'laurentiis': 13081, 'irlandesas': 12444, 'reencontrar': 18824, 'abrace': 68, 'abortar': 64, 'ágape': 23380, 'ces': 3927, 'tendências': 21421, 'apresentados': 1507, 'feiticeira': 9611, 'jeannie': 12628, 'fábr': 10326, 'adiamentos': 376, 'alimentaram': 849, 'assintomáticas': 1857, 'defasagem': 6090, 'manual': 13918, 'atrib': 2079, 'ensiname': 8146, 'estruturantes': 8821, 'estruturadoras': 8817, 'desigualda': 6643, 'apalpou': 1352, 'nexoedunoenem': 15327, 'atualidades': 2100, 'entusiasta': 8231, 'acessados': 209, 'afirmativa': 532, 'forçou': 10093, 'minh': 14523, 'caderneta': 3312, 'investidas': 12358, 'desestabilizam': 6604, 'tirálos': 21657, 'veícul': 22771, 'detoxificação': 6874, 'induzir': 11844, 'pucrio': 18132, 'juliano': 12777, 'rompa': 19736, 'esterilidade': 8740, 'abrese': 86, 'lingua': 13400, 'museum': 14976, 'aposentos': 1467, 'inventor': 12344, 'psi': 18068, 'senegal': 20286, 'durado': 7502, 'esperados': 8582, 'polonês': 17114, 'angustiante': 1161, 'linh': 13406, 'maguito': 13755, 'vilela': 22857, 'watch': 23191, 'phil': 16865, 'collins': 4413, 'bateria': 2559, 'influenciou': 11924, 'cogumelos': 4361, 'nexoedu': 15326, 'facilitador': 9358, 'punilo': 18159, 'capitóli': 3553, 'julgamentos': 12768, 'miscigenações': 14580, 'sepultamentos': 20335, 'gráficas': 10859, 'logos': 13499, 'mineira': 14515, 'nãoessencial': 15543, 'revitalizar': 19562, 'concluídas': 4794, 'difundam': 7001, 'verões': 22743, 'biontechpfizer': 2789, 'resultam': 19421, 'liderado': 13335, 'persistir': 16741, 'seattle': 20132, 'seahawks': 20131, 'captada': 3562, 'sismógrafo': 20578, 'washing': 23188, 'mountian': 14849, 'adian': 377, 'couberam': 5525, 'brics': 3112, 'pisar': 16942, 'acess': 207, 'detrimento': 6877, 'campello': 3433, 'conversation': 5313, 'psicólogo': 18086, 'gary': 10457, 'levantamentos': 13249, 'parida': 16277, 'paulatina': 16439, 'devolu': 6909, 'epilepsia': 8293, 'proibitivo': 17811, 'familiare': 9432, 'dispensada': 7167, 'atestará': 1989, 'incompletas': 11729, 'canosa': 3498, 'pasternak': 16394, 'valter': 22542, 'hugo': 11243, 'reunidas': 19498, 'infânci': 11962, 'bicentenária': 2726, 'pulsos': 18151, 'tornozelos': 21770, 'zíperes': 23373, 'apetrechos': 1403, 'visite': 22963, 'viacomcbs': 22783, 'catdog': 3740, 'kenan': 12890, 'kel': 12887, 'apaziguamento': 1382, 'maiori': 13769, 'invadiram': 12324, 'imprevisibilidade': 11581, 'virologistas': 22934, 'automobilística': 2191, 'marcarão': 13970, 'escultura': 8482, 'genitália': 10509, 'diadofotografo': 6943, 'fotógrafos': 10108, 'péssimas': 18202, 'lideranç': 13337, 'encabeçava': 7958, 'poderi': 17064, 'incitada': 11692, 'americ': 1041, 'teresina': 21477, 'liebermann': 13344, 'acessilivre': 215, 'credi': 5578, 'caregiver': 3602, 'reported': 19179, 'early': 7557, 'development': 6893, 'instruments': 12121, 'voluntá': 23071, 'notabilizou': 15457, 'letr': 13230, 'edifica': 7611, 'listamos': 13431, 'subrepresentação': 20913, 'acen': 186, 'recuam': 18735, 'pontochave': 17152, 'madureira': 13733, 'exemplifica': 9052, 'pequeníssima': 16609, 'dinamarquesa': 7043, 'fluxos': 9936, 'migratórios': 14452, 'longínquas': 13524, 'abastecimento': 25, 'amb': 999, 'cras': 5569, 'psiquiatria': 18091, 'conspiracionista': 5055, 'insolvente': 12071, 'práticos': 18010, 'geraciona': 10538, 'estudada': 8826, 'progr': 17789, 'noções': 15508, 'propensos': 17884, 'exagero': 8955, 'reinventado': 18975, 'vínculos': 23150, 'vestibulares': 22747, 'aplicados': 1417, 'sustentado': 21136, 'alcançaremos': 747, 'ofen': 15701, 'dendê': 6260, 'somam': 20728, 'angústia': 1163, 'doutorando': 7433, 'superaram': 21009, 'edições': 7635, 'juan': 12742, 'inex': 11868, 'exseminaristas': 9274, 'lys': 13644, 'eviscera': 8926, 'visões': 22976, 'compilada': 4642, 'platafor': 17000, 'wikileaks': 23222, 'jornalist': 12716, 'informaremos': 11943, 'envelhecimento': 8237, 'sóladies': 21211, 'reinterpreta': 18974, 'espetáculos': 8600, 'imunizou': 11630, 'eclipses': 7568, 'superluas': 21040, 'meteoros': 14382, 'movimentarão': 14869, 'metodologias': 14385, 'contracultura': 5199, 'glezer': 10628, 'catimba': 3747, 'formalizar': 10031, 'maestro': 13736, 'anéis': 1328, 'jurassic': 12807, 'mergul': 14343, 'automobilismo': 2190, 'maislidasdonexo': 13772, 'processada': 17702, 'coletivamente': 4395, 'particula': 16322, 'longametragem': 13517, 'monopoly': 14713, 'temáticos': 21411, 'arquivadas': 1690, 'proporcionou': 17892, 'reexaminar': 18836, 'incertos': 11678, 'nacio': 15069, 'harmonizações': 10994, 'gisberta': 10613, 'salce': 19935, 'comandaram': 4469, 'eleitas': 7721, 'inpe': 12027, 'freeriding': 10168, 'malabarismos': 13784, 'chihiro': 4052, 'apoios': 1449, 'legislativos': 13137, 'exacerbou': 8949, 'cancelados': 3467, 'adaptados': 351, 'valorizado': 22537, 'malinda': 13803, 'herman': 11057, 'denver': 6284, 'emergencia': 7851, 'sarajevo': 20050, 'war': 23182, 'mine': 14514, 'visã': 22974, 'domesticálas': 7378, 'seleci': 20230, 'estabeleçam': 8671, 'sançõe': 20035, 'latinoamericano': 13072, 'terç': 21517, 'estilista': 8750, 'futuristas': 10315, 'altacostura': 898, 'futurama': 10314, 'place': 16973, 'indí': 11847, 'pâmela': 18193, 'carpes': 3644, 'unipampa': 22357, 'escancarad': 8383, 'luke': 13603, 'noss': 15446, 'anexo': 1149, 'exper': 9153, 'enviamos': 8247, 'koichi': 12931, 'impressões': 11580, 'basic': 2528, 'parêntese': 16348, 'compasso': 4624, 'restrospectiva': 19416, 'disponibilizada': 7178, 'resoluções': 19299, 'emagrecer': 7809, 'raves': 18517, 'revogo': 19569, 'empregam': 7921, 'métodos': 15034, 'trilhas': 22076, 'vagalumes': 22497, 'compartilhadas': 4614, 'encadernada': 7959, 'soltas': 20714, 'santoro': 20031, 'jordy': 12704, 'pasa': 16350, 'hibridismo': 11073, 'gratificante': 10780, 'subestimar': 20886, 'sedia': 20161, 'dinossauro': 7051, 'invertida': 12352}\n"
          ]
        }
      ]
    },
    {
      "cell_type": "markdown",
      "metadata": {
        "id": "JCx_ppN3Na-J"
      },
      "source": [
        "## **3.2.2 TfidfVectorizer**\n"
      ]
    },
    {
      "cell_type": "markdown",
      "metadata": {
        "id": "WhkTo-8j2NtC"
      },
      "source": [
        "https://scikit-learn.org/stable/modules/generated/sklearn.feature_extraction.text.TfidfVectorizer.html\n"
      ]
    },
    {
      "cell_type": "code",
      "metadata": {
        "id": "N-USzfOIN_04",
        "colab": {
          "base_uri": "https://localhost:8080/"
        },
        "outputId": "406efd54-55c6-47ab-c3a7-cd0352a9f4c4"
      },
      "source": [
        "### TfidfVectorizer é melhor para datasets maiores(muito grandes), além disso possui mais features para stop_words, lowercase, frequency e etc.\n",
        "from sklearn.feature_extraction.text import TfidfVectorizer\n",
        "\n",
        "vectorizer_tf   =   TfidfVectorizer(min_df=1)\n",
        "tfidfvec        =   vectorizer_tf.fit_transform(corpus)   # Contabiliza a frequencia de uma palavra dentro de uma mensagem em relação a quantas aparições no total ela tem\n",
        "array_vec       =   tfidfvec.toarray()                    # Matriz de arrays com as frequências de uma palavra aprendida em uma determinada mensagem\n",
        "words_lrnd2     =   vectorizer_tf.get_feature_names()     # Palavras aprendidas com os dados \n",
        "\n",
        "print(words_lrnd2[9532:9540])        "
      ],
      "execution_count": 93,
      "outputs": [
        {
          "output_type": "stream",
          "name": "stdout",
          "text": [
            "['favor', 'favoravelmente', 'favorece', 'favorecer', 'favoreceram', 'favorecerem', 'favoreceria', 'favoreça']\n"
          ]
        }
      ]
    },
    {
      "cell_type": "code",
      "metadata": {
        "colab": {
          "base_uri": "https://localhost:8080/"
        },
        "id": "inlo6BU2OiC5",
        "outputId": "abca1199-8d31-4b6a-a1d1-36354217c429",
        "tags": [
          "outputPrepend"
        ]
      },
      "source": [
        "print(vectorizer_tf.vocabulary_)       # Apresenta um dicionário com as palavras e o numero delas dentro do vocabulário \n",
        "\n",
        "print(\"A frequência de aparições da palavra 'tremores' dentro dessa mensagem é: {}%\".format(round(100*(array_vec[0][22033]),2)))"
      ],
      "execution_count": 94,
      "outputs": [
        {
          "output_type": "stream",
          "name": "stdout",
          "text": [
            "': 693, 'fes': 9677, 'beni': 2663, 'negó': 15262, 'interlocução': 12224, 'constituições': 5075, 'assegurouse': 1820, 'liber': 13291, 'pedagógica': 16501, 'desperta': 6744, 'contestam': 5159, 'instrução': 12122, 'normativa': 15429, 'empreendedores': 7911, 'segundafeir': 20197, 'segundafei': 20196, 'alterando': 904, 'amedrontada': 1035, 'metrópole': 14393, 'cosmopolita': 5501, 'bastante': 2532, 'locomovemos': 13494, 'escanc': 8381, 'chloé': 4068, 'zhao': 23344, 'nôma': 15554, 'contrast': 5225, 'conscientizar': 4989, 'implicação': 11526, 'alagoano': 722, 'escancaro': 8387, 'carnavalesco': 3632, 'celeiro': 3850, 'pagodinho': 16098, 'guineto': 10917, 'scène': 20128, 'rue': 19821, 'montmartre': 14738, 'sécul': 21178, 'coreano': 5396, 'privadas': 17674, 'obtêm': 15635, 'pautadas': 16455, 'mukbang': 14925, 'fascínio': 9503, 'escravizados': 8447, 'fazêlo': 9558, 'endurec': 8038, 'contracepção': 5198, 'aaron': 0, 'karp': 12871, 'curadores': 5797, 'ticoulat': 21595, 'restituição': 19398, 'anulam': 1296, 'expressiva': 9251, 'intensificação': 12174, 'associadas': 1875, 'sigi': 20467, 'bharat': 2715, 'biotech': 2791, 'tecn': 21332, 'nexopolíticas': 15334, 'xu': 23285, 'renomados': 19116, 'share': 20435, 'like': 13359, 'traba': 21817, 'influem': 11915, 'aprendiz': 1495, 'migrand': 14449, 'mdma': 14165, 'psilocibina': 18089, 'produzem': 17744, 'reformistas': 18874, 'persistentes': 16740, 'convenção': 5300, 'genebra': 10500, 'vacinações': 22487, 'silenciaram': 20493, 'embarcaram': 7825, 'bebel': 2598, 'desenham': 6566, 'cronogramas': 5691, 'atividad': 2023, 'respire': 19336, 'valiosas': 22529, 'partidár': 16331, 'gorduras': 10702, 'cinto': 4168, 'recup': 18740, 'openai': 15838, 'visuais': 22969, 'descritivas': 6516, 'turbulência': 22205, 'biológicas': 2782, 'responsab': 19351, 'tornálo': 21771, 'oxforda': 16033, 'sonoridades': 20753, 'toxinas': 21811, 'taxi': 21305, 'driver': 7461, 'dissipado': 7212, 'afrodescendência': 550, 'reger': 18905, 'orquestra': 15956, 'ficamos': 9714, 'felizes': 9624, 'juntese': 12795, 'debruçado': 6007, 'espontâneo': 8612, 'desencadear': 6562, 'preparados': 17469, 'contraposição': 5214, 'tirinhas': 21650, 'tintim': 21630, 'maus': 14139, 'diver': 7260, 'disputarão': 7198, 'soros': 20766, 'estabel': 8663, 'barulhinhos': 2515, 'encaixam': 7960, 'designam': 6638, 'lisonjeiros': 13427, 'falcatr': 9394, 'leniência': 13203, 'selma': 20244, 'lagerlöf': 12986, 'literatur': 13433, 'regresso': 18941, 'exilados': 9095, 'blindou': 2827, 'doméstico': 7400, 'farrow': 9490, 'negadas': 15226, 'daft': 5908, 'conseguiremos': 5005, 'gladson': 10618, 'cameli': 3408, 'grafado': 10761, 'incorreta': 11752, 'subtítulo': 20935, 'elder': 7706, 'corrigimos': 5469, 'incluímos': 11716, 'vivenciaram': 23006, 'institutos': 12116, 'wright': 23253, 'galáxia': 10391, 'espiral': 8603, 'confirmaç': 4896, 'camelli': 3409, 'calamidade': 3358, 'mantenedor': 13895, 'propositor': 17895, 'possib': 17248, 'duo': 7491, 'dance': 5934, 'parisiense': 16280, 'daftpunk': 5909, 'carazza': 3588, 'irlandeses': 12445, 'transformações': 21922, 'visualizações': 22973, 'ultimato': 22304, 'paredes': 16265, 'tábua': 22241, 'vocábulo': 23038, 'noutras': 15487, 'cole': 4382, 'schrarstzhaupt': 20113, 'inovações': 12025, 'paguem': 16103, 'busquem': 3241, 'cafeteira': 3320, 'moka': 14672, 'bialetti': 2719, 'encorpados': 8023, 'regis': 18914, 'encantamento': 7975, 'reajustes': 18558, 'joaquim': 12663, 'silên': 20505, 'perturbada': 16769, 'assessorias': 1836, 'navegam': 15173, 'jurídicos': 12817, 'desconsidera': 6498, 'adotaram': 440, 'gravadora': 10794, 'fania': 9446, 'dominicano': 7394, 'pensada': 16578, 'reeleição': 18817, 'cartuns': 3678, 'inox': 12026, 'cerâmica': 3926, 'cerdas': 3907, 'manejálas': 13854, 'discursiva': 7128, 'pausado': 16451, 'inscritos': 12046, 'diadoesportista': 6942, 'enalteceu': 7955, 'separatista': 20330, 'couri': 5529, 'fiscalmente': 9851, 'tribute': 22065, 'rendas': 19103, 'efe': 7658, 'especia': 8547, 'emissão': 7866, 'mamíferos': 13818, 'chri': 4083, 'movimentou': 14874, 'govername': 10734, 'ambientes': 1011, 'guiana': 10909, 'esmiúça': 8515, 'performances': 16667, 'minimament': 14531, 'glaciais': 10616, 'gelado': 10494, 'brasileirismo': 3072, 'quartos': 18296, 'coreto': 5401, 'percebem': 16617, 'demonizar': 6242, 'periga': 16688, 'jog': 12675, 'longevo': 13521, 'izael': 12557, 'caldeira': 3366, 'percussionista': 16629, 'menem': 14275, 'capitaneado': 3549, 'comediantes': 4500, 'fósseis': 10347, 'retraçar': 19481, 'deusa': 6881, 'mascotes': 14068, 'koudounaris': 12940, 'envolver': 8262, 'taschen': 21291, 'produzidas': 17748, 'chandoha': 3978, 'gray': 10811, 'especula': 8567, 'felino': 9618, 'separou': 20332, 'fraternidade': 10151, 'acompanhou': 273, 'estágios': 8852, 'requerida': 19244, 'pslrj': 18095, 'mainstream': 13764, 'retas': 19436, 'revolucionária': 19577, 'ext': 9277, 'admiradores': 407, 'peruanos': 16774, 'burocratas': 3217, 'tortoarado': 21783, 'rodaviva': 19694, 'refletimos': 18859, 'metafóricas': 14375, 'definem': 6123, 'nigeriana': 15359, 'ngozi': 15346, 'okonjoiweala': 15755, 'dirigir': 7101, 'enfraqueceu': 8076, 'reduzi': 18799, 'biologia': 2779, 'financiadas': 9809, 'pensadas': 16579, 'looke': 13525, 'gê': 10930, 'chrissie': 4085, 'adotado': 436, 'compositoras': 4678, 'cinematogr': 4165, 'fiscaliza': 9847, 'armamentos': 1656, 'contestar': 5160, 'econom': 7580, 'minicontos': 14530, 'poesias': 17083, 'nostálgica': 15453, 'endereça': 8030, 'resolvidos': 19308, 'imaginários': 11445, 'amér': 1090, 'glauco': 10623, 'parlamentare': 16288, 'amyr': 1087, 'klink': 12923, 'concepção': 4780, 'apaixonados': 1349, 'vinícolas': 22893, 'urban': 22386, 'sanidade': 20012, 'devolveria': 6914, 'transformados': 21915, 'aliviando': 868, 'aterros': 1984, 'tumultuado': 22191, 'ineficiente': 11859, 'ativida': 2022, 'miles': 14466, 'davis': 5981, 'expoentes': 9214, 'jazz': 12619, 'fusion': 10308, 'entrave': 8197, 'questõe': 18362, 'questionamen': 18353, 'atualizamos': 2104, 'monitorou': 14710, 'negr': 15254, 'nexopolí': 15333, 'tucanas': 22176, 'tent': 21439, 'altocomando': 917, 'fecharem': 9583, 'lógicas': 13677, 'carrie': 3658, 'mae': 13735, 'weems': 23202, 'rodríguez': 19709, 'triana': 22051, 'mestres': 14368, 'discí': 7143, 'sejamos': 20224, 'profis': 17770, 'variados': 22569, 'gêneros': 10935, 'seminua': 20271, 'avritzer': 2310, 'conjuntura': 4968, 'fizera': 9876, 'marcelle': 13976, 'soaressantos': 20610, 'cérebros': 5877, 'bado': 2364, 'percebeu': 16621, 'convenções': 5301, 'poderosas': 17069, 'anomia': 1192, 'jornalism': 12714, 'destesta': 6792, 'contribuirmos': 5248, 'conjuntamente': 4965, 'rashid': 18502, 'cin': 4155, 'derivados': 6345, 'mentores': 14317, 'discípulos': 7144, 'carr': 3646, 'isa': 12488, 'penna': 16576, 'prolífica': 17834, 'sucederam': 20941, 'arroubo': 1730, 'autoritári': 2212, 'argumentam': 1636, 'propiciaram': 17885, 'calendários': 3369, 'narrati': 15119, 'schwartz': 20118, 'retratist': 19478, 'fundamentos': 10268, 'oportunid': 15864, 'pabllo': 16046, 'vittar': 22991, 'sophie': 20760, 'compositores': 4679, 'djs': 7320, 'bic': 2725, 'marcela': 13974, 'instigam': 12104, 'encurtar': 8029, 'corr': 5432, 'godinho': 10655, 'biofuturo': 2774, 'comidafuncional': 4566, 'priorizam': 17661, 'simon': 20517, 'detal': 6834, 'morresse': 14781, 'pudesse': 18137, 'detalhada': 6836, 'jovenel': 12731, 'moïse': 14879, 'contesta': 5156, 'discutidos': 7138, 'sinalização': 20544, 'iphones': 12424, 'satisfeit': 20067, 'desvendar': 6823, 'retumbante': 19490, 'contrassenso': 5224, 'supe': 21002, 'percussão': 16630, 'fariam': 9470, 'feitiço': 9612, 'excluem': 9013, 'arauz': 1605, 'desponta': 6753, 'respaldado': 19312, 'coletivos': 4398, 'dali': 5919, 'emergido': 7855, 'trópicos': 22162, 'montanhas': 14731, 'desinformaçã': 6649, 'superbowl': 21014, 'quarterback': 18293, 'touchdown': 21808, 'tackle': 21229, 'traje': 21872, 'econôm': 7592, 'sputnikv': 20824, 'embalam': 7822, 'patinam': 16411, 'mercadoria': 14327, 'preocupante': 17457, 'enraizadas': 8135, 'iní': 12407, 'moldar': 14675, 'detesta': 6867, 'distancia': 7218, 'cançõ': 3523, 'transto': 21960, 'vitorio': 22983, 'melão': 14256, 'limão': 13390, 'maçã': 14149, 'manga': 13855, 'reféns': 18898, 'estab': 8662, 'contingenciar': 5171, 'neces': 15204, 'lírica': 13671, 'animações': 1175, 'lendas': 13196, 'presidências': 17531, 'apoiados': 1438, 'invalidar': 12329, 'parla': 16283, 'auxílios': 2249, 'refugiarse': 18896, 'deserta': 6592, 'minúsculo': 14563, 'herbert': 11051, 'revertida': 19537, 'reformula': 18875, 'incondicional': 11734, 'rúss': 19868, 'newton': 15322, 'inconveniente': 11746, 'horizontes': 11189, 'informativos': 11944, 'fiquemos': 9836, 'manteria': 13900, 'ensi': 8143, 'subh': 20887, 'exemplares': 9051, 'respectiva': 19313, 'zahar': 23318, 'cump': 5778, 'disruptivos': 7201, 'complexos': 4663, 'ating': 1994, 'podemo': 17058, 'bolsonaros': 2936, 'maias': 13759, 'sarneys': 20059, 'colonizaç': 4440, 'ningu': 15364, 'limit': 13369, 'explicando': 9184, 'imputada': 11606, 'autoinfligida': 2187, 'normais': 15422, 'populistas': 17175, 'administrável': 406, 'ilustrad': 11418, 'espaçada': 8539, 'deficit': 6119, 'larissa': 13051, 'boesing': 2876, 'agremiações': 632, 'profissionalizaram': 17775, 'alv': 938, 'contemporâneos': 5154, 'congressogife': 4942, 'implementado': 11518, 'matadora': 14086, 'raquete': 18490, 'matamosquitos': 14091, 'eletrificada': 7742, 'abrimos': 96, 'escapar': 8396, 'envenenamento': 8238, 'colônia': 4457, 'acenderam': 190, 'tortur': 21784, 'pragas': 17331, 'delegar': 6183, 'cpfs': 5553, 'veiculação': 22620, 'automóvel': 2198, 'etária': 8882, 'demandou': 6209, 'generalizante': 10506, 'heterogêneo': 11068, 'pergun': 16672, 'veraneio': 22698, 'obj': 15575, 'schenberg': 20110, 'cientistasdobrasil': 4138, 'astr': 1915, 'potável': 17288, 'gara': 10423, 'anul': 1291, 'repaginação': 19138, 'televisivos': 21373, 'ambientada': 1005, 'buscavam': 3238, 'difere': 6984, 'cie': 4131, 'atômico': 2124, 'antecessor': 1210, 'inovar': 12023, 'experimentação': 9165, 'mardi': 13993, 'gras': 10776, 'iamin': 11299, 'huawei': 11239, 'dentr': 6269, 'anulado': 1294, 'percepção': 16624, 'orqu': 15955, 'joaquín': 12664, 'carvajal': 3681, 'criativos': 5625, 'natércia': 15164, 'abarrotada': 22, 'efêmeros': 7675, 'cristais': 5658, 'rod': 19686, 'dacombe': 5903, 'london': 13512, 'motivações': 14830, 'alienado': 841, 'cenógrafo': 3896, 'arqueólogo': 1679, 'candidaturas': 3486, 'cearense': 3817, 'steven': 20850, 'levitsky': 13268, 'get': 10581, 'away': 2314, 'murder': 14966, 'acessolivres': 218, 'patamares': 16400, 'linhagens': 13409, 'nor': 15417, 'absorve': 114, 'discriminatórios': 7124, 'block': 2831, 'backstreet': 2358, 'nexopo': 15332, 'lhes': 13286, 'negados': 15229, 'diadavisibilidadetrans': 6941, 'boy': 3036, 'estigma': 8748, 'coordenada': 5364, 'ineficaze': 11857, 'merc': 14323, 'filmagens': 9769, 'drone': 7466, 'lapso': 13038, 'curtametragem': 5818, 'nafis': 15084, 'nuanc': 15513, 'visibilidade': 22954, 'vereadoras': 22714, 'actifan': 319, 'zerogravity': 23340, 'glossário': 10647, 'vazado': 22596, 'notificada': 15472, 'refrescar': 18888, 'animar': 1172, 'formatos': 10041, 'aprov': 1527, 'encomendadas': 8003, 'reddit': 18779, 'desafiaram': 6397, 'apostavam': 1474, 'buchi': 3191, 'emecheta': 7845, 'up': 22383, 'ilan': 11397, 'lapyda': 13039, 'financeirização': 9804, 'ec': 7565, 'maquiagem': 13939, 'darmos': 5968, 'terapias': 21466, 'anticientíficas': 1233, 'atrasando': 2064, 'reitora': 18983, 'architect': 1614, 'capitol': 3550, 'sí': 21193, 'imaginário': 11444, 'áustria': 23405, 'industriais': 11841, 'atençã': 1979, 'convers': 5303, 'aglutinar': 596, 'enfrentarem': 8089, 'motivam': 14828, 'ecólogo': 7604, 'fearnside': 9568, 'cinc': 4156, 'giuseppe': 10614, 'descasca': 6458, 'tomate': 21719, 'dívi': 7546, 'desigualdad': 6644, 'dezemb': 6920, 'fixaram': 9870, 'ideológico': 11349, 'aith': 696, 'hobsbawm': 11128, 'soviético': 20796, 'conectavam': 4855, 'aldeias': 758, 'uniam': 22340, 'culturas': 5775, 'anne': 1187, 'hidalgo': 11075, 'recusado': 18764, 'shijiazhuang': 20441, 'província': 17998, 'hebei': 11025, 'youtub': 23307, 'nautilus': 15165, 'descobertas': 6470, 'refeição': 18838, 'turi': 22209, 'mattoso': 14124, 'roteiristachefe': 19770, 'neblina': 15198, 'soam': 20607, 'extraordinárias': 9306, 'chappell': 3986, 'brunel': 3168, 'julie': 12778, 'parsons': 16301, 'plym': 17029, 'alexei': 804, 'navalny': 15169, 'investigativos': 12375, 'locomotiva': 13493, 'rsssf': 19806, 'disponibiliza': 7177, 'impasses': 11494, 'uffizi': 22289, 'pintor': 16913, 'ecos': 7598, 'livrou': 13463, 'contrapondo': 5211, 'infundadas': 11961, 'memb': 14257, 'populosos': 17177, 'internas': 12245, 'poison': 17088, 'garden': 10434, 'finlândia': 9823, 'agasalhada': 562, 'descolonização': 6483, 'ciências': 4217, 'cientistatrabalhando': 4139, 'cand': 3477, 'interseccional': 12272, 'popu': 17161, 'sucessivos': 20943, 'moment': 14689, 'déc': 7534, 'chalhoub': 3949, 'chalhoud': 3950, 'repartições': 19145, 'constituiçã': 5073, 'miligramas': 14482, 'paper': 16186, 'manutençã': 13924, 'biológica': 2781, 'megadiversos': 14219, 'etnografia': 8879, 'situaç': 20590, 'americas': 1046, 'quarterly': 18294, 'buttliere': 3248, 'recria': 18726, 'construções': 5094, 'compila': 4641, 'ediç': 7633, 'sucessores': 20946, 'magra': 13753, 'descendente': 6461, 'solteir': 20716, 'gouda': 10720, 'canastra': 3460, 'desafiado': 6390, 'responsabilizar': 19361, 'elei': 7718, 'nordes': 15419, 'frustrante': 10212, 'irritação': 12482, 'cercada': 3902, 'reincluído': 18968, 'cronog': 5689, 'fissura': 9862, 'fotojornalista': 10105, 'gui': 10906, 'christ': 4086, 'violam': 22897, 'insist': 12066, 'telas': 21349, 'aparecimento': 1365, 'massivo': 14080, 'miopia': 14565, 'externos': 9291, 'organizaram': 15924, 'levada': 13238, 'consideração': 5039, 'kelly': 12888, 'kom': 12932, 'panelaços': 16169, 'trancista': 21889, 'mayara': 14144, 'disponib': 7175, 'controversa': 5266, 'padeceu': 16068, 'luther': 13633, 'cursando': 5813, 'fundam': 10262, 'pediatras': 16514, 'retomarem': 19462, 'liberalizante': 13300, 'eleilson': 7719, 'desa': 6367, 'constantes': 5062, 'visam': 22950, 'mantida': 13903, 'restante': 19387, 'saborosas': 19889, 'telma': 21376, 'shiraishi': 20444, 'laurentiis': 13081, 'irlandesas': 12444, 'reencontrar': 18824, 'abrace': 68, 'abortar': 64, 'ágape': 23380, 'ces': 3927, 'tendências': 21421, 'apresentados': 1507, 'feiticeira': 9611, 'jeannie': 12628, 'fábr': 10326, 'adiamentos': 376, 'alimentaram': 849, 'assintomáticas': 1857, 'defasagem': 6090, 'manual': 13918, 'atrib': 2079, 'ensiname': 8146, 'estruturantes': 8821, 'estruturadoras': 8817, 'desigualda': 6643, 'apalpou': 1352, 'nexoedunoenem': 15327, 'atualidades': 2100, 'entusiasta': 8231, 'acessados': 209, 'afirmativa': 532, 'forçou': 10093, 'minh': 14523, 'caderneta': 3312, 'investidas': 12358, 'desestabilizam': 6604, 'tirálos': 21657, 'veícul': 22771, 'detoxificação': 6874, 'induzir': 11844, 'pucrio': 18132, 'juliano': 12777, 'rompa': 19736, 'esterilidade': 8740, 'abrese': 86, 'lingua': 13400, 'museum': 14976, 'aposentos': 1467, 'inventor': 12344, 'psi': 18068, 'senegal': 20286, 'durado': 7502, 'esperados': 8582, 'polonês': 17114, 'angustiante': 1161, 'linh': 13406, 'maguito': 13755, 'vilela': 22857, 'watch': 23191, 'phil': 16865, 'collins': 4413, 'bateria': 2559, 'influenciou': 11924, 'cogumelos': 4361, 'nexoedu': 15326, 'facilitador': 9358, 'punilo': 18159, 'capitóli': 3553, 'julgamentos': 12768, 'miscigenações': 14580, 'sepultamentos': 20335, 'gráficas': 10859, 'logos': 13499, 'mineira': 14515, 'nãoessencial': 15543, 'revitalizar': 19562, 'concluídas': 4794, 'difundam': 7001, 'verões': 22743, 'biontechpfizer': 2789, 'resultam': 19421, 'liderado': 13335, 'persistir': 16741, 'seattle': 20132, 'seahawks': 20131, 'captada': 3562, 'sismógrafo': 20578, 'washing': 23188, 'mountian': 14849, 'adian': 377, 'couberam': 5525, 'brics': 3112, 'pisar': 16942, 'acess': 207, 'detrimento': 6877, 'campello': 3433, 'conversation': 5313, 'psicólogo': 18086, 'gary': 10457, 'levantamentos': 13249, 'parida': 16277, 'paulatina': 16439, 'devolu': 6909, 'epilepsia': 8293, 'proibitivo': 17811, 'familiare': 9432, 'dispensada': 7167, 'atestará': 1989, 'incompletas': 11729, 'canosa': 3498, 'pasternak': 16394, 'valter': 22542, 'hugo': 11243, 'reunidas': 19498, 'infânci': 11962, 'bicentenária': 2726, 'pulsos': 18151, 'tornozelos': 21770, 'zíperes': 23373, 'apetrechos': 1403, 'visite': 22963, 'viacomcbs': 22783, 'catdog': 3740, 'kenan': 12890, 'kel': 12887, 'apaziguamento': 1382, 'maiori': 13769, 'invadiram': 12324, 'imprevisibilidade': 11581, 'virologistas': 22934, 'automobilística': 2191, 'marcarão': 13970, 'escultura': 8482, 'genitália': 10509, 'diadofotografo': 6943, 'fotógrafos': 10108, 'péssimas': 18202, 'lideranç': 13337, 'encabeçava': 7958, 'poderi': 17064, 'incitada': 11692, 'americ': 1041, 'teresina': 21477, 'liebermann': 13344, 'acessilivre': 215, 'credi': 5578, 'caregiver': 3602, 'reported': 19179, 'early': 7557, 'development': 6893, 'instruments': 12121, 'voluntá': 23071, 'notabilizou': 15457, 'letr': 13230, 'edifica': 7611, 'listamos': 13431, 'subrepresentação': 20913, 'acen': 186, 'recuam': 18735, 'pontochave': 17152, 'madureira': 13733, 'exemplifica': 9052, 'pequeníssima': 16609, 'dinamarquesa': 7043, 'fluxos': 9936, 'migratórios': 14452, 'longínquas': 13524, 'abastecimento': 25, 'amb': 999, 'cras': 5569, 'psiquiatria': 18091, 'conspiracionista': 5055, 'insolvente': 12071, 'práticos': 18010, 'geraciona': 10538, 'estudada': 8826, 'progr': 17789, 'noções': 15508, 'propensos': 17884, 'exagero': 8955, 'reinventado': 18975, 'vínculos': 23150, 'vestibulares': 22747, 'aplicados': 1417, 'sustentado': 21136, 'alcançaremos': 747, 'ofen': 15701, 'dendê': 6260, 'somam': 20728, 'angústia': 1163, 'doutorando': 7433, 'superaram': 21009, 'edições': 7635, 'juan': 12742, 'inex': 11868, 'exseminaristas': 9274, 'lys': 13644, 'eviscera': 8926, 'visões': 22976, 'compilada': 4642, 'platafor': 17000, 'wikileaks': 23222, 'jornalist': 12716, 'informaremos': 11943, 'envelhecimento': 8237, 'sóladies': 21211, 'reinterpreta': 18974, 'espetáculos': 8600, 'imunizou': 11630, 'eclipses': 7568, 'superluas': 21040, 'meteoros': 14382, 'movimentarão': 14869, 'metodologias': 14385, 'contracultura': 5199, 'glezer': 10628, 'catimba': 3747, 'formalizar': 10031, 'maestro': 13736, 'anéis': 1328, 'jurassic': 12807, 'mergul': 14343, 'automobilismo': 2190, 'maislidasdonexo': 13772, 'processada': 17702, 'coletivamente': 4395, 'particula': 16322, 'longametragem': 13517, 'monopoly': 14713, 'temáticos': 21411, 'arquivadas': 1690, 'proporcionou': 17892, 'reexaminar': 18836, 'incertos': 11678, 'nacio': 15069, 'harmonizações': 10994, 'gisberta': 10613, 'salce': 19935, 'comandaram': 4469, 'eleitas': 7721, 'inpe': 12027, 'freeriding': 10168, 'malabarismos': 13784, 'chihiro': 4052, 'apoios': 1449, 'legislativos': 13137, 'exacerbou': 8949, 'cancelados': 3467, 'adaptados': 351, 'valorizado': 22537, 'malinda': 13803, 'herman': 11057, 'denver': 6284, 'emergencia': 7851, 'sarajevo': 20050, 'war': 23182, 'mine': 14514, 'visã': 22974, 'domesticálas': 7378, 'seleci': 20230, 'estabeleçam': 8671, 'sançõe': 20035, 'latinoamericano': 13072, 'terç': 21517, 'estilista': 8750, 'futuristas': 10315, 'altacostura': 898, 'futurama': 10314, 'place': 16973, 'indí': 11847, 'pâmela': 18193, 'carpes': 3644, 'unipampa': 22357, 'escancarad': 8383, 'luke': 13603, 'noss': 15446, 'anexo': 1149, 'exper': 9153, 'enviamos': 8247, 'koichi': 12931, 'impressões': 11580, 'basic': 2528, 'parêntese': 16348, 'compasso': 4624, 'restrospectiva': 19416, 'disponibilizada': 7178, 'resoluções': 19299, 'emagrecer': 7809, 'raves': 18517, 'revogo': 19569, 'empregam': 7921, 'métodos': 15034, 'trilhas': 22076, 'vagalumes': 22497, 'compartilhadas': 4614, 'encadernada': 7959, 'soltas': 20714, 'santoro': 20031, 'jordy': 12704, 'pasa': 16350, 'hibridismo': 11073, 'gratificante': 10780, 'subestimar': 20886, 'sedia': 20161, 'dinossauro': 7051, 'invertida': 12352}\nA frequência de aparições da palavra 'tremores' dentro dessa mensagem é: 0.0%\n"
          ]
        }
      ]
    },
    {
      "cell_type": "markdown",
      "metadata": {
        "id": "ZZI2-_8JbeTd"
      },
      "source": [
        "## **3.2.3 Pontos que as bibliotecas podem desenvolver**"
      ]
    },
    {
      "cell_type": "markdown",
      "metadata": {
        "id": "35DWdjh3b-q-"
      },
      "source": [
        "### **- Corrige palavras iguais escritas de maneiras diferentes. Ex: Maradona vs MarADOna**\n",
        "### **- Retira pontuações e espaços**\n",
        "### **- Retira palavras com frequencia muito alta ou muito baixa**"
      ]
    },
    {
      "cell_type": "code",
      "metadata": {
        "colab": {
          "base_uri": "https://localhost:8080/"
        },
        "id": "OmC3jtbib-rC",
        "outputId": "6e3d971e-e1d8-485f-90a3-429238cfa3d7",
        "tags": [
          "outputPrepend"
        ]
      },
      "source": [
        "### Analisa as mensagens (documentos) exclui todas as palavras que aparecem em menos de 2 documentos\n",
        "### Baixa frequência\n",
        "\n",
        "vectors1       = CountVectorizer(min_df = 2)              # Se numero inteiro, aparentemente é considerada a contagem da palavra, já se for numero entre 0 e 1,\n",
        "                                                          # a porcentagem de documentos em que a palavra apareceu.  \n",
        "count_vectors1 = vectors1.fit_transform(corpus)\n",
        "print(\"\\nvocabulario 1: \",vectors1.vocabulary_)\n",
        "print(\"\\nshape do vocabulario 1:1 \",count_vectors1.shape)"
      ],
      "execution_count": 95,
      "outputs": [
        {
          "output_type": "stream",
          "name": "stdout",
          "text": [
            "4, 'telejornal': 10982, 'guerreiro': 5608, 'árvore': 12065, 'pense': 8526, 'etc': 4544, 'greca': 5562, 'semteto': 10453, 'prefe': 8944, 'orienta': 8184, 'trabalhista': 11237, 'dó': 3876, 'zero': 12033, 'encarar': 4090, 'cortada': 2812, 'seguidas': 10389, 'tenebroso': 11015, 'incompetentes': 6028, 'vacinasim': 11594, 'acuados': 175, 'incitação': 6012, 'motins': 7608, 'extremistas': 4777, 'ruptura': 10205, 'trocando': 11389, 'aeronáutica': 255, 'onyx': 8131, 'lorenzoni': 6927, 'edith': 3907, 'piá': 8710, 'redemocratização': 9705, 'assistindo': 967, 'equilibrar': 4246, 'liderou': 6822, 'unindo': 11518, 'renuncie': 9872, 'incita': 6010, 'apagou': 695, 'polít': 8794, 'lamentando': 6644, 'surtado': 10846, 'constante': 2603, 'corroer': 2809, 'atirou': 1043, 'autoritária': 1155, 'meiodia': 7294, 'neonazistas': 7849, 'sarah': 10323, 'cozinhas': 2846, 'olinda': 8103, 'consigo': 2595, 'recesso': 9638, 'riocentro': 10094, 'expoente': 4719, 'figuras': 5017, 'portão': 8840, 'coloque': 2256, 'patricia': 8434, 'eletrodomésticos': 3975, 'supremacista': 10829, 'sofrendo': 10660, 'desumana': 3462, 'vocação': 11890, 'refino': 9734, 'maravilhosa': 7144, 'muro': 7687, 'popularizar': 8814, 'resolvi': 9945, 'tríplex': 11415, 'contínuo': 2723, 'comentarista': 2300, 'alt': 469, 'radicalmente': 9533, 'exigindo': 4657, 'lançamos': 6660, 'supremacistas': 10830, 'pregar': 8957, 'fascista': 4875, 'brt': 1611, 'terreiro': 11057, 'afro': 293, 'aberração': 18, 'usem': 11560, 'deliberadamente': 3178, 'escrever': 4323, 'jessé': 6469, 'resolveram': 9943, 'doente': 3777, 'chegaria': 2048, 'lavajato': 6691, 'africana': 290, 'tomamos': 11177, 'sirva': 10612, 'corrige': 2807, 'cometido': 2311, 'lú': 7006, 'celebradas': 1933, 'editor': 3908, 'prolongado': 9202, 'importâ': 5938, 'subterfúgio': 10768, 'matadouro': 7217, 'comunistas': 2429, 'peço': 8660, 'específicos': 4384, 'certas': 1981, 'desapareceram': 3288, 'suicida': 10784, 'montenegro': 7559, 'conivente': 2542, 'caldo': 1708, 'fumaça': 5265, 'cumplicidade': 2978, 'pego': 8498, 'tratado': 11306, 'sej': 10419, 'essenciais': 4424, 'cemitérios': 1947, 'enterrar': 4174, 'carência': 1874, 'abjeta': 29, 'decisivas': 3093, 'dói': 3877, 'condenando': 2464, 'perdoa': 8564, 'assino': 959, 'desacato': 3276, 'reagir': 9579, 'caminh': 1729, 'adriana': 235, 'consequência': 2578, 'restam': 9982, 'extermínio': 4756, 'fazendeiros': 4906, 'representações': 9903, 'ratinho': 9562, 'equivocada': 4255, 'limitada': 6842, 'curtiu': 3002, 'noturna': 7948, 'bri': 1586, 'entendam': 4166, 'sabiam': 10237, 'acionando': 135, 'gráficos': 5584, 'censurou': 1954, 'incentiva': 5996, 'volto': 11912, 'use': 11559, 'dra': 3825, 'expôs': 4745, 'bolsonarogenocida': 1503, 'analisando': 579, 'anjo': 618, 'acho': 127, 'jeanine': 6458, 'terrorismo': 11066, 'banana': 1261, 'promotores': 9212, 'exmulher': 4674, 'fumar': 5264, 'psicopata': 9337, 'ensinou': 4162, 'bbbcarla': 1333, 'ajoelhou': 367, 'pregando': 8956, 'desafiou': 3285, 'declar': 3097, 'negac': 7814, 'thread': 11112, 'dom': 3786, 'acadêmica': 80, 'calúnia': 1721, 'furaram': 5295, 'escuto': 4340, 'pautado': 8454, 'enfiar': 4123, 'manso': 7117, 'desesperadamente': 3367, 'joice': 6494, 'reaparece': 9600, 'mesmas': 7359, 'viciado': 11785, 'confie': 2491, 'difamação': 3549, 'entes': 4177, 'recebam': 9617, 'inesquecível': 6096, 'protestando': 9269, 'vazamentos': 11655, 'suspeiçãodemoro': 10855, 'bozo': 1548, 'nulo': 7969, 'inelegível': 6093, 'grau': 5542, 'reconhecida': 9660, 'tweets': 11449, 'bôas': 1660, 'julgados': 6535, 'decente': 3082, 'cano': 1779, 'caros': 1851, 'aluguéis': 486, 'resta': 9980, 'mesmos': 7361, 'solto': 10686, 'tarantino': 10934, 'falácia': 4842, 'aguentou': 353, 'achar': 124, 'chato': 2025, 'pros': 9253, 'babi': 1230, 'madalena': 7021, 'siqueira': 10611, 'comitiva': 2327, 'mascara': 7208, 'pérola': 9393, 'marítimo': 7206, 'baianos': 1237, 'paulistana': 8446, 'carmem': 1841, 'sera': 10494, 'rolar': 10146, 'afastar': 265, 'mimimi': 7432, 'sacanagem': 10246, 'cortina': 2819, 'prevendo': 9065, 'próximas': 9321, 'nebulosos': 7806, 'indicada': 6060, 'inde': 6043, 'compatriotas': 2356, 'sema': 10438, 'tratando': 11311, 'asfixiado': 923, 'frescura': 5238, 'chorando': 2079, 'gênio': 5629, 'vendeu': 11699, 'diálogos': 3746, 'ufpel': 11488, 'gtgtgt': 5595, 'braçada': 1578, 'estagiário': 4445, 'jockey': 6475, 'ignorantes': 5849, 'álbuns': 12056, 'declarado': 3099, 'tribuna': 11356, 'assinei': 958, 'religiosas': 9838, 'tirou': 11144, 'procuradora': 9140, 'sinceramente': 10595, 'heineken': 5674, 'refeições': 9727, 'pesso': 8637, 'delegada': 3173, 'petistas': 8647, 'conte': 2650, 'pessimista': 8635, 'flagrante': 5095, 'provocando': 9293, 'infinito': 6115, 'conduz': 2474, 'contribua': 2703, 'varmengo': 11646, 'infeliz': 6110, 'compreender': 2399, 'consumir': 2631, 'batalhas': 1315, 'queimar': 9463, 'juma': 6545, 'rr': 10189, 'questionamento': 9490, 'esquemas': 4413, 'repetidas': 9885, 'acre': 166, 'extr': 4764, 'ame': 533, 'acertar': 109, 'cabecinha': 1664, 'nesses': 7857, 'publicaram': 9357, 'repugnantes': 9913, 'socialismo': 10648, 'lomba': 6916, 'evo': 4586, 'morales': 7571, 'parceiros': 8345, 'estrangeiro': 4495, 'traidor': 11255, 'marena': 7170, 'gerado': 5418, 'antidemocráticos': 646, 'reitor': 9799, 'falsificou': 4832, 'deveríamos': 3510, 'conka': 2546, 'envergonhar': 4213, 'arbitragem': 837, 'decidi': 3087, 'armar': 862, 'raphael': 9549, 'klaus': 6606, 'inconciliável': 6031, 'sol': 10672, 'escolhida': 4308, 'leitão': 6728, 'arrependimento': 890, 'perspectivas': 8612, 'fiquei': 5068, 'open': 8136, 'aruka': 915, 'acumulou': 177, 'servidora': 10512, 'exigi': 4655, 'presteza': 9049, 'novavax': 7958, 'diplomáticas': 3592, 'acabando': 71, 'tembé': 10991, 'im': 5875, 'engenharia': 4144, 'atípico': 1111, 'grato': 5536, 'armamentista': 860, 'ampliando': 566, 'munições': 7682, 'publicados': 9352, 'gêmeas': 5624, 'mel': 7296, 'triathlon': 11354, 'prado': 8905, 'evidenciam': 4573, 'fabiano': 4784, 'sinceridade': 10596, 'contágios': 2722, 'remoção': 9850, 'jacinda': 6430, 'ardern': 842, 'pioneira': 8689, 'séculos': 10890, 'compradas': 2390, 'nóbrega': 7984, 'boninho': 1524, 'vaquinha': 11631, 'possamos': 8857, 'conduzido': 2475, 'alienígena': 443, 'colocando': 2248, 'excluído': 4632, 'triunfo': 11386, 'imparcial': 5907, 'parcialidade': 8351, 'latas': 6678, 'finalidade': 5045, 'cúmplices': 3029, 'aspectos': 928, 'assess': 941, 'durma': 3857, 'vazajato': 11653, 'solberg': 10674, 'ev': 4560, 'confirme': 2506, 'adicionais': 205, 'saudação': 10338, 'chicletes': 2060, 'alfafa': 420, 'prosperidade': 9255, 'foliões': 5133, 'transferir': 11272, 'miriam': 7475, 'fazerem': 4909, 'carreataforabolsonaro': 1853, 'constitucionais': 2604, 'enfermeiro': 4122, 'baseada': 1306, 'cordial': 2767, 'formalidade': 5154, 'leveza': 6776, 'acessolivre': 118, 'realidades': 9584, 'estante': 4447, 'favoritos': 4900, 'diplomática': 3591, 'maislidasnonexo': 7055, 'assinantes': 952, 'propagam': 9230, 'polinização': 8783, 'trazemos': 11333, 'seleçãonexopp': 10431, 'nexoespecial': 7884, 'estadodademocracia': 4440, 'estabilizar': 4436, 'nexojornal': 7886, 'socie': 10650, 'gamarevista': 5345, 'podcastentreaberta': 8753, 'histó': 5709, 'durmacomessa': 3858, 'nexográfico': 7885, 'erica': 4262, 'relembramos': 9829, 'observação': 8017, 'elaborada': 3948, 'nexoarquivo': 7881, 'léxico': 6993, 'agradecemos': 321, 'difer': 3550, 'originalmente': 8197, 'franquias': 5217, 'descobertos': 3307, 'poemas': 8772, 'proclamada': 9136, 'quandocomeçaoséculo': 9436, 'medeiros': 7266, 'diadoorgulhonerd': 3530, 'objetodeanálisegama': 7998, 'atribuído': 1089, 'contemporâneo': 2654, 'mulhere': 7663, 'daqueles': 3054, 'interativo': 6250, 'psicológicos': 9336, 'repetindo': 9886, 'nexopolíticaspúblicas': 7887, 'feltran': 4949, 'encomendada': 4100, 'curadoria': 2989, 'conversou': 2735, 'transexuais': 11270, 'surgiram': 10838, 'alça': 500, 'exime': 4662, 'apreensões': 766, 'consultar': 2622, 'augus': 1119, 'ilega': 5861, 'ciênciajárespondeu': 2153, 'revolucionou': 10076, 'menescal': 7319, 'modernizando': 7516, 'sonoridade': 10700, 'revisit': 10063, 'ufrrj': 11490, 'investigou': 6332, 'pelotas': 8511, 'continente': 2665, 'olá': 8107, 'transmissíveis': 11289, 'natureba': 7785, 'densidade': 3216, 'sobrecarga': 10636, 'influencia': 6119, 'semanagama': 10440, 'consome': 2600, 'christian': 2085, 'dunker': 3846, 'dialogam': 3532, 'astrologia': 993, 'contemporaneidade': 2652, 'contestações': 2659, 'biblioteca': 1403, 'soar': 10625, 'convencido': 2725, 'remotamente': 9847, 'influente': 6123, 'coordenadora': 2753, 'adaptação': 192, 'catálogo': 1896, 'hqs': 5776, 'baseadas': 1307, 'instrumentos': 6214, 'diminuíram': 3579, 'drasticamente': 3829, 'contemporânea': 2653, 'bibliografia': 1402, 'antropologia': 659, 'profissões': 9178, 'gestãopública': 5440, 'variação': 11645, 'scot': 10359, 'warhol': 11971, 'graduação': 5526, 'pareceria': 8357, 'acadêmicas': 81, 'lobato': 6899, 'demandas': 3186, 'habitacionais': 5636, 'expre': 4730, 'lidam': 6814, 'africanos': 292, 'psicóloga': 9339, 'bilheteria': 1415, 'gêner': 5625, 'complementar': 2368, 'soci': 10645, 'simplesme': 10584, 'substitui': 10761, 'jus': 6561, 'dex': 3516, 'acessível': 120, 'competidora': 2360, 'impe': 5910, 'programador': 9184, 'trabalh': 11225, 'evoluem': 4587, 'ligia': 6834, 'filmografia': 5035, 'sobral': 10633, 'histór': 5710, 'sociologia': 10652, 'embates': 4022, 'isaac': 6390, 'universidad': 11523, 'índex': 12080, 'mobilizações': 7502, 'ecologia': 3885, 'garota': 5375, 'denunciam': 3224, 'ingredientes': 6146, 'acessar': 115, 'substância': 10765, 'funcionalidade': 5270, 'conectados': 2480, 'especi': 4368, 'diadacaatinga': 3528, 'canadense': 1755, 'descreve': 3326, 'mexeu': 7384, 'músicos': 7744, 'representatividades': 9901, 'dependem': 3234, 'berenice': 1379, 'corporalidades': 2781, 'estu': 4513, 'enxaqueca': 4232, 'fibromialgia': 4995, 'ouvimos': 8227, 'macroeconomia': 7018, 'feausp': 4917, 'calcula': 1705, 'composições': 2386, 'ilustram': 5872, 'regulatório': 9787, 'usos': 11564, 'considerados': 2589, 'links': 6864, 'utiliza': 11570, 'validar': 11617, 'ziguezague': 12040, 'ocor': 8033, 'estufa': 4524, 'estilos': 4475, 'diamundialdolivro': 3536, 'livreiro': 6890, 'resgatamos': 9932, 'prejudicam': 8962, 'escolhemos': 4305, 'cuj': 2963, 'ecossistêmicos': 3899, 'quadrinistas': 9422, 'pol': 8776, 'resp': 9947, 'unanimidade': 11506, 'inova': 6168, 'entendimento': 4171, 'leves': 6775, 'resíduos': 10005, 'obrigou': 8013, 'paixões': 8279, 'audiovisual': 1114, 'cineastas': 2124, 'traço': 11337, 'governamentais': 5509, 'polític': 8796, 'polonesa': 8787, 'ailton': 361, 'krenak': 6617, 'governamental': 5510, 'pósgraduação': 9399, 'cpte': 2855, 'transdisciplinar': 11269, 'experimente': 4691, 'knowledge': 6611, 'hist': 5705, 'tradutora': 11250, 'instabilidade': 6196, 'correa': 2789, 'demonstraram': 3208, 'cumpridas': 2981, 'visualizar': 11856, 'extratosdasemana': 4770, 'porcentagem': 8818, 'rigorosas': 10092, 'fu': 5257, 'tornarse': 11200, 'dissertação': 3682, 'impa': 5900, 'politiquês': 8785, 'costumam': 2824, 'escolhidos': 4310, 'aparecida': 702, 'vilaça': 11803, 'convívio': 2749, 'calçadas': 1719, 'iluminação': 5868, 'led': 6702, 'ocupações': 8051, 'login': 6909, 'lsd': 6949, 'naércio': 7801, 'menezes': 7320, 'insper': 6186, 'márcia': 7705, 'recuper': 9683, 'alavancar': 384, 'letrux': 6760, 'panorama': 8310, 'tropicais': 11399, 'biólogo': 1443, 'exclusivos': 4630, 'aílton': 1226, 'exemplos': 4642, 'natalia': 7778, 'timerman': 11122, 'colombiano': 2252, 'celebrações': 1939, 'estã': 4536, 'formado': 5152, 'criticados': 2918, 'recorte': 9675, 'lélia': 6991, 'gonzalez': 5487, 'raça': 9567, 'pesquisadorases': 8630, 'pretasos': 9055, 'pardasos': 8353, 'estimou': 4481, 'rodadas': 10126, 'consultou': 2626, 'morcegos': 7573, 'insuficiência': 6219, 'acessado': 114, 'preparadas': 8991, 'rights': 10090, 'reabilitação': 9572, 'prefeitas': 8946, 'examina': 4599, 'esquecimento': 4410, 'quandocomecaoseculo': 9435, 'passatempos': 8417, 'anodagamarevista': 622, 'ime': 5885, 'orador': 8166, 'abolicionista': 30, 'desembarcou': 3342, 'rotas': 10168, 'enfraquecendo': 4125, 'prestativas': 9046, 'bichos': 1405, 'tendemos': 11011, 'individualistas': 6078, 'servir': 10514, 'antiguidades': 652, 'pitanga': 8704, 'egípcia': 3939, 'experi': 4686, 'étnicoraciais': 12075, 'dimensões': 3574, 'dirigido': 3623, 'coordenar': 2754, 'compartilham': 2352, 'romano': 10151, 'feriad': 4957, 'sha': 10542, 'tin': 11125, 'mobiliário': 7504, 'ár': 12058, 'retrocessos': 10035, 'pressões': 9040, 'declínio': 3105, 'diversidaderacial': 3711, 'disponibilidade': 3660, 'receberão': 9624, 'jor': 6499, 'causados': 1903, 'recuperamos': 9686, 'semanais': 10441, 'desocupação': 3407, 'consolidar': 2598, 'atendidos': 1015, 'reduzidos': 9712, 'reprovação': 9908, 'acionada': 133, 'cham': 1999, 'bolsonaris': 1498, 'nex': 7879, 'brandão': 1560, 'reestruturação': 9726, 'norueguesa': 7936, 'pritzker': 9114, 'honr': 5752, 'superheróis': 10807, 'movimentações': 7632, 'envolvem': 4228, 'trabalharam': 11235, 'virgílio': 11838, 'reviravoltas': 10061, 'expõ': 4746, 'tango': 10927, 'musicou': 7692, 'especializado': 4376, 'king': 6603, 'college': 2243, 'irlanda': 6368, 'premiados': 8972, 'ganhadores': 5352, 'conceito': 2442, 'formuladores': 5164, 'doutorado': 3818, 'acadêmicos': 83, 'errata': 4272, 'entrevistada': 4203, 'kovacs': 6616, 'lucia': 6955, 'pluralidade': 8740, 'controvérsias': 2715, 'tailândia': 10913, 'suite': 10787, 'education': 3923, 'consultas': 2623, 'nó': 7983, 'examinam': 4601, 'acervos': 113, 'voltados': 11902, 'denunciadas': 3221, 'procedimentos': 9132, 'proporcionalmente': 9237, 'contrapõe': 2689, 'moderad': 7511, 'estátuas': 4534, 'aerossóis': 258, 'intern': 6267, 'expedição': 4685, 'geológicas': 5413, 'barril': 1299, 'commodity': 2330, 'muggah': 7656, 'igarapé': 5844, 'secas': 10364, 'inundações': 6301, 'aceito': 93, 'pess': 8633, 'políticamortal': 8798, 'battlestar': 1328, 'galactica': 5335, 'contos': 2675, 'byington': 1651, 'megalomania': 7286, 'persistê': 8606, 'onexo': 8124, 'vol': 11893, 'indonésia': 6080, 'fonográfica': 5136, 'mandam': 7089, 'contrariou': 2692, 'estudiosos': 4520, 'relevância': 9836, 'verbetes': 11718, 'rotineiramente': 10174, 'gênios': 5630, 'articulam': 905, 'conjuntas': 2543, 'mussolini': 7694, 'tentador': 11024, 'firmados': 5071, 'winf': 11992, 'imersão': 5891, 'extinguiu': 4761, 'ensinam': 4157, 'promoções': 9221, 'bióloga': 1442, 'rosy': 10166, 'isaias': 6393, 'bustamant': 1645, 'astrofísica': 992, 'thaisa': 11103, 'bergmann': 1381, 'lançada': 6654, 'retiradas': 10011, 'heloisa': 5680, 'detalham': 3473, 'retração': 10032, 'indus': 6081, 'afetou': 276, 'knobel': 6610, 'ruslan': 10209, 'mellin': 7304, 'documenta': 3768, 'ferime': 4964, 'paramount': 8336, 'grease': 5561, 'astrônomas': 995, 'dedicaria': 3120, 'conquistarem': 2553, 'assunção': 985, 'influenciam': 6122, 'filósofa': 5040, 'ilegalidades': 5864, 'hesitações': 5689, 'fechando': 4926, 'descentralização': 3304, 'prosperado': 9254, 'listados': 6873, 'riot': 10097, 'grrrl': 5578, 'comprometida': 2404, 'capac': 1795, 'currículos': 2994, 'matérias': 7242, 'elencadas': 3967, 'explic': 4698, 'quintafeir': 9506, 'pandêmico': 8306, 'arena': 845, 'biggie': 1412, 'got': 5496, 'tell': 10987, 'nexopp': 7888, 'substituição': 10763, 'virtuai': 11842, 'afrou': 296, 'quartafeir': 9446, 'propaga': 9229, 'saberes': 10234, 'lúdi': 7008, 'leningrad': 6742, 'filosófico': 5038, 'capoeira': 1811, 'umbanda': 11503, 'espalhamento': 4357, 'tráfego': 11407, 'unid': 11511, 'millennial': 7425, 'assegura': 939, 'venturini': 11713, 'universitária': 11526, 'áf': 12050, 'pedagógica': 8477, 'desperta': 3421, 'instrução': 6215, 'normativa': 7928, 'empreendedores': 4057, 'segundafeir': 10402, 'segundafei': 10401, 'locomovemos': 6908, 'conscientizar': 2558, 'coreano': 2768, 'privadas': 9117, 'aaron': 0, 'karp': 6589, 'restituição': 9986, 'anulam': 667, 'expressiva': 4737, 'intensificação': 6241, 'associadas': 971, 'bharat': 1398, 'biotech': 1435, 'tecn': 10963, 'influem': 6118, 'migrand': 7400, 'produzem': 9160, 'convenção': 2728, 'genebra': 5404, 'vacinações': 11596, 'silenciaram': 10569, 'embarcaram': 4019, 'desenham': 3348, 'cronogramas': 2930, 'atividad': 1048, 'respire': 9958, 'valiosas': 11619, 'recup': 9682, 'openai': 8137, 'visuais': 11855, 'descritivas': 3328, 'turbulência': 11434, 'responsab': 9965, 'tornálo': 11205, 'oxforda': 8237, 'toxinas': 11220, 'taxi': 10952, 'driver': 3832, 'dissipado': 3683, 'afrodescendência': 294, 'reger': 9753, 'orquestra': 8200, 'debruçado': 3080, 'contraposição': 2687, 'disputarão': 3676, 'selma': 10434, 'lagerlöf': 6637, 'literatur': 6874, 'regresso': 9774, 'exilados': 4661, 'blindou': 1452, 'doméstico': 3796, 'farrow': 4870, 'negadas': 7818, 'conseguiremos': 2569, 'institutos': 6212, 'wright': 12000, 'galáxia': 5343, 'espiral': 4399, 'confirmaç': 2504, 'mantenedor': 7120, 'propositor': 9240, 'possib': 8859, 'irlandeses': 6369, 'transformações': 11282, 'visualizações': 11857, 'paredes': 8359, 'cole': 2230, 'busquem': 1644, 'assessorias': 945, 'navegam': 7792, 'jurídicos': 6560, 'desconsidera': 3319, 'adotaram': 227, 'gravadora': 5546, 'fania': 4853, 'dominicano': 3791, 'reeleição': 9718, 'cartuns': 1867, 'discursiva': 3636, 'inscritos': 6176, 'especia': 4369, 'mamíferos': 7077, 'chri': 2082, 'movimentou': 7635, 'govername': 5508, 'ambientes': 530, 'esmiúça': 4351, 'performances': 8573, 'minimament': 7445, 'glaciais': 5458, 'gelado': 5401, 'jog': 6479, 'longevo': 6923, 'izael': 6425, 'caldeira': 1707, 'percussionista': 8549, 'menem': 7318, 'capitaneado': 1807, 'comediantes': 2285, 'fósseis': 5323, 'produzidas': 9162, 'acompanhou': 150, 'rodaviva': 10130, 'nigeriana': 7897, 'enfraqueceu': 4126, 'biologia': 1430, 'financiadas': 5054, 'gê': 5623, 'adotado': 223, 'compositoras': 2384, 'entrave': 4188, 'questõe': 9497, 'questionamen': 9489, 'fecharem': 4929, 'lógicas': 7005, 'sejamos': 10422, 'variados': 11641, 'gêneros': 5627, 'seminua': 10450, 'avritzer': 1206, 'conjuntura': 2545, 'derivados': 3263, 'mentores': 7345, 'isa': 6389, 'penna': 8518, 'prolífica': 9204, 'arroubo': 894, 'autoritári': 1154, 'argumentam': 850, 'propiciaram': 9234, 'narrati': 7765, 'bic': 1404, 'marcela': 7157, 'instigam': 6204, 'encurtar': 4112, 'corr': 2787, 'discutidos': 3644, 'iphones': 6359, 'desvendar': 3465, 'retumbante': 10036, 'contrassenso': 2693, 'supe': 10796, 'percussão': 8550, 'fariam': 4863, 'feitiço': 4942, 'excluem': 4621, 'coletivos': 2238, 'touchdown': 11218, 'sputnikv': 10729, 'estab': 4430, 'lírica': 7001, 'animações': 614, 'lendas': 6740, 'presidências': 9029, 'apoiados': 737, 'auxílios': 1174, 'refugiarse': 9751, 'deserta': 3365, 'minúsculo': 7467, 'subh': 10753, 'exemplares': 4640, 'respectiva': 9948, 'disruptivos': 3678, 'complexos': 2377, 'deficit': 3139, 'larissa': 6672, 'boesing': 1478, 'agremiações': 332, 'profissionalizaram': 9176, 'alv': 490, 'contemporâneos': 2655, 'congressogife': 2530, 'implementado': 5923, 'matadora': 7216, 'raquete': 9555, 'eletrificada': 3972, 'etária': 4549, 'demandou': 3187, 'antecessor': 629, 'inovar': 6169, 'experimentação': 4690, 'percepção': 8546, 'natércia': 7788, 'london': 6917, 'candidaturas': 1775, 'patamares': 8429, 'linhagens': 6860, 'estigma': 4472, 'formatos': 5160, 'aprov': 789, 'maquiagem': 7134, 'enfrentarem': 4134, 'anne': 620, 'disponibiliza': 3661, 'livrou': 6894, 'contrapondo': 2685, 'infundadas': 6139, 'chalhoub': 1998, 'biológica': 1431, 'megadiversos': 7285, 'fissura': 5078, 'fotojornalista': 5198, 'gui': 5611, 'christ': 2083, 'consideração': 2593, 'cursando': 2995, 'abortar': 36, 'ágape': 12052, 'tendências': 11014, 'adiamentos': 202, 'alimentaram': 448, 'assintomáticas': 961, 'defasagem': 3124, 'manual': 7127, 'estruturantes': 4511, 'estruturadoras': 4509, 'desigualda': 3386, 'nexoedunoenem': 7883, 'atualidades': 1098, 'investidas': 6316, 'pucrio': 9365, 'juliano': 6542, 'nexoedu': 7882, 'maiori': 7051, 'abastecimento': 9, 'edições': 3914, 'maislidasdonexo': 7054, 'escancarad': 4286}\n\nshape do vocabulario 1:1  (16240, 12108)\n"
          ]
        }
      ]
    },
    {
      "cell_type": "code",
      "metadata": {
        "colab": {
          "base_uri": "https://localhost:8080/"
        },
        "id": "eLdAJ_bDFIMI",
        "outputId": "20aa1ef8-8982-4da2-8c2b-7c497e6c2a67",
        "tags": [
          "outputPrepend"
        ]
      },
      "source": [
        "### Ignorar palavras que aparecem muito - acima de 50% dos documentos\n",
        "### alta frequência + baixa frequência\n",
        "\n",
        "vectors2 = TfidfVectorizer(min_df = 2, max_df = 0.4)\n",
        "count_vectors2 = vectors2.fit_transform(corpus)\n",
        "print(\"\\nvocabulario 2: \",vectors2.vocabulary_)\n",
        "print(\"\\nshape do vocabulario 2: \",count_vectors2.shape)"
      ],
      "execution_count": 96,
      "outputs": [
        {
          "output_type": "stream",
          "name": "stdout",
          "text": [
            "43, 'telejornal': 10981, 'guerreiro': 5607, 'árvore': 12064, 'pense': 8525, 'etc': 4543, 'greca': 5561, 'semteto': 10452, 'prefe': 8943, 'orienta': 8183, 'trabalhista': 11236, 'dó': 3875, 'zero': 12032, 'encarar': 4089, 'cortada': 2812, 'seguidas': 10388, 'tenebroso': 11014, 'incompetentes': 6027, 'vacinasim': 11593, 'acuados': 175, 'incitação': 6011, 'motins': 7607, 'extremistas': 4776, 'ruptura': 10204, 'trocando': 11388, 'aeronáutica': 255, 'onyx': 8130, 'lorenzoni': 6926, 'edith': 3906, 'piá': 8709, 'redemocratização': 9704, 'assistindo': 967, 'equilibrar': 4245, 'liderou': 6821, 'unindo': 11517, 'renuncie': 9871, 'incita': 6009, 'apagou': 695, 'polít': 8793, 'lamentando': 6643, 'surtado': 10845, 'constante': 2603, 'corroer': 2809, 'atirou': 1043, 'autoritária': 1155, 'meiodia': 7293, 'neonazistas': 7848, 'sarah': 10322, 'cozinhas': 2846, 'olinda': 8102, 'consigo': 2595, 'recesso': 9637, 'riocentro': 10093, 'expoente': 4718, 'figuras': 5016, 'portão': 8839, 'coloque': 2256, 'patricia': 8433, 'eletrodomésticos': 3974, 'supremacista': 10828, 'sofrendo': 10659, 'desumana': 3461, 'vocação': 11889, 'refino': 9733, 'maravilhosa': 7143, 'muro': 7686, 'popularizar': 8813, 'resolvi': 9944, 'tríplex': 11414, 'contínuo': 2723, 'comentarista': 2300, 'alt': 469, 'radicalmente': 9532, 'exigindo': 4656, 'lançamos': 6659, 'supremacistas': 10829, 'pregar': 8956, 'fascista': 4874, 'brt': 1611, 'terreiro': 11056, 'afro': 293, 'aberração': 18, 'usem': 11559, 'deliberadamente': 3177, 'escrever': 4322, 'jessé': 6468, 'resolveram': 9942, 'doente': 3776, 'chegaria': 2048, 'lavajato': 6690, 'africana': 290, 'tomamos': 11176, 'sirva': 10611, 'corrige': 2807, 'cometido': 2311, 'lú': 7005, 'celebradas': 1933, 'editor': 3907, 'prolongado': 9201, 'importâ': 5937, 'subterfúgio': 10767, 'matadouro': 7216, 'comunistas': 2429, 'peço': 8659, 'específicos': 4383, 'certas': 1981, 'desapareceram': 3287, 'suicida': 10783, 'montenegro': 7558, 'conivente': 2542, 'caldo': 1708, 'fumaça': 5264, 'cumplicidade': 2978, 'pego': 8497, 'tratado': 11305, 'sej': 10418, 'essenciais': 4423, 'cemitérios': 1947, 'enterrar': 4173, 'carência': 1874, 'abjeta': 29, 'decisivas': 3092, 'dói': 3876, 'condenando': 2464, 'perdoa': 8563, 'assino': 959, 'desacato': 3275, 'reagir': 9578, 'caminh': 1729, 'adriana': 235, 'consequência': 2578, 'restam': 9981, 'extermínio': 4755, 'fazendeiros': 4905, 'representações': 9902, 'ratinho': 9561, 'equivocada': 4254, 'limitada': 6841, 'curtiu': 3002, 'noturna': 7947, 'bri': 1586, 'entendam': 4165, 'sabiam': 10236, 'acionando': 135, 'gráficos': 5583, 'censurou': 1954, 'incentiva': 5995, 'volto': 11911, 'use': 11558, 'dra': 3824, 'expôs': 4744, 'bolsonarogenocida': 1503, 'analisando': 579, 'anjo': 618, 'acho': 127, 'jeanine': 6457, 'terrorismo': 11065, 'banana': 1261, 'promotores': 9211, 'exmulher': 4673, 'fumar': 5263, 'psicopata': 9336, 'ensinou': 4161, 'bbbcarla': 1333, 'ajoelhou': 367, 'pregando': 8955, 'desafiou': 3284, 'declar': 3096, 'negac': 7813, 'thread': 11111, 'dom': 3785, 'acadêmica': 80, 'calúnia': 1721, 'furaram': 5294, 'escuto': 4339, 'pautado': 8453, 'enfiar': 4122, 'manso': 7116, 'desesperadamente': 3366, 'joice': 6493, 'reaparece': 9599, 'mesmas': 7358, 'viciado': 11784, 'confie': 2491, 'difamação': 3548, 'entes': 4176, 'recebam': 9616, 'inesquecível': 6095, 'protestando': 9268, 'vazamentos': 11654, 'suspeiçãodemoro': 10854, 'bozo': 1548, 'nulo': 7968, 'inelegível': 6092, 'grau': 5541, 'reconhecida': 9659, 'tweets': 11448, 'bôas': 1660, 'julgados': 6534, 'decente': 3081, 'cano': 1779, 'caros': 1851, 'aluguéis': 486, 'resta': 9979, 'mesmos': 7360, 'solto': 10685, 'tarantino': 10933, 'falácia': 4841, 'aguentou': 353, 'achar': 124, 'chato': 2025, 'pros': 9252, 'babi': 1230, 'madalena': 7020, 'siqueira': 10610, 'comitiva': 2327, 'mascara': 7207, 'pérola': 9392, 'marítimo': 7205, 'baianos': 1237, 'paulistana': 8445, 'carmem': 1841, 'sera': 10493, 'rolar': 10145, 'afastar': 265, 'mimimi': 7431, 'sacanagem': 10245, 'cortina': 2819, 'prevendo': 9064, 'próximas': 9320, 'nebulosos': 7805, 'indicada': 6059, 'inde': 6042, 'compatriotas': 2356, 'sema': 10437, 'tratando': 11310, 'asfixiado': 923, 'frescura': 5237, 'chorando': 2079, 'gênio': 5628, 'vendeu': 11698, 'diálogos': 3745, 'ufpel': 11487, 'gtgtgt': 5594, 'braçada': 1578, 'estagiário': 4444, 'jockey': 6474, 'ignorantes': 5848, 'álbuns': 12055, 'declarado': 3098, 'tribuna': 11355, 'assinei': 958, 'religiosas': 9837, 'tirou': 11143, 'procuradora': 9139, 'sinceramente': 10594, 'heineken': 5673, 'refeições': 9726, 'pesso': 8636, 'delegada': 3172, 'petistas': 8646, 'conte': 2650, 'pessimista': 8634, 'flagrante': 5094, 'provocando': 9292, 'infinito': 6114, 'conduz': 2474, 'contribua': 2703, 'varmengo': 11645, 'infeliz': 6109, 'compreender': 2399, 'consumir': 2631, 'batalhas': 1315, 'queimar': 9462, 'juma': 6544, 'rr': 10188, 'questionamento': 9489, 'esquemas': 4412, 'repetidas': 9884, 'acre': 166, 'extr': 4763, 'ame': 533, 'acertar': 109, 'cabecinha': 1664, 'nesses': 7856, 'publicaram': 9356, 'repugnantes': 9912, 'socialismo': 10647, 'lomba': 6915, 'evo': 4585, 'morales': 7570, 'parceiros': 8344, 'estrangeiro': 4494, 'traidor': 11254, 'marena': 7169, 'gerado': 5417, 'antidemocráticos': 646, 'reitor': 9798, 'falsificou': 4831, 'deveríamos': 3509, 'conka': 2546, 'envergonhar': 4212, 'arbitragem': 837, 'decidi': 3086, 'armar': 862, 'raphael': 9548, 'klaus': 6605, 'inconciliável': 6030, 'sol': 10671, 'escolhida': 4307, 'leitão': 6727, 'arrependimento': 890, 'perspectivas': 8611, 'fiquei': 5067, 'open': 8135, 'aruka': 915, 'acumulou': 177, 'servidora': 10511, 'exigi': 4654, 'presteza': 9048, 'novavax': 7957, 'diplomáticas': 3591, 'acabando': 71, 'tembé': 10990, 'im': 5874, 'engenharia': 4143, 'atípico': 1111, 'grato': 5535, 'armamentista': 860, 'ampliando': 566, 'munições': 7681, 'publicados': 9351, 'gêmeas': 5623, 'mel': 7295, 'triathlon': 11353, 'prado': 8904, 'evidenciam': 4572, 'fabiano': 4783, 'sinceridade': 10595, 'contágios': 2722, 'remoção': 9849, 'jacinda': 6429, 'ardern': 842, 'pioneira': 8688, 'séculos': 10889, 'compradas': 2390, 'nóbrega': 7983, 'boninho': 1524, 'vaquinha': 11630, 'possamos': 8856, 'conduzido': 2475, 'alienígena': 443, 'colocando': 2248, 'excluído': 4631, 'triunfo': 11385, 'imparcial': 5906, 'parcialidade': 8350, 'latas': 6677, 'finalidade': 5044, 'cúmplices': 3029, 'aspectos': 928, 'assess': 941, 'durma': 3856, 'vazajato': 11652, 'solberg': 10673, 'ev': 4559, 'confirme': 2506, 'adicionais': 205, 'saudação': 10337, 'chicletes': 2060, 'alfafa': 420, 'prosperidade': 9254, 'foliões': 5132, 'transferir': 11271, 'miriam': 7474, 'fazerem': 4908, 'carreataforabolsonaro': 1853, 'constitucionais': 2604, 'enfermeiro': 4121, 'baseada': 1306, 'cordial': 2767, 'formalidade': 5153, 'leveza': 6775, 'acessolivre': 118, 'realidades': 9583, 'estante': 4446, 'favoritos': 4899, 'diplomática': 3590, 'maislidasnonexo': 7054, 'assinantes': 952, 'propagam': 9229, 'polinização': 8782, 'trazemos': 11332, 'seleçãonexopp': 10430, 'nexoespecial': 7883, 'estadodademocracia': 4439, 'estabilizar': 4435, 'nexojornal': 7885, 'socie': 10649, 'gamarevista': 5344, 'podcastentreaberta': 8752, 'histó': 5708, 'durmacomessa': 3857, 'nexográfico': 7884, 'erica': 4261, 'relembramos': 9828, 'observação': 8016, 'elaborada': 3947, 'nexoarquivo': 7880, 'léxico': 6992, 'agradecemos': 321, 'difer': 3549, 'originalmente': 8196, 'franquias': 5216, 'descobertos': 3306, 'poemas': 8771, 'proclamada': 9135, 'quandocomeçaoséculo': 9435, 'medeiros': 7265, 'diadoorgulhonerd': 3529, 'objetodeanálisegama': 7997, 'atribuído': 1089, 'contemporâneo': 2654, 'mulhere': 7662, 'daqueles': 3054, 'interativo': 6249, 'psicológicos': 9335, 'repetindo': 9885, 'nexopolíticaspúblicas': 7886, 'feltran': 4948, 'encomendada': 4099, 'curadoria': 2989, 'conversou': 2735, 'transexuais': 11269, 'surgiram': 10837, 'alça': 500, 'exime': 4661, 'apreensões': 766, 'consultar': 2622, 'augus': 1119, 'ilega': 5860, 'ciênciajárespondeu': 2153, 'revolucionou': 10075, 'menescal': 7318, 'modernizando': 7515, 'sonoridade': 10699, 'revisit': 10062, 'ufrrj': 11489, 'investigou': 6331, 'pelotas': 8510, 'continente': 2665, 'olá': 8106, 'transmissíveis': 11288, 'natureba': 7784, 'densidade': 3215, 'sobrecarga': 10635, 'influencia': 6118, 'semanagama': 10439, 'consome': 2600, 'christian': 2085, 'dunker': 3845, 'dialogam': 3531, 'astrologia': 993, 'contemporaneidade': 2652, 'contestações': 2659, 'biblioteca': 1403, 'soar': 10624, 'convencido': 2725, 'remotamente': 9846, 'influente': 6122, 'coordenadora': 2753, 'adaptação': 192, 'catálogo': 1896, 'hqs': 5775, 'baseadas': 1307, 'instrumentos': 6213, 'diminuíram': 3578, 'drasticamente': 3828, 'contemporânea': 2653, 'bibliografia': 1402, 'antropologia': 659, 'profissões': 9177, 'gestãopública': 5439, 'variação': 11644, 'scot': 10358, 'warhol': 11970, 'graduação': 5525, 'pareceria': 8356, 'acadêmicas': 81, 'lobato': 6898, 'demandas': 3185, 'habitacionais': 5635, 'expre': 4729, 'lidam': 6813, 'africanos': 292, 'psicóloga': 9338, 'bilheteria': 1415, 'gêner': 5624, 'complementar': 2368, 'soci': 10644, 'simplesme': 10583, 'substitui': 10760, 'jus': 6560, 'dex': 3515, 'acessível': 120, 'competidora': 2360, 'impe': 5909, 'programador': 9183, 'trabalh': 11224, 'evoluem': 4586, 'ligia': 6833, 'filmografia': 5034, 'sobral': 10632, 'histór': 5709, 'sociologia': 10651, 'embates': 4021, 'isaac': 6389, 'universidad': 11522, 'índex': 12079, 'mobilizações': 7501, 'ecologia': 3884, 'garota': 5374, 'denunciam': 3223, 'ingredientes': 6145, 'acessar': 115, 'substância': 10764, 'funcionalidade': 5269, 'conectados': 2480, 'especi': 4367, 'diadacaatinga': 3527, 'canadense': 1755, 'descreve': 3325, 'mexeu': 7383, 'músicos': 7743, 'representatividades': 9900, 'dependem': 3233, 'berenice': 1379, 'corporalidades': 2781, 'estu': 4512, 'enxaqueca': 4231, 'fibromialgia': 4994, 'ouvimos': 8226, 'macroeconomia': 7017, 'feausp': 4916, 'calcula': 1705, 'composições': 2386, 'ilustram': 5871, 'regulatório': 9786, 'usos': 11563, 'considerados': 2589, 'links': 6863, 'utiliza': 11569, 'validar': 11616, 'ziguezague': 12039, 'ocor': 8032, 'estufa': 4523, 'estilos': 4474, 'diamundialdolivro': 3535, 'livreiro': 6889, 'resgatamos': 9931, 'prejudicam': 8961, 'escolhemos': 4304, 'cuj': 2963, 'ecossistêmicos': 3898, 'quadrinistas': 9421, 'pol': 8775, 'resp': 9946, 'unanimidade': 11505, 'inova': 6167, 'entendimento': 4170, 'leves': 6774, 'resíduos': 10004, 'obrigou': 8012, 'paixões': 8278, 'audiovisual': 1114, 'cineastas': 2124, 'traço': 11336, 'governamentais': 5508, 'polític': 8795, 'polonesa': 8786, 'ailton': 361, 'krenak': 6616, 'governamental': 5509, 'pósgraduação': 9398, 'cpte': 2855, 'transdisciplinar': 11268, 'experimente': 4690, 'knowledge': 6610, 'hist': 5704, 'tradutora': 11249, 'instabilidade': 6195, 'correa': 2789, 'demonstraram': 3207, 'cumpridas': 2981, 'visualizar': 11855, 'extratosdasemana': 4769, 'porcentagem': 8817, 'rigorosas': 10091, 'fu': 5256, 'tornarse': 11199, 'dissertação': 3681, 'impa': 5899, 'politiquês': 8784, 'costumam': 2824, 'escolhidos': 4309, 'aparecida': 702, 'vilaça': 11802, 'convívio': 2749, 'calçadas': 1719, 'iluminação': 5867, 'led': 6701, 'ocupações': 8050, 'login': 6908, 'lsd': 6948, 'naércio': 7800, 'menezes': 7319, 'insper': 6185, 'márcia': 7704, 'recuper': 9682, 'alavancar': 384, 'letrux': 6759, 'panorama': 8309, 'tropicais': 11398, 'biólogo': 1443, 'exclusivos': 4629, 'aílton': 1226, 'exemplos': 4641, 'natalia': 7777, 'timerman': 11121, 'colombiano': 2252, 'celebrações': 1939, 'estã': 4535, 'formado': 5151, 'criticados': 2918, 'recorte': 9674, 'lélia': 6990, 'gonzalez': 5486, 'raça': 9566, 'pesquisadorases': 8629, 'pretasos': 9054, 'pardasos': 8352, 'estimou': 4480, 'rodadas': 10125, 'consultou': 2626, 'morcegos': 7572, 'insuficiência': 6218, 'acessado': 114, 'preparadas': 8990, 'rights': 10089, 'reabilitação': 9571, 'prefeitas': 8945, 'examina': 4598, 'esquecimento': 4409, 'quandocomecaoseculo': 9434, 'passatempos': 8416, 'anodagamarevista': 622, 'ime': 5884, 'orador': 8165, 'abolicionista': 30, 'desembarcou': 3341, 'rotas': 10167, 'enfraquecendo': 4124, 'prestativas': 9045, 'bichos': 1405, 'tendemos': 11010, 'individualistas': 6077, 'servir': 10513, 'antiguidades': 652, 'pitanga': 8703, 'egípcia': 3938, 'experi': 4685, 'étnicoraciais': 12074, 'dimensões': 3573, 'dirigido': 3622, 'coordenar': 2754, 'compartilham': 2352, 'romano': 10150, 'feriad': 4956, 'sha': 10541, 'tin': 11124, 'mobiliário': 7503, 'ár': 12057, 'retrocessos': 10034, 'pressões': 9039, 'declínio': 3104, 'diversidaderacial': 3710, 'disponibilidade': 3659, 'receberão': 9623, 'jor': 6498, 'causados': 1903, 'recuperamos': 9685, 'semanais': 10440, 'desocupação': 3406, 'consolidar': 2598, 'atendidos': 1015, 'reduzidos': 9711, 'reprovação': 9907, 'acionada': 133, 'cham': 1999, 'bolsonaris': 1498, 'nex': 7878, 'brandão': 1560, 'reestruturação': 9725, 'norueguesa': 7935, 'pritzker': 9113, 'honr': 5751, 'superheróis': 10806, 'movimentações': 7631, 'envolvem': 4227, 'trabalharam': 11234, 'virgílio': 11837, 'reviravoltas': 10060, 'expõ': 4745, 'tango': 10926, 'musicou': 7691, 'especializado': 4375, 'king': 6602, 'college': 2243, 'irlanda': 6367, 'premiados': 8971, 'ganhadores': 5351, 'conceito': 2442, 'formuladores': 5163, 'doutorado': 3817, 'acadêmicos': 83, 'errata': 4271, 'entrevistada': 4202, 'kovacs': 6615, 'lucia': 6954, 'pluralidade': 8739, 'controvérsias': 2715, 'tailândia': 10912, 'suite': 10786, 'education': 3922, 'consultas': 2623, 'nó': 7982, 'examinam': 4600, 'acervos': 113, 'voltados': 11901, 'denunciadas': 3220, 'procedimentos': 9131, 'proporcionalmente': 9236, 'contrapõe': 2689, 'moderad': 7510, 'estátuas': 4533, 'aerossóis': 258, 'intern': 6266, 'expedição': 4684, 'geológicas': 5412, 'barril': 1299, 'commodity': 2330, 'muggah': 7655, 'igarapé': 5843, 'secas': 10363, 'inundações': 6300, 'aceito': 93, 'pess': 8632, 'políticamortal': 8797, 'battlestar': 1328, 'galactica': 5334, 'contos': 2675, 'byington': 1651, 'megalomania': 7285, 'persistê': 8605, 'onexo': 8123, 'vol': 11892, 'indonésia': 6079, 'fonográfica': 5135, 'mandam': 7088, 'contrariou': 2692, 'estudiosos': 4519, 'relevância': 9835, 'verbetes': 11717, 'rotineiramente': 10173, 'gênios': 5629, 'articulam': 905, 'conjuntas': 2543, 'mussolini': 7693, 'tentador': 11023, 'firmados': 5070, 'winf': 11991, 'imersão': 5890, 'extinguiu': 4760, 'ensinam': 4156, 'promoções': 9220, 'bióloga': 1442, 'rosy': 10165, 'isaias': 6392, 'bustamant': 1645, 'astrofísica': 992, 'thaisa': 11102, 'bergmann': 1381, 'lançada': 6653, 'retiradas': 10010, 'heloisa': 5679, 'detalham': 3472, 'retração': 10031, 'indus': 6080, 'afetou': 276, 'knobel': 6609, 'ruslan': 10208, 'mellin': 7303, 'documenta': 3767, 'ferime': 4963, 'paramount': 8335, 'grease': 5560, 'astrônomas': 995, 'dedicaria': 3119, 'conquistarem': 2553, 'assunção': 985, 'influenciam': 6121, 'filósofa': 5039, 'ilegalidades': 5863, 'hesitações': 5688, 'fechando': 4925, 'descentralização': 3303, 'prosperado': 9253, 'listados': 6872, 'riot': 10096, 'grrrl': 5577, 'comprometida': 2404, 'capac': 1795, 'currículos': 2994, 'matérias': 7241, 'elencadas': 3966, 'explic': 4697, 'quintafeir': 9505, 'pandêmico': 8305, 'arena': 845, 'biggie': 1412, 'got': 5495, 'tell': 10986, 'nexopp': 7887, 'substituição': 10762, 'virtuai': 11841, 'afrou': 296, 'quartafeir': 9445, 'propaga': 9228, 'saberes': 10233, 'lúdi': 7007, 'leningrad': 6741, 'filosófico': 5037, 'capoeira': 1811, 'umbanda': 11502, 'espalhamento': 4356, 'tráfego': 11406, 'unid': 11510, 'millennial': 7424, 'assegura': 939, 'venturini': 11712, 'universitária': 11525, 'áf': 12049, 'pedagógica': 8476, 'desperta': 3420, 'instrução': 6214, 'normativa': 7927, 'empreendedores': 4056, 'segundafeir': 10401, 'segundafei': 10400, 'locomovemos': 6907, 'conscientizar': 2558, 'coreano': 2768, 'privadas': 9116, 'aaron': 0, 'karp': 6588, 'restituição': 9985, 'anulam': 667, 'expressiva': 4736, 'intensificação': 6240, 'associadas': 971, 'bharat': 1398, 'biotech': 1435, 'tecn': 10962, 'influem': 6117, 'migrand': 7399, 'produzem': 9159, 'convenção': 2728, 'genebra': 5403, 'vacinações': 11595, 'silenciaram': 10568, 'embarcaram': 4018, 'desenham': 3347, 'cronogramas': 2930, 'atividad': 1048, 'respire': 9957, 'valiosas': 11618, 'recup': 9681, 'openai': 8136, 'visuais': 11854, 'descritivas': 3327, 'turbulência': 11433, 'responsab': 9964, 'tornálo': 11204, 'oxforda': 8236, 'toxinas': 11219, 'taxi': 10951, 'driver': 3831, 'dissipado': 3682, 'afrodescendência': 294, 'reger': 9752, 'orquestra': 8199, 'debruçado': 3079, 'contraposição': 2687, 'disputarão': 3675, 'selma': 10433, 'lagerlöf': 6636, 'literatur': 6873, 'regresso': 9773, 'exilados': 4660, 'blindou': 1452, 'doméstico': 3795, 'farrow': 4869, 'negadas': 7817, 'conseguiremos': 2569, 'institutos': 6211, 'wright': 11999, 'galáxia': 5342, 'espiral': 4398, 'confirmaç': 2504, 'mantenedor': 7119, 'propositor': 9239, 'possib': 8858, 'irlandeses': 6368, 'transformações': 11281, 'visualizações': 11856, 'paredes': 8358, 'cole': 2230, 'busquem': 1644, 'assessorias': 945, 'navegam': 7791, 'jurídicos': 6559, 'desconsidera': 3318, 'adotaram': 227, 'gravadora': 5545, 'fania': 4852, 'dominicano': 3790, 'reeleição': 9717, 'cartuns': 1867, 'discursiva': 3635, 'inscritos': 6175, 'especia': 4368, 'mamíferos': 7076, 'chri': 2082, 'movimentou': 7634, 'govername': 5507, 'ambientes': 530, 'esmiúça': 4350, 'performances': 8572, 'minimament': 7444, 'glaciais': 5457, 'gelado': 5400, 'jog': 6478, 'longevo': 6922, 'izael': 6424, 'caldeira': 1707, 'percussionista': 8548, 'menem': 7317, 'capitaneado': 1807, 'comediantes': 2285, 'fósseis': 5322, 'produzidas': 9161, 'acompanhou': 150, 'rodaviva': 10129, 'nigeriana': 7896, 'enfraqueceu': 4125, 'biologia': 1430, 'financiadas': 5053, 'gê': 5622, 'adotado': 223, 'compositoras': 2384, 'entrave': 4187, 'questõe': 9496, 'questionamen': 9488, 'fecharem': 4928, 'lógicas': 7004, 'sejamos': 10421, 'variados': 11640, 'gêneros': 5626, 'seminua': 10449, 'avritzer': 1206, 'conjuntura': 2545, 'derivados': 3262, 'mentores': 7344, 'isa': 6388, 'penna': 8517, 'prolífica': 9203, 'arroubo': 894, 'autoritári': 1154, 'argumentam': 850, 'propiciaram': 9233, 'narrati': 7764, 'bic': 1404, 'marcela': 7156, 'instigam': 6203, 'encurtar': 4111, 'corr': 2787, 'discutidos': 3643, 'iphones': 6358, 'desvendar': 3464, 'retumbante': 10035, 'contrassenso': 2693, 'supe': 10795, 'percussão': 8549, 'fariam': 4862, 'feitiço': 4941, 'excluem': 4620, 'coletivos': 2238, 'touchdown': 11217, 'sputnikv': 10728, 'estab': 4429, 'lírica': 7000, 'animações': 614, 'lendas': 6739, 'presidências': 9028, 'apoiados': 737, 'auxílios': 1174, 'refugiarse': 9750, 'deserta': 3364, 'minúsculo': 7466, 'subh': 10752, 'exemplares': 4639, 'respectiva': 9947, 'disruptivos': 3677, 'complexos': 2377, 'deficit': 3138, 'larissa': 6671, 'boesing': 1478, 'agremiações': 332, 'profissionalizaram': 9175, 'alv': 490, 'contemporâneos': 2655, 'congressogife': 2530, 'implementado': 5922, 'matadora': 7215, 'raquete': 9554, 'eletrificada': 3971, 'etária': 4548, 'demandou': 3186, 'antecessor': 629, 'inovar': 6168, 'experimentação': 4689, 'percepção': 8545, 'natércia': 7787, 'london': 6916, 'candidaturas': 1775, 'patamares': 8428, 'linhagens': 6859, 'estigma': 4471, 'formatos': 5159, 'aprov': 789, 'maquiagem': 7133, 'enfrentarem': 4133, 'anne': 620, 'disponibiliza': 3660, 'livrou': 6893, 'contrapondo': 2685, 'infundadas': 6138, 'chalhoub': 1998, 'biológica': 1431, 'megadiversos': 7284, 'fissura': 5077, 'fotojornalista': 5197, 'gui': 5610, 'christ': 2083, 'consideração': 2593, 'cursando': 2995, 'abortar': 36, 'ágape': 12051, 'tendências': 11013, 'adiamentos': 202, 'alimentaram': 448, 'assintomáticas': 961, 'defasagem': 3123, 'manual': 7126, 'estruturantes': 4510, 'estruturadoras': 4508, 'desigualda': 3385, 'nexoedunoenem': 7882, 'atualidades': 1098, 'investidas': 6315, 'pucrio': 9364, 'juliano': 6541, 'nexoedu': 7881, 'maiori': 7050, 'abastecimento': 9, 'edições': 3913, 'maislidasdonexo': 7053, 'escancarad': 4285}\n\nshape do vocabulario 2:  (16240, 12107)\n"
          ]
        }
      ]
    },
    {
      "cell_type": "code",
      "metadata": {
        "colab": {
          "base_uri": "https://localhost:8080/"
        },
        "id": "q6yu_p_tb-rE",
        "outputId": "e367477e-c2d5-4b06-9382-00116b4aa89b",
        "tags": [
          "outputPrepend"
        ]
      },
      "source": [
        "### Ignorar palavras que aparecem muito - acima de 50% dos documentos\n",
        "### alta frequência + baixa frequência + ngrams --> , ngram_range(3,4) ?\n",
        "\n",
        "vectors3 = CountVectorizer(min_df = 2, max_df = 0.5, ngram_range=(3,4))\n",
        "count_vectors3 = vectors3.fit_transform(corpus)\n",
        "print(\"\\nvocabulario 3: \",vectors3.vocabulary_)\n",
        "print(\"\\nshape do vocabulario 3: \",count_vectors3.shape)"
      ],
      "execution_count": 97,
      "outputs": [
        {
          "output_type": "stream",
          "name": "stdout",
          "text": [
            " militares para': 19268, 'militares para tentar': 19117, 'para tentar impedir': 23066, 'tentar impedir atos': 30559, 'impedir atos da': 16450, 'atos da extrema': 2229, 'extrema direita na': 14416, 'direita na poss': 10586, 'após invasão do capitólio': 1679, 'invasão do capitólio governo': 16905, 'do capitólio governo americano': 11084, 'capitólio governo americano mobiliza': 3628, 'governo americano mobiliza militares': 15722, 'americano mobiliza militares para': 862, 'mobiliza militares para tentar': 19269, 'militares para tentar impedir': 19118, 'para tentar impedir atos': 23067, 'tentar impedir atos da': 30560, 'impedir atos da extrema': 16451, 'atos da extrema direita': 2230, 'da extrema direita na': 6626, 'extrema direita na poss': 14417, 'está com duas': 13994, 'com duas vagas': 4495, 'duas vagas de': 12093, 'vagas de estágio': 32061, 'de estágio em': 8160, 'estágio em jornalismo': 14039, 'em jornalismo exclusivas': 12706, 'jornalismo exclusivas para': 17258, 'exclusivas para mulheres': 14208, 'para mulheres negras': 22907, 'mulheres negras necessário': 19682, 'negras necessário estar': 20405, 'necessário estar cursando': 20352, 'nexo está com duas': 20607, 'está com duas vagas': 13995, 'com duas vagas de': 4496, 'duas vagas de estágio': 12094, 'vagas de estágio em': 32062, 'de estágio em jornalismo': 8161, 'estágio em jornalismo exclusivas': 14040, 'em jornalismo exclusivas para': 12707, 'jornalismo exclusivas para mulheres': 17259, 'exclusivas para mulheres negras': 14209, 'para mulheres negras necessário': 22908, 'mulheres negras necessário estar': 19683, 'negras necessário estar cursando': 20406, 'pode ser uma': 24343, 'nacional de imunizações': 20255, 'programa nacional de imunizações': 25549, 'acessolivre agência sanitária': 162, 'agência sanitária autoriza': 576, 'sanitária autoriza aplicação': 28459, 'autoriza aplicação de': 2414, 'acessolivre agência sanitária autoriza': 163, 'agência sanitária autoriza aplicação': 577, 'sanitária autoriza aplicação de': 28460, 'governo federal preparou': 15807, 'federal preparou avião': 14766, 'preparou avião para': 25062, 'avião para buscar': 2491, 'para buscar imunizantes': 22686, 'buscar imunizantes da': 3382, 'imunizantes da oxfordastrazeneca': 16533, 'da oxfordastrazeneca mas': 6821, 'oxfordastrazeneca mas precisou': 22375, 'mas precisou abortar': 18590, 'acessolivre governo federal preparou': 222, 'governo federal preparou avião': 15808, 'federal preparou avião para': 14767, 'preparou avião para buscar': 25063, 'avião para buscar imunizantes': 2492, 'para buscar imunizantes da': 22687, 'buscar imunizantes da oxfordastrazeneca': 3383, 'imunizantes da oxfordastrazeneca mas': 16534, 'da oxfordastrazeneca mas precisou': 6822, 'oxfordastrazeneca mas precisou abortar': 22376, 'vicepresidente do instituto': 32362, 'do instituto ágape': 11321, 'instituto ágape que': 16798, 'ágape que atua': 32832, 'que atua nas': 26053, 'atua nas periferias': 2256, 'nas periferias de': 20299, 'periferias de manaus': 23913, 'de manaus desde': 8614, 'manaus desde relata': 18344, 'desde relata que': 10197, 'vicepresidente do instituto ágape': 32363, 'do instituto ágape que': 11322, 'instituto ágape que atua': 16799, 'ágape que atua nas': 32833, 'que atua nas periferias': 26054, 'atua nas periferias de': 2257, 'nas periferias de manaus': 20300, 'periferias de manaus desde': 23914, 'de manaus desde relata': 8615, 'manaus desde relata que': 18345, 'de oxigênio nos': 8904, 'oxigênio nos hospitais': 22378, 'nos hospitais da': 21266, 'hospitais da capital': 16247, 'da capital do': 6397, 'do amazonas vaivém': 10989, 'amazonas vaivém nos': 811, 'vaivém nos dados': 32123, 'da coronavac fechamento': 6471, 'coronavac fechamento das': 5684, 'falta de oxigênio nos': 14543, 'de oxigênio nos hospitais': 8905, 'oxigênio nos hospitais da': 22379, 'nos hospitais da capital': 21267, 'hospitais da capital do': 16248, 'da capital do amazonas': 6398, 'capital do amazonas vaivém': 3610, 'do amazonas vaivém nos': 10990, 'amazonas vaivém nos dados': 812, 'vaivém nos dados da': 32124, 'nos dados da coronavac': 21247, 'dados da coronavac fechamento': 7298, 'da coronavac fechamento das': 6472, 'montadora americana anunciou': 19345, 'suas três fábricas': 29962, 'adiamentos de anúncio': 369, 'de anúncio divulgação': 7495, 'anúncio divulgação parcial': 1206, 'divulgação parcial de': 10798, 'parcial de dados': 23165, 'dados de eficácia': 7300, 'de eficácia alimentaram': 8072, 'eficácia alimentaram narrativas': 12335, 'alimentaram narrativas antivacina': 686, 'adiamentos de anúncio divulgação': 370, 'de anúncio divulgação parcial': 7496, 'anúncio divulgação parcial de': 1207, 'divulgação parcial de dados': 10799, 'parcial de dados de': 23166, 'de dados de eficácia': 7916, 'dados de eficácia alimentaram': 7301, 'de eficácia alimentaram narrativas': 8073, 'eficácia alimentaram narrativas antivacina': 12336, 'em conta todos': 12532, 'conta todos os': 5353, 'todos os infectados': 30841, 'os infectados pela': 22186, 'infectados pela covid': 16647, 'pela covid durante': 23673, 'covid durante os': 5863, 'durante os testes': 12118, 'os testes incluindo': 22271, 'testes incluindo pessoas': 30713, 'incluindo pessoas assintomáticas': 16565, 'levando em conta todos': 17641, 'em conta todos os': 12533, 'conta todos os infectados': 5354, 'todos os infectados pela': 30842, 'os infectados pela covid': 22187, 'infectados pela covid durante': 16648, 'pela covid durante os': 23674, 'covid durante os testes': 5864, 'durante os testes incluindo': 12119, 'os testes incluindo pessoas': 22272, 'testes incluindo pessoas assintomáticas': 30714, 'agência reguladora deve': 574, 'reguladora deve decidir': 27308, 'decidir sobre pedidos': 9762, 'sobre pedidos de': 29681, 'pedidos de uso': 23637, 'uso emergencial dos': 31861, 'emergencial dos imunizantes': 13173, 'imunizantes da fiocruz': 16531, 'da fiocruz do': 6645, 'agência reguladora deve decidir': 575, 'reguladora deve decidir sobre': 27309, 'deve decidir sobre pedidos': 10412, 'decidir sobre pedidos de': 9763, 'sobre pedidos de uso': 29682, 'pedidos de uso emergencial': 23638, 'de uso emergencial dos': 9593, 'uso emergencial dos imunizantes': 31862, 'emergencial dos imunizantes da': 13174, 'dos imunizantes da fiocruz': 11947, 'imunizantes da fiocruz do': 16532, 'pedidos para mudar': 23639, 'para mudar data': 22905, 'mudar data do': 19635, 'data do exame': 7405, 'do exame levam': 11207, 'exame levam em': 14188, 'levam em consideração': 17638, 'em consideração defasagem': 12530, 'consideração defasagem educacional': 5309, 'defasagem educacional aumento': 9843, 'educacional aumento da': 12301, 'pedidos para mudar data': 23640, 'para mudar data do': 22906, 'mudar data do exame': 19636, 'data do exame levam': 7406, 'do exame levam em': 11208, 'exame levam em consideração': 14189, 'levam em consideração defasagem': 17639, 'em consideração defasagem educacional': 12531, 'consideração defasagem educacional aumento': 5310, 'defasagem educacional aumento da': 9844, 'insumo nos hospitais': 16807, 'nos hospitais médicos': 21268, 'obrigados fazer ventilação': 21790, 'fazer ventilação manual': 14696, 'ventilação manual em': 32264, 'manual em pacientes': 18435, 'insumo nos hospitais médicos': 16808, 'obrigados fazer ventilação manual': 21791, 'fazer ventilação manual em': 14697, 'ventilação manual em pacientes': 32265, 'as divisões racial': 1896, 'divisões racial sexual': 10786, 'racial sexual do': 26938, 'sexual do trabalho': 29385, 'do trabalho são': 11741, 'trabalho são estruturantes': 30960, 'são estruturantes estruturadoras': 30152, 'estruturantes estruturadoras das': 13935, 'as divisões racial sexual': 1897, 'divisões racial sexual do': 10787, 'racial sexual do trabalho': 26939, 'sexual do trabalho são': 29386, 'do trabalho são estruturantes': 11742, 'trabalho são estruturantes estruturadoras': 30961, 'são estruturantes estruturadoras das': 30153, 'este conteúdo faz': 13889, 'conteúdo faz parte': 5383, 'parte da nexoedunoenem': 23199, 'da nexoedunoenem nossa': 6793, 'nexoedunoenem nossa newsletter': 20670, 'nossa newsletter com': 21292, 'newsletter com atualidades': 20576, 'com atualidades para': 4390, 'atualidades para exame': 2269, 'para exame ele': 22803, 'exame ele está': 14186, 'ele está com': 12366, 'este conteúdo faz parte': 13890, 'conteúdo faz parte da': 5384, 'faz parte da nexoedunoenem': 14654, 'parte da nexoedunoenem nossa': 23200, 'da nexoedunoenem nossa newsletter': 6794, 'nexoedunoenem nossa newsletter com': 20671, 'nossa newsletter com atualidades': 21293, 'newsletter com atualidades para': 20577, 'com atualidades para exame': 4391, 'atualidades para exame ele': 2270, 'para exame ele está': 22804, 'exame ele está com': 14187, 'estação mais esperada': 13880, 'mais esperada do': 18207, 'esperada do ano': 13706, 'do ano está': 10996, 'ano está aí': 966, 'está aí desta': 13988, 'aí desta vez': 2559, 'desta vez vai': 10343, 'vez vai ser': 32322, 'vai ser diferente': 32112, 'ser diferente mas': 29200, 'diferente mas dá': 10553, 'mas dá para': 18555, 'dá para aproveitar': 12150, 'estação mais esperada do': 13881, 'mais esperada do ano': 18208, 'esperada do ano está': 13707, 'do ano está aí': 10997, 'ano está aí desta': 967, 'está aí desta vez': 13989, 'aí desta vez vai': 2560, 'desta vez vai ser': 10344, 'vez vai ser diferente': 32323, 'vai ser diferente mas': 32113, 'ser diferente mas dá': 29201, 'diferente mas dá para': 10554, 'mas dá para aproveitar': 18556, 'neste vídeo diretor': 20542, 'vídeo diretor executivo': 32666, 'diretor executivo do': 10634, 'brasil professor de': 3210, 'professor de economia': 25492, 'economia da pucrio': 12191, 'da pucrio juliano': 7034, 'neste vídeo diretor executivo': 20543, 'vídeo diretor executivo do': 32667, 'brasil professor de economia': 3211, 'professor de economia da': 25493, 'de economia da pucrio': 8062, 'economia da pucrio juliano': 12192, 'começar imunizar população': 4792, 'nome do dem': 21223, 'última aula aberta': 32903, 'aula aberta nexoedu': 2353, 'aberta nexoedu no': 21, 'nexoedu no enem': 20667, 'no enem teve': 20919, 'enem teve como': 13292, 'última aula aberta nexoedu': 32904, 'aula aberta nexoedu no': 2354, 'aberta nexoedu no enem': 22, 'nexoedu no enem teve': 20669, 'no enem teve como': 20920, 'aula aberta atualidades': 2351, 'aberta atualidades para': 19, 'atualidades para enem': 2267, 'para enem política': 22774, 'enem política relações': 13288, 'política relações internacionais': 24474, 'aula aberta atualidades para': 2352, 'aberta atualidades para enem': 20, 'atualidades para enem política': 2268, 'para enem política relações': 22775, 'enem política relações internacionais': 13289, 'governador wilson lima': 15695, 'estudo analisou políticas': 13953, 'analisou políticas educacionais': 910, 'políticas educacionais adotadas': 24486, 'educacionais adotadas em': 12299, 'adotadas em países': 383, 'em países durante': 12863, 'países durante pandemia': 23528, 'estudo analisou políticas educacionais': 13954, 'analisou políticas educacionais adotadas': 911, 'políticas educacionais adotadas em': 24487, 'educacionais adotadas em países': 12300, 'adotadas em países durante': 384, 'em países durante pandemia': 12864, 'países durante pandemia do': 23529, 'durante pandemia do novo': 12125, 'terça ao meiodia': 30644, 'ao meiodia acontece': 1284, 'meiodia acontece última': 18782, 'acontece última aula': 326, 'aula aberta nexoedunoenem': 2355, 'aberta nexoedunoenem sobre': 23, 'nexoedunoenem sobre política': 20672, 'sobre política relações': 29685, 'terça ao meiodia acontece': 30645, 'ao meiodia acontece última': 1285, 'meiodia acontece última aula': 18783, 'acontece última aula aberta': 327, 'última aula aberta nexoedunoenem': 32905, 'aula aberta nexoedunoenem sobre': 2356, 'aberta nexoedunoenem sobre política': 24, 'nexoedunoenem sobre política relações': 20673, 'sobre política relações internacionais': 29686, 'qualquer que seja': 25934, 'no enem sobre': 20917, 'enem sobre política': 13290, 'relações internacionais professor': 27375, 'internacionais professor das': 16866, 'professor das fa': 25489, 'nexoedu no enem sobre': 20668, 'no enem sobre política': 20918, 'enem sobre política relações': 13291, 'política relações internacionais professor': 24475, 'relações internacionais professor das': 27376, 'internacionais professor das fa': 16867, 'do capitólio por': 11085, 'capitólio por extremistas': 3629, 'por extremistas incitação': 24667, 'extremistas incitação do': 14418, 'incitação do presidente': 16563, 'do presidente donald': 11553, 'presidente donald trump': 25146, 'donald trump reação': 11846, 'trump reação de': 31137, 'reação de políticos': 27037, 'de políticos no': 9036, 'políticos no país': 24521, 'invasão do capitólio por': 16906, 'do capitólio por extremistas': 11086, 'capitólio por extremistas incitação': 3630, 'por extremistas incitação do': 24668, 'extremistas incitação do presidente': 14419, 'incitação do presidente donald': 16564, 'do presidente donald trump': 11554, 'presidente donald trump reação': 25147, 'donald trump reação de': 11847, 'trump reação de políticos': 31138, 'reação de políticos no': 27038, 'de políticos no país': 9037, 'governo estadual diz': 15790, 'estadual diz que': 13853, 'diz que imunizante': 10892, 'que imunizante produzido': 26339, 'imunizante produzido em': 16526, 'parceria com laboratório': 23149, 'com laboratório chinês': 4575, 'laboratório chinês protegeu': 17451, 'chinês protegeu dos': 4050, 'governo estadual diz que': 15791, 'estadual diz que imunizante': 13854, 'diz que imunizante produzido': 10893, 'que imunizante produzido em': 26340, 'imunizante produzido em parceria': 16527, 'em parceria com laboratório': 12848, 'parceria com laboratório chinês': 23150, 'com laboratório chinês protegeu': 4576, 'laboratório chinês protegeu dos': 17452, 'segundo dados oficiais': 28911, 'dados oficiais cerca': 7307, 'oficiais cerca de': 21853, 'de um cada': 9501, 'um cada mil': 31308, 'cada mil brasileiros': 3435, 'mil brasileiros morreu': 18994, 'brasileiros morreu de': 3287, 'covid até janeiro': 5829, 'segundo dados oficiais cerca': 28912, 'dados oficiais cerca de': 7308, 'oficiais cerca de um': 21854, 'cerca de um cada': 3918, 'de um cada mil': 9502, 'um cada mil brasileiros': 31309, 'cada mil brasileiros morreu': 3436, 'mil brasileiros morreu de': 18995, 'brasileiros morreu de covid': 3288, 'morreu de covid até': 19402, 'de covid até janeiro': 7854, 'vitórias no estado': 32487, 'estado do sul': 13811, 'do sul dos': 11697, 'dos eua foram': 11929, 'eua foram decisivas': 14105, 'foram decisivas para': 15246, 'decisivas para partido': 9769, 'para partido democrata': 22937, 'partido democrata que': 23238, 'democrata que ocupará': 9957, 'que ocupará presidência': 26470, 'ocupará presidência terá': 21814, 'presidência terá maiori': 25193, 'vitórias no estado do': 32488, 'no estado do sul': 20931, 'estado do sul dos': 13812, 'do sul dos eua': 11698, 'sul dos eua foram': 29996, 'dos eua foram decisivas': 11930, 'eua foram decisivas para': 14106, 'foram decisivas para partido': 15247, 'decisivas para partido democrata': 9770, 'para partido democrata que': 22938, 'partido democrata que ocupará': 23239, 'democrata que ocupará presidência': 9958, 'que ocupará presidência terá': 26471, 'ocupará presidência terá maiori': 21815, 'vitória de biden': 32478, 'congresso para interromper': 5205, 'para interromper confirmação': 22857, 'interromper confirmação da': 16894, 'confirmação da vitória': 5170, 'da vitória de': 7279, 'joe biden ao': 17212, 'congresso para interromper confirmação': 5206, 'para interromper confirmação da': 22858, 'interromper confirmação da vitória': 16895, 'confirmação da vitória de': 5171, 'da vitória de joe': 7280, 'de joe biden ao': 8476, 'você ama assistir': 32514, 'ama assistir algo': 787, 'assistir algo que': 2064, 'algo que odeia': 663, 'que odeia ou': 26472, 'odeia ou odeia': 21828, 'ou odeia assistir': 22304, 'odeia assistir algo': 21826, 'algo que ama': 659, 'que ama qualquer': 26031, 'ama qualquer que': 789, 'que seja sua': 26616, 'seja sua relação': 28946, 'você ama assistir algo': 32515, 'ama assistir algo que': 788, 'assistir algo que odeia': 2066, 'algo que odeia ou': 664, 'que odeia ou odeia': 26473, 'odeia ou odeia assistir': 21829, 'ou odeia assistir algo': 22305, 'odeia assistir algo que': 21827, 'assistir algo que ama': 2065, 'algo que ama qualquer': 660, 'que ama qualquer que': 26032, 'ama qualquer que seja': 790, 'qualquer que seja sua': 25935, 'que seja sua relação': 26617, 'abastecimento de água': 9, 'de água esgotamento': 9712, 'água esgotamento sanitário': 32835, 'esgotamento sanitário têm': 13644, 'sanitário têm sido': 28467, 'têm sido foco': 31256, 'sido foco de': 29411, 'foco de ações': 15093, 'de ações investimentos': 7564, 'ações investimentos dos': 2551, 'abastecimento de água esgotamento': 10, 'de água esgotamento sanitário': 9713, 'água esgotamento sanitário têm': 32836, 'esgotamento sanitário têm sido': 13645, 'sanitário têm sido foco': 28468, 'têm sido foco de': 31257, 'sido foco de ações': 29412, 'foco de ações investimentos': 15094, 'de ações investimentos dos': 7565, 'durma com essa': 12136, 'penúltima aula aberta': 23844, 'como tema pandemia': 4959, 'tema pandemia no': 30477, 'tema pandemia no brasil': 30478, 'pandemia no brasil no': 22537, 'inscrevase para receber': 16752, 'para receber gratuitamente': 23020, 'receber gratuitamente por': 27063, 'gratuitamente por email': 15869, 'por email as': 24657, 'email as edições': 13142, 'as edições da': 1902, 'edições da newsletter': 12257, 'inscrevase para receber gratuitamente': 16753, 'para receber gratuitamente por': 23021, 'receber gratuitamente por email': 27064, 'gratuitamente por email as': 15870, 'por email as edições': 24658, 'email as edições da': 13143, 'as edições da newsletter': 1903, 'terceira aula aberta': 30597, 'estamos trabalhando em': 13866, 'trabalhando em um': 30944, 'um novo app': 31430, 'novo app com': 21422, 'app com experiência': 1538, 'com experiência completa': 4522, 'experiência completa de': 14306, 'estamos trabalhando em um': 13867, 'trabalhando em um novo': 30945, 'em um novo app': 13093, 'um novo app com': 31431, 'novo app com experiência': 21423, 'app com experiência completa': 1539, 'com experiência completa de': 4523, 'seleção maislidasdonexo entre': 28960, 'maislidasdonexo entre os': 18324, 'os assinantes em': 22117, 'assinantes em este': 2039, 'em este conteúdo': 12635, 'com acessolivre por': 4356, 'acessolivre por tempo': 269, 'tempo limitado aprov': 30501, 'seleção maislidasdonexo entre os': 28961, 'maislidasdonexo entre os assinantes': 18325, 'entre os assinantes em': 13411, 'os assinantes em este': 22118, 'assinantes em este conteúdo': 2040, 'em este conteúdo está': 12636, 'está com acessolivre por': 13993, 'com acessolivre por tempo': 4357, 'acessolivre por tempo limitado': 270, 'por tempo limitado aprov': 24803, 'parte da seleção': 23203, 'da seleção das': 7159, 'seleção das maislidasdonexo': 28953, 'das maislidasdonexo entre': 7373, 'maislidasdonexo entre nossos': 18322, 'entre nossos assinantes': 13408, 'nossos assinantes ele': 21317, 'assinantes ele está': 2037, 'faz parte da seleção': 14655, 'parte da seleção das': 23204, 'da seleção das maislidasdonexo': 7160, 'seleção das maislidasdonexo entre': 28954, 'das maislidasdonexo entre nossos': 7374, 'maislidasdonexo entre nossos assinantes': 18323, 'entre nossos assinantes ele': 13409, 'nossos assinantes ele está': 21318, 'assinantes ele está com': 2038, 'ele está com acessolivre': 12367, 'longo do mês': 17864, 'mês de dezembro': 19832, 'de dezembro nexo': 7977, 'dezembro nexo destaca': 10450, 'que foram escancarad': 26298, 'acessolivre ao longo do': 167, 'ao longo do mês': 1276, 'longo do mês de': 17865, 'do mês de dezembro': 11437, 'mês de dezembro nexo': 19833, 'de dezembro nexo destaca': 7978, 'dezembro nexo destaca características': 10451, 'tempo que foram escancarad': 30505, 'de ano novo': 7460}\n\nshape do vocabulario 3:  (16240, 32939)\n"
          ]
        }
      ]
    },
    {
      "cell_type": "code",
      "metadata": {
        "colab": {
          "base_uri": "https://localhost:8080/"
        },
        "id": "Qr8CQdFkF3P_",
        "outputId": "e4222e0f-456a-4e90-9e75-45d1f0639030"
      },
      "source": [
        "### Ignorar palavras que aparecem muito - acima de 50% dos documentos\n",
        "### alta frequência + baixa frequência + numero de palavras\n",
        "\n",
        "vectors4 = CountVectorizer(min_df = 2, max_df = 0.5, max_features = 1000)\n",
        "count_vectors4 = vectors4.fit_transform(corpus)\n",
        "print(\"\\nvocabulario 4: \",vectors4.vocabulary_)\n",
        "print(\"\\nshape do vocabulario 4: \",count_vectors4.shape)"
      ],
      "execution_count": 99,
      "outputs": [
        {
          "output_type": "stream",
          "name": "stdout",
          "text": [
            "\nvocabulario 4:  {'terra': 903, 'na': 588, 'república': 809, 'do': 253, 'nesta': 597, 'segundafeira': 837, 'novo': 622, 'presidente': 730, 'foi': 371, 'em': 282, 'capital': 118, 'novos': 623, 'dados': 202, 'sobre': 869, 'pesquisadores': 694, 'debate': 207, 'da': 201, 'covid': 191, 'rt': 820, 'disse': 247, 'que': 773, 'pode': 708, 'uma': 942, 'menor': 540, 'no': 609, 'china': 138, 'sua': 876, 'participação': 666, 'mercado': 542, 'devem': 232, 'ser': 851, 'para': 660, 'variante': 962, 'índia': 994, 'diz': 249, 'os': 643, 'um': 941, 'outros': 647, 'não': 627, 'têm': 938, 'fazer': 351, 'grande': 403, 'fora': 374, 'área': 993, 'milhões': 550, 'banco': 85, 'sul': 879, 'busca': 110, 'empresa': 285, 'tecnologia': 893, 'seu': 857, 'projeto': 748, 'digital': 239, 'quartafeira': 770, 'das': 205, 'cerca': 133, 'us': 947, 'valor': 960, 'queda': 775, 'petrobras': 697, 'anunciou': 40, 'programa': 747, 'prevê': 734, 'investimentos': 451, 'até': 73, 'pessoas': 696, 'podem': 709, 'dos': 259, 'dinheiro': 240, 'sociais': 870, 'recorde': 789, 'comissão': 159, 'reforma': 796, 'por': 719, 'como': 160, 'paulista': 672, 'registrou': 798, 'nas': 591, 'horas': 421, 'desta': 226, 'segundo': 838, 'causa': 129, 'com': 154, 'deixou': 216, 'mortos': 565, 'mais': 514, 'últimos': 999, 'anos': 37, 'casa': 126, 'papel': 659, 'ao': 43, 'fim': 365, 'ainda': 18, 'estados': 310, 'já': 473, 'população': 718, 'contra': 178, 'pazuello': 675, 'ato': 67, 'rio': 816, 'pela': 685, 'cnn': 149, 'militar': 551, 'tem': 894, 'sido': 862, 'pa': 651, 'governo': 402, 'muito': 573, 'será': 853, 'cpi': 192, 'pandemia': 658, 'omar': 632, 'aziz': 80, 'entrevista': 295, 'as': 60, 'cidade': 140, 'bolsonaro': 100, 'está': 321, 'quadro': 762, 'poder': 710, 'william': 990, 'waack': 987, 'fala': 341, 'quarta': 769, 'semana': 844, 'depoimentos': 221, 'senadores': 849, 'vão': 981, 'dia': 235, 'todos': 916, 'brasileira': 104, 'primeira': 737, 'jair': 458, 'deve': 231, 'podcast': 707, 'eu': 323, 'fernando': 354, 'alexandre': 21, 'empresas': 286, 'manter': 521, 'modelo': 557, 'trabalho': 921, 'pesquisa': 693, 'aponta': 50, 'se': 831, 'inflação': 438, 'país': 676, 'isso': 456, 'ano': 36, 'passado': 670, 'comércio': 166, 'levantamento': 484, 'alta': 24, 'após': 54, 'recuperação': 791, 'edição': 271, 'médico': 583, 'gomes': 399, 'morte': 563, 'vacinação': 957, 'profissionais': 746, 'possível': 721, 'janeiro': 459, 'liberdade': 487, 'opinião': 639, 'manifestação': 520, 'favor': 348, 'número': 629, 'mortes': 564, 'entre': 293, 'fez': 357, 'série': 886, 'você': 978, 'parte': 665, 'estava': 316, 'grupo': 407, 'líder': 506, 'qual': 764, 'afirmou': 15, 'bilhões': 93, 'foram': 375, 'fiocruz': 368, 'produção': 744, 'vacina': 953, 'amanhã': 28, 'exministro': 332, 'saúde': 830, 'eduardo': 273, 'general': 391, 'ministro': 554, 'pede': 679, 'nem': 596, 'sempre': 846, 'precisa': 726, 'abrir': 5, 'ou': 644, 'seus': 858, 'serviços': 852, 'federal': 352, 'libera': 486, 'primeiro': 738, 'lote': 499, 'imposto': 432, 'renda': 807, 'senador': 848, 'secretário': 834, 'são': 883, 'paulo': 673, 'autoridades': 76, 'coronavírus': 185, 'deputados': 224, 'pelo': 687, 'menos': 541, 'casos': 128, 'negro': 594, 'acordo': 12, 'neste': 598, 'episódio': 296, 'sociedade': 872, 'outras': 645, 'evitar': 327, 'espera': 305, 'leitos': 482, 'segurança': 839, 'mil': 548, 'movimento': 568, 'estado': 309, 'depois': 222, 'medida': 534, 'mc': 532, 'kevin': 474, 'teve': 909, 'sendo': 850, 'vacinas': 956, 'vacinar': 955, 'mas': 529, 'apenas': 45, 'secretaria': 832, 'municipal': 578, 'situação': 867, 'tratamento': 923, 'mês': 585, 'maio': 510, 'eua': 324, 'biden': 92, 'família': 345, 'terçafeira': 906, 'feito': 353, 'brasil': 103, 'estão': 322, 'falta': 344, 'entrega': 294, 'caixa': 114, 'segunda': 836, 'auxílio': 77, 'emergencial': 284, 'bolsa': 97, 'relações': 804, 'pediu': 683, 'todas': 914, 'prefeitura': 728, 'esta': 308, 'plano': 704, 'ação': 81, 'caso': 127, 'seja': 841, 'maior': 511, 'doses': 261, 'desde': 225, 'rússia': 823, 'avião': 79, 'domingo': 257, 'exército': 337, 'governadores': 401, 'notícias': 619, 'assista': 63, 'fatos': 347, 'manhã': 519, 'quatro': 772, 'aplicação': 48, 'imunizantes': 434, 'vacinados': 954, 'vai': 958, 'sem': 843, 'partido': 667, 'chegou': 137, 'agência': 17, 'diretor': 244, 'laboratório': 475, 'nacional': 589, 'relatório': 802, 'instituto': 443, 'estudo': 320, 'indica': 437, 'luta': 505, 'entenda': 291, 'the': 911, 'melhor': 538, 'quase': 771, 'dois': 256, 'total': 919, 'últimas': 997, 'semanas': 845, 'bitcoin': 94, 'esse': 307, 'polícia': 713, 'supremo': 880, 'tribunal': 927, 'stf': 875, 'defende': 212, 'nova': 620, 'carlos': 122, 'parlamentar': 663, 'randolfe': 783, 'alguns': 23, 'depoimento': 220, 'só': 887, 'deste': 228, 'butantan': 111, 'governador': 400, 'todo': 915, 'imprensa': 433, 'democracia': 218, 'filme': 364, 'estreia': 319, 'nos': 612, 'unidos': 943, 'quem': 777, 'chega': 136, 'corinthians': 183, 'técnico': 937, 'israel': 455, 'restrições': 811, 'ter': 901, 'vidas': 973, 'mundo': 577, 'queiroga': 776, 'testes': 908, 'pra': 725, 'maranhão': 523, 'palmeiras': 657, 'final': 367, 'pouco': 722, 'mi': 547, 'média': 582, 'américa': 34, 'onde': 635, 'pfizer': 699, 'conselho': 174, 'região': 799, 'preços': 736, 'civil': 145, 'essa': 306, 'setor': 856, 'policiais': 711, 'oposição': 640, 'preso': 732, 'pedir': 682, 'junho': 471, 'educação': 274, 'leia': 480, 'hospitais': 422, 'ajuda': 19, 'durante': 263, 'lockdown': 497, 'forças': 379, 'comando': 155, 'hamas': 416, 'políticos': 717, 'brasileiro': 106, 'morreu': 562, 'sábado': 882, 'aos': 44, 'algumas': 22, 'mulheres': 575, 'risco': 817, 'mendes': 539, 'atuação': 72, 'con': 167, 'marcelo': 525, 'tarde': 889, 'medidas': 535, 'informações': 439, 'houve': 424, 'máscara': 579, 'evento': 326, 'lado': 476, 'confira': 168, 'deixa': 215, 'afirma': 14, 'transmissão': 922, 'pacientes': 652, 'próxima': 755, 'decidiu': 208, 'redução': 795, 'às': 992, 'mostra': 566, 'whatsapp': 989, 'começou': 158, 'suas': 877, 'novas': 621, 'políticas': 715, 'três': 931, 'cinco': 143, 'frança': 382, 'prêmio': 754, 'lava': 478, 'mal': 516, 'mudanças': 571, 'parece': 662, 'conta': 175, 'social': 871, 'ela': 276, 'quando': 766, 'saber': 825, 'ir': 453, 'flamengo': 369, 'advogado': 13, 'geral': 394, 'união': 945, 'apesar': 46, 'araújo': 57, 'central': 130, 'bruno': 109, 'covas': 190, 'assim': 61, 'cargo': 121, 'pagar': 653, 'veja': 963, 'costa': 189, 'ciência': 146, 'ambiental': 30, 'abril': 4, 'york': 991, 'onda': 634, 'sistema': 865, 'explica': 334, 'sabe': 824, 'ele': 277, 'cada': 113, 'pessoa': 695, 'móvel': 586, 'dias': 237, 'início': 452, 'vírus': 985, 'há': 426, 'estar': 315, 'documentos': 254, 'ministério': 556, 'milhão': 549, 'psdb': 756, 'prefeito': 727, 'comprar': 164, 'serão': 854, 'volta': 979, 'eletrobras': 281, 'energia': 289, 'além': 27, 'alerta': 20, 'perdeu': 690, 'antes': 38, 'terá': 904, 'seis': 840, 'ricardo': 815, 'nunes': 626, 'forma': 376, 'dose': 260, 'senado': 847, 'rodrigo': 819, 'apresenta': 51, 'funciona': 385, 'segue': 835, 'ranking': 784, 'global': 396, 'co': 150, 'recebeu': 788, 'universidade': 944, 'momento': 558, 'meio': 537, 'gaza': 390, 'quais': 763, 'argentina': 58, 'cidades': 141, 'plataforma': 705, 'homens': 420, 'centro': 131, 'países': 677, 'música': 587, 'especial': 303, 'friends': 384, 'quintafeira': 781, 'frente': 383, 'nome': 611, 'palestinos': 656, 'faixa': 340, 'recebe': 786, 'dicas': 238, 'ambiente': 31, 'março': 528, 'pr': 724, 'lista': 493, 'econômica': 269, 'década': 266, 'médicos': 584, 'aumento': 75, 'brasileiras': 105, 'terceira': 902, 'futebol': 387, 'nosso': 615, 'sextafeira': 860, 'daniel': 203, 'parceria': 661, 'anvisa': 41, 'inquérito': 441, 'mostram': 567, 'público': 761, 'mesmo': 545, 'equipe': 297, 'base': 87, 'sp': 873, 'cloroquina': 148, 'revela': 813, 'brasileiros': 107, 'vezes': 970, 'oms': 633, 'câmara': 200, 'arthur': 59, 'lira': 492, 'compra': 163, 'ações': 82, 'encontro': 287, 'pf': 698, 'prova': 753, 'relação': 803, 'crise': 197, 'internacional': 447, 'faz': 349, 'lucro': 501, 'líquido': 508, 'lula': 504, 'fhc': 358, 'justiça': 472, 'defesa': 214, 'mp': 569, 'privatização': 741, 'especialistas': 304, 'tóquio': 940, 'sob': 868, 'vê': 982, 'pelas': 686, 'atenção': 66, 'uti': 952, 'vez': 969, 'pt': 757, 'lewandowski': 485, 'pedido': 681, 'gestão': 395, 'copa': 182, 'seleção': 842, 'renan': 806, 'economia': 268, 'decisão': 209, 'avalia': 78, 'noite': 610, 'joão': 468, 'doria': 258, 'expresidente': 336, 'toda': 913, 'sexta': 859, 'brasília': 108, 'fazem': 350, 'político': 716, 'partir': 668, 'indiana': 436, 'internet': 448, 'recursos': 792, 'mayra': 531, 'pinheiro': 701, 'dólar': 267, 'real': 785, 'grandes': 404, 'apoio': 49, 'eleições': 279, 'redes': 794, 'cientistas': 142, 'vida': 972, 'es': 300, 'discurso': 245, 'acesso': 8, 'ma': 509, 'quer': 778, 'via': 971, 'disputa': 246, 'gama': 388, 'oxigênio': 650, 'manaus': 517, 'espaço': 302, 'orçamento': 642, 'crime': 196, 'venda': 966, 'vem': 964, 'duas': 262, 'dar': 204, 'presidência': 731, 'europeia': 325, 'centrão': 132, 'campanha': 116, 'último': 998, 'amazonas': 29, 'famílias': 346, 'maioria': 513, 'nunca': 625, 'ministros': 555, 'voto': 980, 'acontece': 11, 'crianças': 195, 'meses': 544, 'trump': 930, 'começa': 157, 'julgamento': 470, 'delação': 217, 'sérgio': 885, 'cabral': 112, 'operação': 638, 'forte': 378, 'tenta': 900, 'processo': 743, 'fundo': 386, 'proposta': 751, 'critica': 198, 'responsável': 810, 'boa': 96, 'principais': 739, 'enquanto': 290, 'destaques': 227, 'hoje': 418, 'deveria': 233, 'pressão': 733, 'receber': 787, 'oferta': 631, 'líderes': 507, 'mantém': 522, 'perde': 689, 'problema': 742, 'agora': 16, 'aplicativo': 47, 'falou': 343, 'medo': 536, 'defender': 213, 'uso': 950, 'porque': 720, 'jovens': 467, 'querem': 779, 'chefe': 135, 'fachin': 339, 'pública': 759, 'aprova': 53, 'ernesto': 299, 'luiz': 503, 'silva': 863, 'ganha': 389, 'https': 425, 'tempo': 898, 'passou': 671, 'pior': 702, 'violência': 974, 'entra': 292, 'salles': 827, 'japão': 460, 'taxa': 890, 'tv': 933, 'coronavac': 184, 'interior': 445, 'direita': 241, 'trabalhadores': 920, 'contrato': 179, 'direito': 242, 'período': 692, 'grupos': 408, 'insumos': 444, 'policial': 712, 'conversa': 181, 'política': 714, 'gustavo': 413, 'este': 317, 'decorrência': 210, 'relator': 801, 'analisa': 35, 'neymar': 606, 'óbitos': 995, 'jogo': 462, 'quinta': 780, 'quebra': 774, 'reúne': 814, 'roberto': 818, 'corte': 188, 'colômbia': 153, 'anuncia': 39, 'estamos': 313, 'perguntas': 691, 'calheiros': 115, 'bem': 90, 'relembre': 805, 'ouviu': 648, 'jovem': 466, 'hospital': 423, 'fosse': 380, 'promete': 750, 'guedes': 411, 'dizer': 251, 'confirma': 169, 'tinha': 912, 'twitter': 934, 'marca': 524, 'outro': 646, 'nossas': 614, 'greve': 406, 'news': 599, 'minha': 553, 'saída': 829, 'wajngarten': 988, 'linha': 491, 'controle': 180, 'investigação': 450, 'combate': 156, 'cinema': 144, 'diante': 236, 'dá': 265, 'maiores': 512, 'tenha': 899, 'tão': 936, 'sessão': 855, 'vídeos': 984, 'também': 888, 'ordem': 641, 'vivo': 977, 'niterói': 608, 'rua': 821, 'ator': 68, 'lei': 479, 'abertura': 2, 'exportação': 335, 'flávio': 370, 'acaba': 6, 'homem': 419, 'reunião': 812, 'guerra': 412, 'te': 892, 'alvo': 26, 'imagens': 428, 'evolução': 328, 'doença': 255, 'gênero': 414, 'regras': 800, 'qualquer': 765, 'lugar': 502, 'rede': 793, 'ataque': 64, 'barra': 86, 'suspensão': 881, 'análise': 42, 'conflito': 171, 'vamos': 961, 'investigar': 449, 'nada': 590, 'registra': 797, 'parlamentares': 664, 'vale': 959, 'moraes': 559, 'mãe': 580, 'era': 298, 'pelos': 688, 'dizem': 250, 'passa': 669, 'tcu': 891, 'atual': 70, 'deu': 229, 'me': 533, 'tese': 907, 'preço': 735, 'quanto': 768, 'usar': 949, 'saiba': 826, 'ficou': 361, 'aberta': 0, 'online': 636, 'ver': 967, 'facebook': 338, 'carreira': 123, 'abre': 3, 'chinês': 139, 'bahia': 84, 'filho': 362, 'leite': 481, 'ibama': 427, 'terça': 905, 'habeas': 415, 'corpus': 186, 'ficar': 360, 'silêncio': 864, 'alto': 25, 'dez': 234, 'capitã': 119, 'pedro': 684, 'carta': 125, 'pai': 654, 'conheça': 173, 'globo': 397, 'nega': 592, 'prepara': 729, 'marco': 526, 'deputado': 223, 'longo': 498, 'carro': 124, 'falar': 342, 'trimestre': 928, 'festival': 356, 'bom': 101, 'ataques': 65, 'cria': 194, 'congresso': 172, 'iniciativa': 440, 'pe': 678, 'maria': 527, 'colapso': 152, 'vítima': 986, 'escola': 301, 'importante': 431, 'moro': 560, 'live': 494, 'atraso': 69, 'jogos': 463, 'limitado': 490, 'sputnik': 874, 'impacto': 429, 'estratégia': 318, 'troca': 929, 'jacarezinho': 457, 'manda': 518, 'ar': 56, 'pgr': 700, 'última': 996, 'golpe': 398, 'festa': 355, 'fica': 359, 'santos': 828, 'completa': 162, 'deus': 230, 'mundial': 576, 'jornalista': 465, 'planalto': 703, 'protestos': 752, 'morre': 561, 'mudança': 570, 'bate': 88, 'vitória': 976, 'eles': 280, 'prisão': 740, 'decreto': 211, 'estadual': 311, 'professor': 745, 'lança': 477, 'mata': 530, 'internacionais': 446, 'imunização': 435, 'ditadura': 248, 'obras': 630, 'história': 417, 'paz': 674, 'nós': 628, 'comunicação': 165, 'mães': 581, 'pedem': 680, 'dentro': 219, 'ninguém': 607, 'sucesso': 878, 'mulher': 574, 'toffoli': 917, 'usp': 951, 'temos': 897, 'datafolha': 206, 'eleição': 278, 'gente': 393, 'email': 283, 'libertadores': 488, 'tudo': 932, 'direitos': 243, 'cultura': 199, 'acompanhe': 10, 'militares': 552, 'ruas': 822, 'isolamento': 454, 'racismo': 782, 'chama': 134, 'diária': 252, 'liga': 489, 'painel': 655, 'ontem': 637, 'americano': 33, 'fome': 373, 'nossa': 613, 'juiz': 469, 'verdade': 968, 'texto': 910, 'vídeo': 983, 'traz': 925, 'usa': 948, 'gráfico': 409, 'torres': 918, 'tema': 895, 'foto': 381, 'conteúdo': 176, 'finais': 366, 'ameaça': 32, 'projetos': 749, 'nexo': 601, 'site': 866, 'eficácia': 275, 'trecho': 926, 'urgente': 946, 'vence': 965, 'aqui': 55, 'públicas': 760, 'impeachment': 430, 'filhos': 363, 'jato': 461, 'notícia': 618, 'mudar': 572, 'botafogo': 102, 'século': 884, 'título': 939, 'publica': 758, 'coisa': 151, 'secreto': 833, 'exame': 329, 'confirmados': 170, 'nelson': 595, 'gt': 410, 'tratoraço': 924, 'editorial': 270, 'capa': 117, 'corrupção': 187, 'vira': 975, 'bolsonaristas': 99, 'cpidacovid': 193, 'meu': 546, 'existe': 331, 'livros': 496, 'leva': 483, 'bbb': 89, 'pm': 706, 'cara': 120, 'clima': 147, 'bolsonarista': 98, 'sexual': 861, 'enem': 288, 'estadão': 312, 'acesse': 7, 'num': 624, 'jornal': 464, 'lucas': 500, 'aí': 83, 'ouça': 649, 'livro': 495, 'bi': 91, 'conteúdos': 177, 'blog': 95, 'genocida': 392, 'negras': 593, 'abertos': 1, 'nossos': 616, 'temas': 896, 'tá': 935, 'aula': 74, 'compartilhe': 161, 'povo': 723, 'reportagem': 808, 'folha': 372, 'experimentar': 333, 'inscrevase': 442, 'newsletter': 600, 'mesa': 543, 'gratuitamente': 405, 'noturna': 617, 'acessolivre': 9, 'estante': 314, 'maislidasnonexo': 515, 'assinantes': 62, 'durmacomessa': 264, 'nexográfico': 604, 'nexoarquivo': 602, 'quandocomeçaoséculo': 767, 'nexopolíticaspúblicas': 605, 'exclusivos': 330, 'recuperamos': 790, 'formatos': 377, 'aprov': 52, 'nexoedunoenem': 603, 'atualidades': 71, 'edições': 272}\n\nshape do vocabulario 4:  (16240, 1000)\n"
          ]
        }
      ]
    },
    {
      "cell_type": "markdown",
      "metadata": {
        "id": "bq9U5ivbb-rF"
      },
      "source": [
        "### **- Retira palavras iguais a pronomes, preposição, artigos definidos e indefinidos**"
      ]
    },
    {
      "cell_type": "code",
      "metadata": {
        "colab": {
          "base_uri": "https://localhost:8080/"
        },
        "id": "cegxAIjpb-rH",
        "outputId": "3b771d71-60e0-4067-9d47-dd475f9f8120"
      },
      "source": [
        "### A princípio é necessário de um dicionário que já tenha esse conjunto de palavras ou utilizar a NLTK que possui alguns\n",
        "from nltk.corpus import stopwords\n",
        "import nltk\n",
        "\n",
        "nltk.download('stopwords')\n",
        "language = \"portuguese\"\n",
        "\n",
        "print(stopwords.words(language))\n",
        "\n",
        "for word in stopwords.words(language):\n",
        "    print (word) "
      ],
      "execution_count": 100,
      "outputs": [
        {
          "output_type": "stream",
          "name": "stderr",
          "text": [
            "[nltk_data] Downloading package stopwords to\n",
            "[nltk_data]     C:\\Users\\jcts1\\AppData\\Roaming\\nltk_data...\n",
            "['de', 'a', 'o', 'que', 'e', 'é', 'do', 'da', 'em', 'um', 'para', 'com', 'não', 'uma', 'os', 'no', 'se', 'na', 'por', 'mais', 'as', 'dos', 'como', 'mas', 'ao', 'ele', 'das', 'à', 'seu', 'sua', 'ou', 'quando', 'muito', 'nos', 'já', 'eu', 'também', 'só', 'pelo', 'pela', 'até', 'isso', 'ela', 'entre', 'depois', 'sem', 'mesmo', 'aos', 'seus', 'quem', 'nas', 'me', 'esse', 'eles', 'você', 'essa', 'num', 'nem', 'suas', 'meu', 'às', 'minha', 'numa', 'pelos', 'elas', 'qual', 'nós', 'lhe', 'deles', 'essas', 'esses', 'pelas', 'este', 'dele', 'tu', 'te', 'vocês', 'vos', 'lhes', 'meus', 'minhas', 'teu', 'tua', 'teus', 'tuas', 'nosso', 'nossa', 'nossos', 'nossas', 'dela', 'delas', 'esta', 'estes', 'estas', 'aquele', 'aquela', 'aqueles', 'aquelas', 'isto', 'aquilo', 'estou', 'está', 'estamos', 'estão', 'estive', 'esteve', 'estivemos', 'estiveram', 'estava', 'estávamos', 'estavam', 'estivera', 'estivéramos', 'esteja', 'estejamos', 'estejam', 'estivesse', 'estivéssemos', 'estivessem', 'estiver', 'estivermos', 'estiverem', 'hei', 'há', 'havemos', 'hão', 'houve', 'houvemos', 'houveram', 'houvera', 'houvéramos', 'haja', 'hajamos', 'hajam', 'houvesse', 'houvéssemos', 'houvessem', 'houver', 'houvermos', 'houverem', 'houverei', 'houverá', 'houveremos', 'houverão', 'houveria', 'houveríamos', 'houveriam', 'sou', 'somos', 'são', 'era', 'éramos', 'eram', 'fui', 'foi', 'fomos', 'foram', 'fora', 'fôramos', 'seja', 'sejamos', 'sejam', 'fosse', 'fôssemos', 'fossem', 'for', 'formos', 'forem', 'serei', 'será', 'seremos', 'serão', 'seria', 'seríamos', 'seriam', 'tenho', 'tem', 'temos', 'tém', 'tinha', 'tínhamos', 'tinham', 'tive', 'teve', 'tivemos', 'tiveram', 'tivera', 'tivéramos', 'tenha', 'tenhamos', 'tenham', 'tivesse', 'tivéssemos', 'tivessem', 'tiver', 'tivermos', 'tiverem', 'terei', 'terá', 'teremos', 'terão', 'teria', 'teríamos', 'teriam']\n",
            "de\n",
            "a\n",
            "o\n",
            "que\n",
            "e\n",
            "é\n",
            "do\n",
            "da\n",
            "em\n",
            "um\n",
            "para\n",
            "com\n",
            "não\n",
            "uma\n",
            "os\n",
            "no\n",
            "se\n",
            "na\n",
            "por\n",
            "mais\n",
            "as\n",
            "dos\n",
            "como\n",
            "mas\n",
            "ao\n",
            "ele\n",
            "das\n",
            "à\n",
            "seu\n",
            "sua\n",
            "ou\n",
            "quando\n",
            "muito\n",
            "nos\n",
            "já\n",
            "eu\n",
            "também\n",
            "só\n",
            "pelo\n",
            "pela\n",
            "até\n",
            "isso\n",
            "ela\n",
            "entre\n",
            "depois\n",
            "sem\n",
            "mesmo\n",
            "aos\n",
            "seus\n",
            "quem\n",
            "nas\n",
            "me\n",
            "esse\n",
            "eles\n",
            "você\n",
            "essa\n",
            "num\n",
            "nem\n",
            "suas\n",
            "meu\n",
            "às\n",
            "minha\n",
            "numa\n",
            "pelos\n",
            "elas\n",
            "qual\n",
            "nós\n",
            "lhe\n",
            "deles\n",
            "essas\n",
            "esses\n",
            "pelas\n",
            "este\n",
            "dele\n",
            "tu\n",
            "te\n",
            "vocês\n",
            "vos\n",
            "lhes\n",
            "meus\n",
            "minhas\n",
            "teu\n",
            "tua\n",
            "teus\n",
            "tuas\n",
            "nosso\n",
            "nossa\n",
            "nossos\n",
            "nossas\n",
            "dela\n",
            "delas\n",
            "esta\n",
            "estes\n",
            "estas\n",
            "aquele\n",
            "aquela\n",
            "aqueles\n",
            "aquelas\n",
            "isto\n",
            "aquilo\n",
            "estou\n",
            "está\n",
            "estamos\n",
            "estão\n",
            "estive\n",
            "esteve\n",
            "estivemos\n",
            "estiveram\n",
            "estava\n",
            "estávamos\n",
            "estavam\n",
            "estivera\n",
            "estivéramos\n",
            "esteja\n",
            "estejamos\n",
            "estejam\n",
            "estivesse\n",
            "estivéssemos\n",
            "estivessem\n",
            "estiver\n",
            "estivermos\n",
            "estiverem\n",
            "hei\n",
            "há\n",
            "havemos\n",
            "hão\n",
            "houve\n",
            "houvemos\n",
            "houveram\n",
            "houvera\n",
            "houvéramos\n",
            "haja\n",
            "hajamos\n",
            "hajam\n",
            "houvesse\n",
            "houvéssemos\n",
            "houvessem\n",
            "houver\n",
            "houvermos\n",
            "houverem\n",
            "houverei\n",
            "houverá\n",
            "houveremos\n",
            "houverão\n",
            "houveria\n",
            "houveríamos\n",
            "houveriam\n",
            "sou\n",
            "somos\n",
            "são\n",
            "era\n",
            "éramos\n",
            "eram\n",
            "fui\n",
            "foi\n",
            "fomos\n",
            "foram\n",
            "fora\n",
            "fôramos\n",
            "seja\n",
            "sejamos\n",
            "sejam\n",
            "fosse\n",
            "fôssemos\n",
            "fossem\n",
            "for\n",
            "formos\n",
            "forem\n",
            "serei\n",
            "será\n",
            "seremos\n",
            "serão\n",
            "seria\n",
            "seríamos\n",
            "seriam\n",
            "tenho\n",
            "tem\n",
            "temos\n",
            "tém\n",
            "tinha\n",
            "tínhamos\n",
            "tinham\n",
            "tive\n",
            "teve\n",
            "tivemos\n",
            "tiveram\n",
            "tivera\n",
            "tivéramos\n",
            "tenha\n",
            "tenhamos\n",
            "tenham\n",
            "tivesse\n",
            "tivéssemos\n",
            "tivessem\n",
            "tiver\n",
            "tivermos\n",
            "tiverem\n",
            "terei\n",
            "terá\n",
            "teremos\n",
            "terão\n",
            "teria\n",
            "teríamos\n",
            "teriam\n",
            "[nltk_data]   Package stopwords is already up-to-date!\n"
          ]
        }
      ]
    },
    {
      "cell_type": "code",
      "metadata": {
        "colab": {
          "base_uri": "https://localhost:8080/"
        },
        "id": "g6gfbFLqb-rI",
        "outputId": "5e5108d8-a448-4e4e-9525-7fcfe0c98679",
        "tags": [
          "outputPrepend"
        ]
      },
      "source": [
        "stopwords_list  = stopwords.words(language)\n",
        "vectors5        = CountVectorizer(stop_words=stopwords_list)\n",
        "count_vectors5  = vectors5.fit_transform(corpus)\n",
        "print(vectors5.vocabulary_)\n",
        "print(count_vectors5.shape)"
      ],
      "execution_count": 101,
      "outputs": [
        {
          "output_type": "stream",
          "name": "stdout",
          "text": [
            ", 'áf': 23221, 'expressaram': 9196, 'unificada': 22198, 'pisos': 16848, 'sugiro': 20853, 'airfryer': 693, 'fes': 9624, 'beni': 2654, 'negó': 15180, 'interlocução': 12158, 'constituições': 5064, 'assegurouse': 1812, 'liber': 13220, 'pedagógica': 16405, 'desperta': 6725, 'contestam': 5148, 'instrução': 12056, 'normativa': 15345, 'empreendedores': 7885, 'segundafeir': 20091, 'segundafei': 20090, 'alterando': 904, 'amedrontada': 1035, 'metrópole': 14318, 'cosmopolita': 5490, 'bastante': 2523, 'locomovemos': 13423, 'escanc': 8352, 'chloé': 4059, 'zhao': 23188, 'nôma': 15461, 'contrast': 5214, 'conscientizar': 4978, 'implicação': 11460, 'alagoano': 722, 'escancaro': 8358, 'carnavalesco': 3623, 'celeiro': 3841, 'pagodinho': 16003, 'guineto': 10855, 'scène': 20023, 'rue': 19716, 'montmartre': 14659, 'sécul': 21055, 'coreano': 5385, 'privadas': 17573, 'obtêm': 15542, 'pautadas': 16359, 'mukbang': 14845, 'fascínio': 9450, 'escravizados': 8418, 'fazêlo': 9505, 'endurec': 8012, 'contracepção': 5187, 'aaron': 0, 'karp': 12802, 'curadores': 5786, 'ticoulat': 21456, 'restituição': 19293, 'anulam': 1296, 'expressiva': 9198, 'intensificação': 12108, 'associadas': 1867, 'sigi': 20349, 'bharat': 2706, 'biotech': 2782, 'tecn': 21206, 'nexopolíticas': 15251, 'xu': 23129, 'renomados': 19011, 'share': 20317, 'like': 13288, 'traba': 21669, 'influem': 11849, 'aprendiz': 1493, 'migrand': 14372, 'mdma': 14092, 'psilocibina': 17988, 'produzem': 17643, 'reformistas': 18769, 'persistentes': 16640, 'convenção': 5289, 'genebra': 10438, 'vacinações': 22334, 'silenciaram': 20375, 'embarcaram': 7799, 'bebel': 2589, 'desenham': 6547, 'cronogramas': 5680, 'atividad': 2015, 'respire': 19231, 'valiosas': 22376, 'partidár': 16235, 'gorduras': 10640, 'cinto': 4159, 'recup': 18635, 'openai': 15745, 'visuais': 22816, 'descritivas': 6497, 'turbulência': 22055, 'biológicas': 2773, 'responsab': 19246, 'tornálo': 21623, 'oxforda': 15938, 'sonoridades': 20634, 'toxinas': 21663, 'taxi': 21180, 'driver': 7440, 'dissipado': 7193, 'afrodescendência': 550, 'reger': 18800, 'orquestra': 15863, 'ficamos': 9661, 'felizes': 9571, 'juntese': 12727, 'debruçado': 5993, 'espontâneo': 8583, 'desencadear': 6543, 'preparados': 17368, 'contraposição': 5203, 'tirinhas': 21509, 'tintim': 21489, 'maus': 14066, 'diver': 7241, 'disputarão': 7179, 'soros': 20647, 'estabel': 8629, 'barulhinhos': 2506, 'encaixam': 7934, 'designam': 6619, 'lisonjeiros': 13356, 'falcatr': 9341, 'leniência': 13134, 'selma': 20135, 'lagerlöf': 12917, 'literatur': 13362, 'regresso': 18836, 'exilados': 9042, 'blindou': 2818, 'doméstico': 7380, 'farrow': 9437, 'negadas': 15144, 'daft': 5896, 'conseguiremos': 4994, 'gladson': 10556, 'cameli': 3399, 'grafado': 10699, 'incorreta': 11686, 'subtítulo': 20813, 'elder': 7683, 'corrigimos': 5458, 'incluímos': 11650, 'vivenciaram': 22853, 'institutos': 12050, 'wright': 23097, 'galáxia': 10329, 'espiral': 8574, 'confirmaç': 4885, 'camelli': 3400, 'calamidade': 3349, 'mantenedor': 13823, 'propositor': 17794, 'possib': 17147, 'duo': 7470, 'dance': 5922, 'parisiense': 16184, 'daftpunk': 5897, 'carazza': 3579, 'irlandeses': 12379, 'transformações': 21774, 'visualizações': 22820, 'ultimato': 22153, 'paredes': 16169, 'tábua': 22091, 'vocábulo': 22885, 'noutras': 15398, 'cole': 4373, 'schrarstzhaupt': 20008, 'inovações': 11959, 'paguem': 16008, 'busquem': 3232, 'cafeteira': 3311, 'moka': 14593, 'bialetti': 2710, 'encorpados': 7997, 'regis': 18809, 'encantamento': 7949, 'reajustes': 18453, 'joaquim': 12595, 'silên': 20387, 'perturbada': 16669, 'assessorias': 1828, 'navegam': 15091, 'jurídicos': 12749, 'desconsidera': 6479, 'adotaram': 440, 'gravadora': 10732, 'fania': 9393, 'dominicano': 7374, 'pensada': 16478, 'reeleição': 18712, 'cartuns': 3669, 'inox': 11960, 'cerâmica': 3917, 'cerdas': 3898, 'manejálas': 13782, 'discursiva': 7109, 'pausado': 16355, 'inscritos': 11980, 'diadoesportista': 6923, 'enalteceu': 7929, 'separatista': 20220, 'couri': 5518, 'fiscalmente': 9798, 'tribute': 21917, 'rendas': 18998, 'efe': 7637, 'especia': 8518, 'emissão': 7840, 'mamíferos': 13746, 'chri': 4074, 'movimentou': 14795, 'govername': 10672, 'ambientes': 1011, 'guiana': 10847, 'esmiúça': 8486, 'performances': 16567, 'minimament': 14452, 'glaciais': 10554, 'gelado': 10432, 'brasileirismo': 3063, 'quartos': 18193, 'coreto': 5390, 'percebem': 16517, 'demonizar': 6224, 'periga': 16588, 'jog': 12607, 'longevo': 13450, 'izael': 12489, 'caldeira': 3357, 'percussionista': 16529, 'menem': 14201, 'capitaneado': 3540, 'comediantes': 4490, 'fósseis': 10285, 'retraçar': 19376, 'deusa': 6862, 'mascotes': 13995, 'koudounaris': 12871, 'envolver': 8235, 'taschen': 21166, 'produzidas': 17647, 'chandoha': 3969, 'gray': 10749, 'especula': 8538, 'felino': 9565, 'separou': 20222, 'fraternidade': 10090, 'acompanhou': 273, 'estágios': 8801, 'requerida': 19139, 'pslrj': 17994, 'mainstream': 13693, 'retas': 19331, 'revolucionária': 19472, 'ext': 9224, 'admiradores': 407, 'peruanos': 16674, 'burocratas': 3208, 'tortoarado': 21635, 'rodaviva': 19589, 'refletimos': 18754, 'metafóricas': 14300, 'definem': 6109, 'nigeriana': 15276, 'ngozi': 15263, 'okonjoiweala': 15662, 'dirigir': 7082, 'enfraqueceu': 8050, 'reduzi': 18694, 'biologia': 2770, 'financiadas': 9756, 'pensadas': 16479, 'looke': 13454, 'gê': 10868, 'chrissie': 4076, 'adotado': 436, 'compositoras': 4667, 'cinematogr': 4156, 'fiscaliza': 9794, 'armamentos': 1649, 'contestar': 5149, 'econom': 7559, 'minicontos': 14451, 'poesias': 16983, 'nostálgica': 15364, 'endereça': 8004, 'resolvidos': 19203, 'imaginários': 11379, 'amér': 1090, 'glauco': 10561, 'parlamentare': 16192, 'amyr': 1087, 'klink': 12854, 'concepção': 4769, 'apaixonados': 1347, 'vinícolas': 22740, 'urban': 22233, 'sanidade': 19907, 'devolveria': 6895, 'transformados': 21767, 'aliviando': 868, 'aterros': 1976, 'tumultuado': 22041, 'ineficiente': 11793, 'ativida': 2014, 'miles': 14389, 'davis': 5968, 'expoentes': 9161, 'jazz': 12551, 'fusion': 10246, 'entrave': 8171, 'questõe': 18257, 'questionamen': 18248, 'atualizamos': 2096, 'monitorou': 14631, 'negr': 15172, 'nexopolí': 15250, 'tucanas': 22026, 'tent': 21308, 'altocomando': 917, 'fecharem': 9530, 'lógicas': 13606, 'carrie': 3649, 'mae': 13664, 'weems': 23046, 'rodríguez': 19604, 'triana': 21903, 'mestres': 14293, 'discí': 7124, 'profis': 17669, 'variados': 22416, 'gêneros': 10873, 'seminua': 20161, 'avritzer': 2301, 'conjuntura': 4957, 'fizera': 9823, 'marcelle': 13904, 'soaressantos': 20492, 'cérebros': 5866, 'bado': 2355, 'percebeu': 16521, 'convenções': 5290, 'poderosas': 16969, 'anomia': 1192, 'jornalism': 12646, 'destesta': 6773, 'contribuirmos': 5237, 'conjuntamente': 4954, 'rashid': 18397, 'cin': 4146, 'derivados': 6326, 'mentores': 14243, 'discípulos': 7125, 'carr': 3637, 'isa': 12422, 'penna': 16476, 'prolífica': 17733, 'sucederam': 20819, 'arroubo': 1723, 'autoritári': 2203, 'argumentam': 1629, 'propiciaram': 17784, 'calendários': 3360, 'narrati': 15038, 'schwartz': 20013, 'retratist': 19373, 'fundamentos': 10206, 'oportunid': 15771, 'pabllo': 15951, 'vittar': 22838, 'sophie': 20641, 'compositores': 4668, 'djs': 7301, 'bic': 2716, 'marcela': 13902, 'instigam': 12038, 'encurtar': 8003, 'corr': 5421, 'godinho': 10593, 'biofuturo': 2765, 'comidafuncional': 4556, 'priorizam': 17560, 'simon': 20399, 'detal': 6815, 'morresse': 14702, 'pudesse': 18036, 'detalhada': 6817, 'jovenel': 12663, 'moïse': 14800, 'contesta': 5145, 'discutidos': 7119, 'sinalização': 20426, 'iphones': 12358, 'satisfeit': 19962, 'desvendar': 6804, 'retumbante': 19385, 'contrassenso': 5213, 'supe': 20880, 'percussão': 16530, 'fariam': 9417, 'feitiço': 9559, 'excluem': 8960, 'arauz': 1598, 'desponta': 6734, 'respaldado': 19207, 'coletivos': 4389, 'dali': 5907, 'emergido': 7829, 'trópicos': 22014, 'montanhas': 14652, 'desinformaçã': 6630, 'superbowl': 20892, 'quarterback': 18190, 'touchdown': 21660, 'tackle': 21105, 'traje': 21724, 'econôm': 7571, 'sputnikv': 20704, 'embalam': 7796, 'patinam': 16315, 'mercadoria': 14253, 'preocupante': 17356, 'enraizadas': 8109, 'iní': 12341, 'moldar': 14596, 'detesta': 6848, 'distancia': 7199, 'cançõ': 3514, 'transto': 21812, 'vitorio': 22830, 'melão': 14182, 'limão': 13319, 'maçã': 14076, 'manga': 13783, 'reféns': 18793, 'estab': 8628, 'contingenciar': 5160, 'neces': 15122, 'lírica': 13600, 'animações': 1175, 'lendas': 13127, 'presidências': 17430, 'apoiados': 1436, 'invalidar': 12263, 'parla': 16187, 'auxílios': 2240, 'refugiarse': 18791, 'deserta': 6573, 'minúsculo': 14484, 'herbert': 10988, 'revertida': 19432, 'reformula': 18770, 'incondicional': 11668, 'rúss': 19763, 'newton': 15239, 'inconveniente': 11680, 'horizontes': 11126, 'informativos': 11878, 'fiquemos': 9783, 'manteria': 13828, 'ensi': 8117, 'subh': 20765, 'exemplares': 8998, 'respectiva': 19208, 'zahar': 23162, 'cump': 5767, 'disruptivos': 7182, 'complexos': 4652, 'ating': 1986, 'podemo': 16958, 'bolsonaros': 2927, 'maias': 13688, 'sarneys': 19954, 'colonizaç': 4431, 'ningu': 15281, 'limit': 13298, 'explicando': 9131, 'imputada': 11540, 'autoinfligida': 2178, 'normais': 15338, 'populistas': 17075, 'administrável': 406, 'ilustrad': 11352, 'espaçada': 8510, 'deficit': 6105, 'larissa': 12982, 'boesing': 2867, 'agremiações': 632, 'profissionalizaram': 17674, 'alv': 938, 'contemporâneos': 5143, 'congressogife': 4931, 'implementado': 11452, 'matadora': 14013, 'raquete': 18385, 'matamosquitos': 14018, 'eletrificada': 7717, 'abrimos': 96, 'escapar': 8367, 'envenenamento': 8211, 'colônia': 4448, 'acenderam': 190, 'tortur': 21636, 'pragas': 17230, 'delegar': 6166, 'cpfs': 5542, 'veiculação': 22467, 'automóvel': 2189, 'etária': 8830, 'demandou': 6191, 'generalizante': 10444, 'heterogêneo': 11005, 'pergun': 16572, 'veraneio': 22545, 'obj': 15482, 'schenberg': 20005, 'cientistasdobrasil': 4129, 'astr': 1907, 'potável': 17187, 'gara': 10361, 'anul': 1291, 'repaginação': 19033, 'televisivos': 21247, 'ambientada': 1005, 'buscavam': 3229, 'difere': 6965, 'cie': 4122, 'atômico': 2115, 'antecessor': 1210, 'inovar': 11957, 'experimentação': 9112, 'mardi': 13921, 'gras': 10714, 'iamin': 11233, 'huawei': 11174, 'dentr': 6251, 'anulado': 1294, 'percepção': 16524, 'orqu': 15862, 'joaquín': 12596, 'carvajal': 3672, 'criativos': 5614, 'natércia': 15082, 'abarrotada': 22, 'efêmeros': 7654, 'cristais': 5647, 'rod': 19581, 'dacombe': 5891, 'london': 13441, 'motivações': 14751, 'alienado': 841, 'cenógrafo': 3887, 'arqueólogo': 1672, 'candidaturas': 3477, 'cearense': 3808, 'steven': 20730, 'levitsky': 13199, 'get': 10519, 'away': 2305, 'murder': 14886, 'acessolivres': 218, 'patamares': 16304, 'linhagens': 13338, 'nor': 15333, 'absorve': 114, 'discriminatórios': 7105, 'block': 2822, 'backstreet': 2349, 'nexopo': 15249, 'negados': 15147, 'diadavisibilidadetrans': 6922, 'boy': 3027, 'estigma': 8705, 'coordenada': 5353, 'ineficaze': 11791, 'merc': 14249, 'filmagens': 9716, 'drone': 7445, 'lapso': 12969, 'curtametragem': 5807, 'nafis': 15003, 'nuanc': 15424, 'visibilidade': 22801, 'vereadoras': 22561, 'actifan': 319, 'zerogravity': 23184, 'glossário': 10585, 'vazado': 22443, 'notificada': 15383, 'refrescar': 18783, 'animar': 1172, 'formatos': 9982, 'aprov': 1525, 'encomendadas': 7977, 'reddit': 18674, 'desafiaram': 6378, 'apostavam': 1472, 'buchi': 3182, 'emecheta': 7819, 'up': 22230, 'ilan': 11331, 'lapyda': 12970, 'financeirização': 9751, 'ec': 7544, 'maquiagem': 13867, 'darmos': 5956, 'terapias': 21335, 'anticientíficas': 1233, 'atrasando': 2056, 'reitora': 18878, 'architect': 1607, 'capitol': 3541, 'sí': 21070, 'imaginário': 11378, 'áustria': 23248, 'industriais': 11775, 'atençã': 1971, 'convers': 5292, 'aglutinar': 596, 'enfrentarem': 8063, 'motivam': 14749, 'ecólogo': 7583, 'fearnside': 9515, 'cinc': 4147, 'giuseppe': 10552, 'descasca': 6439, 'tomate': 21571, 'dívi': 7525, 'desigualdad': 6625, 'dezemb': 6901, 'fixaram': 9817, 'ideológico': 11283, 'aith': 696, 'hobsbawm': 11065, 'soviético': 20676, 'conectavam': 4844, 'aldeias': 758, 'uniam': 22187, 'culturas': 5764, 'anne': 1187, 'hidalgo': 11012, 'recusado': 18659, 'shijiazhuang': 20323, 'província': 17897, 'hebei': 10962, 'youtub': 23151, 'nautilus': 15083, 'descobertas': 6451, 'refeição': 18733, 'turi': 22059, 'mattoso': 14051, 'roteiristachefe': 19665, 'neblina': 15116, 'soam': 20489, 'extraordinárias': 9253, 'chappell': 3977, 'brunel': 3159, 'julie': 12710, 'parsons': 16205, 'plym': 16929, 'alexei': 804, 'navalny': 15087, 'investigativos': 12309, 'locomotiva': 13422, 'rsssf': 19701, 'disponibiliza': 7158, 'impasses': 11428, 'uffizi': 22138, 'pintor': 16813, 'ecos': 7577, 'livrou': 13392, 'contrapondo': 5200, 'infundadas': 11895, 'memb': 14183, 'populosos': 17077, 'internas': 12179, 'poison': 16988, 'garden': 10372, 'finlândia': 9770, 'agasalhada': 562, 'descolonização': 6464, 'ciências': 4208, 'cientistatrabalhando': 4130, 'cand': 3468, 'interseccional': 12206, 'popu': 17061, 'sucessivos': 20821, 'moment': 14610, 'déc': 7513, 'chalhoub': 3940, 'chalhoud': 3941, 'repartições': 19040, 'constituiçã': 5062, 'miligramas': 14405, 'paper': 16091, 'manutençã': 13852, 'biológica': 2772, 'megadiversos': 14145, 'etnografia': 8827, 'situaç': 20472, 'americas': 1046, 'quarterly': 18191, 'buttliere': 3239, 'recria': 18621, 'construções': 5083, 'compila': 4630, 'ediç': 7612, 'sucessores': 20824, 'magra': 13682, 'descendente': 6442, 'solteir': 20598, 'gouda': 10658, 'canastra': 3451, 'desafiado': 6371, 'responsabilizar': 19256, 'elei': 7694, 'nordes': 15335, 'frustrante': 10151, 'irritação': 12416, 'cercada': 3893, 'reincluído': 18863, 'cronog': 5678, 'fissura': 9809, 'fotojornalista': 10044, 'gui': 10844, 'christ': 4077, 'violam': 22744, 'insist': 12000, 'telas': 21223, 'aparecimento': 1363, 'massivo': 14007, 'miopia': 14486, 'externos': 9238, 'organizaram': 15831, 'levada': 13169, 'consideração': 5028, 'kelly': 12819, 'kom': 12863, 'panelaços': 16074, 'trancista': 21741, 'mayara': 14071, 'disponib': 7156, 'controversa': 5255, 'padeceu': 15973, 'luther': 13562, 'cursando': 5802, 'fundam': 10200, 'pediatras': 16418, 'retomarem': 19357, 'liberalizante': 13229, 'eleilson': 7695, 'desa': 6348, 'constantes': 5051, 'visam': 22797, 'mantida': 13831, 'restante': 19282, 'saborosas': 19784, 'telma': 21250, 'shiraishi': 20326, 'laurentiis': 13012, 'irlandesas': 12378, 'reencontrar': 18719, 'abrace': 68, 'abortar': 64, 'ágape': 23223, 'ces': 3918, 'tendências': 21293, 'apresentados': 1505, 'feiticeira': 9558, 'jeannie': 12560, 'fábr': 10264, 'adiamentos': 376, 'alimentaram': 849, 'assintomáticas': 1849, 'defasagem': 6076, 'manual': 13846, 'atrib': 2071, 'ensiname': 8120, 'estruturantes': 8771, 'estruturadoras': 8767, 'desigualda': 6624, 'apalpou': 1350, 'nexoedunoenem': 15244, 'atualidades': 2092, 'entusiasta': 8204, 'acessados': 209, 'afirmativa': 532, 'forçou': 10034, 'minh': 14446, 'caderneta': 3303, 'investidas': 12292, 'desestabilizam': 6585, 'tirálos': 21516, 'veícul': 22618, 'detoxificação': 6855, 'induzir': 11778, 'pucrio': 18031, 'juliano': 12709, 'rompa': 19631, 'esterilidade': 8699, 'abrese': 86, 'lingua': 13329, 'museum': 14896, 'aposentos': 1465, 'inventor': 12278, 'psi': 17967, 'senegal': 20176, 'durado': 7481, 'esperados': 8553, 'polonês': 17014, 'angustiante': 1161, 'linh': 13335, 'maguito': 13684, 'vilela': 22704, 'watch': 23035, 'phil': 16765, 'collins': 4404, 'bateria': 2550, 'influenciou': 11858, 'cogumelos': 4352, 'nexoedu': 15243, 'facilitador': 9305, 'punilo': 18058, 'capitóli': 3544, 'julgamentos': 12700, 'miscigenações': 14501, 'sepultamentos': 20225, 'gráficas': 10797, 'logos': 13428, 'mineira': 14438, 'nãoessencial': 15451, 'revitalizar': 19457, 'concluídas': 4783, 'difundam': 6982, 'verões': 22590, 'biontechpfizer': 2780, 'resultam': 19316, 'liderado': 13264, 'persistir': 16641, 'seattle': 20026, 'seahawks': 20025, 'captada': 3553, 'sismógrafo': 20460, 'washing': 23032, 'mountian': 14770, 'adian': 377, 'couberam': 5514, 'brics': 3103, 'pisar': 16842, 'acess': 207, 'detrimento': 6858, 'campello': 3424, 'conversation': 5302, 'psicólogo': 17985, 'gary': 10395, 'levantamentos': 13180, 'parida': 16181, 'paulatina': 16343, 'devolu': 6890, 'epilepsia': 8266, 'proibitivo': 17710, 'familiare': 9379, 'dispensada': 7148, 'atestará': 1981, 'incompletas': 11663, 'canosa': 3489, 'pasternak': 16298, 'valter': 22389, 'hugo': 11178, 'reunidas': 19393, 'infânci': 11896, 'bicentenária': 2717, 'pulsos': 18050, 'tornozelos': 21622, 'zíperes': 23217, 'apetrechos': 1401, 'visite': 22810, 'viacomcbs': 22630, 'catdog': 3731, 'kenan': 12821, 'kel': 12818, 'apaziguamento': 1380, 'maiori': 13698, 'invadiram': 12258, 'imprevisibilidade': 11515, 'virologistas': 22781, 'automobilística': 2182, 'marcarão': 13898, 'escultura': 8453, 'genitália': 10447, 'diadofotografo': 6924, 'fotógrafos': 10047, 'péssimas': 18101, 'lideranç': 13266, 'encabeçava': 7932, 'poderi': 16964, 'incitada': 11626, 'americ': 1041, 'teresina': 21345, 'liebermann': 13273, 'acessilivre': 215, 'credi': 5567, 'caregiver': 3593, 'reported': 19074, 'early': 7536, 'development': 6874, 'instruments': 12055, 'voluntá': 22916, 'notabilizou': 15368, 'letr': 13161, 'edifica': 7590, 'listamos': 13360, 'subrepresentação': 20791, 'acen': 186, 'recuam': 18630, 'pontochave': 17052, 'madureira': 13662, 'exemplifica': 8999, 'pequeníssima': 16509, 'dinamarquesa': 7024, 'fluxos': 9883, 'migratórios': 14375, 'longínquas': 13453, 'abastecimento': 25, 'amb': 999, 'cras': 5558, 'psiquiatria': 17990, 'conspiracionista': 5044, 'insolvente': 12005, 'práticos': 17909, 'geraciona': 10476, 'estudada': 8776, 'progr': 17688, 'noções': 15419, 'propensos': 17783, 'exagero': 8902, 'reinventado': 18870, 'vínculos': 22994, 'vestibulares': 22594, 'aplicados': 1415, 'sustentado': 21014, 'alcançaremos': 747, 'ofen': 15608, 'dendê': 6242, 'somam': 20610, 'angústia': 1163, 'doutorando': 7412, 'superaram': 20887, 'edições': 7614, 'juan': 12674, 'inex': 11802, 'exseminaristas': 9221, 'lys': 13573, 'eviscera': 8873, 'visões': 22823, 'compilada': 4631, 'platafor': 16900, 'wikileaks': 23066, 'jornalist': 12648, 'informaremos': 11877, 'envelhecimento': 8210, 'sóladies': 21087, 'reinterpreta': 18869, 'espetáculos': 8571, 'imunizou': 11564, 'eclipses': 7547, 'superluas': 20918, 'meteoros': 14307, 'movimentarão': 14790, 'metodologias': 14310, 'contracultura': 5188, 'glezer': 10566, 'catimba': 3738, 'formalizar': 9972, 'maestro': 13665, 'anéis': 1328, 'jurassic': 12739, 'mergul': 14269, 'automobilismo': 2181, 'maislidasdonexo': 13700, 'processada': 17601, 'coletivamente': 4386, 'particula': 16226, 'longametragem': 13446, 'monopoly': 14634, 'temáticos': 21283, 'arquivadas': 1683, 'proporcionou': 17791, 'reexaminar': 18731, 'incertos': 11612, 'nacio': 14988, 'harmonizações': 10931, 'gisberta': 10551, 'salce': 19830, 'comandaram': 4459, 'eleitas': 7697, 'inpe': 11961, 'freeriding': 10107, 'malabarismos': 13712, 'chihiro': 4043, 'apoios': 1447, 'legislativos': 13068, 'exacerbou': 8896, 'cancelados': 3458, 'adaptados': 351, 'valorizado': 22384, 'malinda': 13731, 'herman': 10994, 'denver': 6266, 'emergencia': 7825, 'sarajevo': 19945, 'war': 23026, 'mine': 14437, 'visã': 22821, 'domesticálas': 7358, 'seleci': 20121, 'estabeleçam': 8637, 'sançõe': 19930, 'latinoamericano': 13003, 'terç': 21381, 'estilista': 8707, 'futuristas': 10253, 'altacostura': 898, 'futurama': 10252, 'place': 16873, 'indí': 11781, 'pâmela': 18092, 'carpes': 3635, 'unipampa': 22204, 'escancarad': 8354, 'luke': 13532, 'noss': 15361, 'anexo': 1149, 'exper': 9100, 'enviamos': 8220, 'koichi': 12862, 'impressões': 11514, 'basic': 2519, 'parêntese': 16252, 'compasso': 4613, 'restrospectiva': 19311, 'disponibilizada': 7159, 'resoluções': 19194, 'emagrecer': 7783, 'raves': 18412, 'revogo': 19464, 'empregam': 7895, 'métodos': 14954, 'trilhas': 21928, 'vagalumes': 22344, 'compartilhadas': 4603, 'encadernada': 7933, 'soltas': 20596, 'santoro': 19926, 'jordy': 12636, 'pasa': 16254, 'hibridismo': 11010, 'gratificante': 10718, 'subestimar': 20764, 'sedia': 20055, 'dinossauro': 7032, 'invertida': 12286}\n(16240, 23321)\n"
          ]
        }
      ]
    },
    {
      "cell_type": "markdown",
      "metadata": {
        "id": "qNPWrPDyQp6D"
      },
      "source": [
        "# **4. Preparação dos dados**"
      ]
    },
    {
      "cell_type": "markdown",
      "metadata": {
        "id": "OH0YxAQDRAhj"
      },
      "source": [
        "## **4.1 Classificação dos textos**"
      ]
    },
    {
      "cell_type": "code",
      "metadata": {
        "id": "4G1C7rPQ8N-w"
      },
      "source": [
        "#### Classificando os tweets em 3 categorias determinadas pelo número de likes\n",
        "\n",
        "tsh1 = 32.00000 + 150.546769\n",
        "tsh2 = 32.00000"
      ],
      "execution_count": 102,
      "outputs": []
    },
    {
      "cell_type": "code",
      "metadata": {
        "id": "jqSLZyHk8_ey"
      },
      "source": [
        "df_copy['likes_faixa'] = df_copy['likes'].apply(lambda x: 1 if (x > tsh1)\n",
        "                                                    else (0 if (x > tsh2)\n",
        "                                                    else -1))"
      ],
      "execution_count": 103,
      "outputs": []
    },
    {
      "cell_type": "code",
      "metadata": {
        "colab": {
          "base_uri": "https://localhost:8080/",
          "height": 417
        },
        "id": "r9GpCV5t9f99",
        "outputId": "65f3ff4f-0514-4001-e9c4-becbfee4ad57"
      },
      "source": [
        "df_copy"
      ],
      "execution_count": 104,
      "outputs": [
        {
          "output_type": "execute_result",
          "data": {
            "text/plain": [
              "                        id           created_at  \\\n",
              "0      1396860868957130755  2021-05-24 16:09:18   \n",
              "1      1396860373601427460  2021-05-24 16:07:20   \n",
              "2      1396860123868446720  2021-05-24 16:06:20   \n",
              "3      1396860068935749632  2021-05-24 16:06:07   \n",
              "4      1396858874125295617  2021-05-24 16:01:22   \n",
              "...                    ...                  ...   \n",
              "16235  1343270711117414400  2020-12-27 19:01:08   \n",
              "16236  1343255583504412672  2020-12-27 18:01:02   \n",
              "16237  1343240634199638017  2020-12-27 17:01:38   \n",
              "16238  1343225525003808768  2020-12-27 16:01:35   \n",
              "16239  1343210172970360838  2020-12-27 15:00:35   \n",
              "\n",
              "                                                    text  likes in reply to  \\\n",
              "0      Tremores de terra sacudiram Goma na República ...      7         NaN   \n",
              "1      O novo presidente do Equador Guillermo Lasso f...     13         NaN   \n",
              "2      Novos dados sobre pesquisadores de Wuhan aumen...     39         NaN   \n",
              "3      RT  A Ericsson disse que pode obter uma fatia ...      0         NaN   \n",
              "4      Aeroportos devem ser foco para conter a varian...     42         NaN   \n",
              "...                                                  ...    ...         ...   \n",
              "16235  Este conteúdo faz parte da NexoEDUnoEnem  noss...     26         NaN   \n",
              "16236  AcessoLivre   Ao longo do mês de dezembro o Ne...     19         NaN   \n",
              "16237  Este conteúdo faz parte da NexoEDUnoEnem  noss...     23         NaN   \n",
              "16238  opinião O termo empreendedorismo nada mais é d...     62         NaN   \n",
              "16239  Seleção MaisLidasDoNexo entre os assinantes em...     56         NaN   \n",
              "\n",
              "      retweeted  likes_faixa  \n",
              "0         False           -1  \n",
              "1         False           -1  \n",
              "2         False            0  \n",
              "3         False           -1  \n",
              "4         False            0  \n",
              "...         ...          ...  \n",
              "16235     False           -1  \n",
              "16236     False           -1  \n",
              "16237     False           -1  \n",
              "16238     False            0  \n",
              "16239     False            0  \n",
              "\n",
              "[16240 rows x 7 columns]"
            ],
            "text/html": "<div>\n<style scoped>\n    .dataframe tbody tr th:only-of-type {\n        vertical-align: middle;\n    }\n\n    .dataframe tbody tr th {\n        vertical-align: top;\n    }\n\n    .dataframe thead th {\n        text-align: right;\n    }\n</style>\n<table border=\"1\" class=\"dataframe\">\n  <thead>\n    <tr style=\"text-align: right;\">\n      <th></th>\n      <th>id</th>\n      <th>created_at</th>\n      <th>text</th>\n      <th>likes</th>\n      <th>in reply to</th>\n      <th>retweeted</th>\n      <th>likes_faixa</th>\n    </tr>\n  </thead>\n  <tbody>\n    <tr>\n      <th>0</th>\n      <td>1396860868957130755</td>\n      <td>2021-05-24 16:09:18</td>\n      <td>Tremores de terra sacudiram Goma na República ...</td>\n      <td>7</td>\n      <td>NaN</td>\n      <td>False</td>\n      <td>-1</td>\n    </tr>\n    <tr>\n      <th>1</th>\n      <td>1396860373601427460</td>\n      <td>2021-05-24 16:07:20</td>\n      <td>O novo presidente do Equador Guillermo Lasso f...</td>\n      <td>13</td>\n      <td>NaN</td>\n      <td>False</td>\n      <td>-1</td>\n    </tr>\n    <tr>\n      <th>2</th>\n      <td>1396860123868446720</td>\n      <td>2021-05-24 16:06:20</td>\n      <td>Novos dados sobre pesquisadores de Wuhan aumen...</td>\n      <td>39</td>\n      <td>NaN</td>\n      <td>False</td>\n      <td>0</td>\n    </tr>\n    <tr>\n      <th>3</th>\n      <td>1396860068935749632</td>\n      <td>2021-05-24 16:06:07</td>\n      <td>RT  A Ericsson disse que pode obter uma fatia ...</td>\n      <td>0</td>\n      <td>NaN</td>\n      <td>False</td>\n      <td>-1</td>\n    </tr>\n    <tr>\n      <th>4</th>\n      <td>1396858874125295617</td>\n      <td>2021-05-24 16:01:22</td>\n      <td>Aeroportos devem ser foco para conter a varian...</td>\n      <td>42</td>\n      <td>NaN</td>\n      <td>False</td>\n      <td>0</td>\n    </tr>\n    <tr>\n      <th>...</th>\n      <td>...</td>\n      <td>...</td>\n      <td>...</td>\n      <td>...</td>\n      <td>...</td>\n      <td>...</td>\n      <td>...</td>\n    </tr>\n    <tr>\n      <th>16235</th>\n      <td>1343270711117414400</td>\n      <td>2020-12-27 19:01:08</td>\n      <td>Este conteúdo faz parte da NexoEDUnoEnem  noss...</td>\n      <td>26</td>\n      <td>NaN</td>\n      <td>False</td>\n      <td>-1</td>\n    </tr>\n    <tr>\n      <th>16236</th>\n      <td>1343255583504412672</td>\n      <td>2020-12-27 18:01:02</td>\n      <td>AcessoLivre   Ao longo do mês de dezembro o Ne...</td>\n      <td>19</td>\n      <td>NaN</td>\n      <td>False</td>\n      <td>-1</td>\n    </tr>\n    <tr>\n      <th>16237</th>\n      <td>1343240634199638017</td>\n      <td>2020-12-27 17:01:38</td>\n      <td>Este conteúdo faz parte da NexoEDUnoEnem  noss...</td>\n      <td>23</td>\n      <td>NaN</td>\n      <td>False</td>\n      <td>-1</td>\n    </tr>\n    <tr>\n      <th>16238</th>\n      <td>1343225525003808768</td>\n      <td>2020-12-27 16:01:35</td>\n      <td>opinião O termo empreendedorismo nada mais é d...</td>\n      <td>62</td>\n      <td>NaN</td>\n      <td>False</td>\n      <td>0</td>\n    </tr>\n    <tr>\n      <th>16239</th>\n      <td>1343210172970360838</td>\n      <td>2020-12-27 15:00:35</td>\n      <td>Seleção MaisLidasDoNexo entre os assinantes em...</td>\n      <td>56</td>\n      <td>NaN</td>\n      <td>False</td>\n      <td>0</td>\n    </tr>\n  </tbody>\n</table>\n<p>16240 rows × 7 columns</p>\n</div>"
          },
          "metadata": {},
          "execution_count": 104
        }
      ]
    },
    {
      "cell_type": "code",
      "metadata": {
        "id": "v-50k-hEIstA"
      },
      "source": [
        "### Usando OneHotEnconder para melhorar a classificação dos modelos de Machine Learning\n",
        "from sklearn.preprocessing import OneHotEncoder\n",
        "\n",
        "df_ohc = df_copy[['retweeted']]\n",
        "\n",
        "#Criando meu encoder\n",
        "enc = OneHotEncoder(handle_unknown='ignore', sparse=False)\n",
        "enc.fit(df_ohc)\n",
        "\n",
        "# Transformando texto em numero\n",
        "XX_text = enc.transform(df_ohc)\n",
        "\n",
        "# Criando DataFrame texto -> numerico\n",
        "df_ohc = pd.DataFrame(XX_text, columns=enc.get_feature_names(df_ohc.columns))"
      ],
      "execution_count": 105,
      "outputs": []
    },
    {
      "cell_type": "code",
      "metadata": {
        "colab": {
          "base_uri": "https://localhost:8080/",
          "height": 417
        },
        "id": "Aa2dxQ5UKqyn",
        "outputId": "54bfdce4-603b-4bac-e51e-a24a87d562be"
      },
      "source": [
        "df_ohc      #Não é necessário utilizar uma vez que só há uma categoria"
      ],
      "execution_count": 106,
      "outputs": [
        {
          "output_type": "execute_result",
          "data": {
            "text/plain": [
              "       retweeted_False\n",
              "0                  1.0\n",
              "1                  1.0\n",
              "2                  1.0\n",
              "3                  1.0\n",
              "4                  1.0\n",
              "...                ...\n",
              "16235              1.0\n",
              "16236              1.0\n",
              "16237              1.0\n",
              "16238              1.0\n",
              "16239              1.0\n",
              "\n",
              "[16240 rows x 1 columns]"
            ],
            "text/html": "<div>\n<style scoped>\n    .dataframe tbody tr th:only-of-type {\n        vertical-align: middle;\n    }\n\n    .dataframe tbody tr th {\n        vertical-align: top;\n    }\n\n    .dataframe thead th {\n        text-align: right;\n    }\n</style>\n<table border=\"1\" class=\"dataframe\">\n  <thead>\n    <tr style=\"text-align: right;\">\n      <th></th>\n      <th>retweeted_False</th>\n    </tr>\n  </thead>\n  <tbody>\n    <tr>\n      <th>0</th>\n      <td>1.0</td>\n    </tr>\n    <tr>\n      <th>1</th>\n      <td>1.0</td>\n    </tr>\n    <tr>\n      <th>2</th>\n      <td>1.0</td>\n    </tr>\n    <tr>\n      <th>3</th>\n      <td>1.0</td>\n    </tr>\n    <tr>\n      <th>4</th>\n      <td>1.0</td>\n    </tr>\n    <tr>\n      <th>...</th>\n      <td>...</td>\n    </tr>\n    <tr>\n      <th>16235</th>\n      <td>1.0</td>\n    </tr>\n    <tr>\n      <th>16236</th>\n      <td>1.0</td>\n    </tr>\n    <tr>\n      <th>16237</th>\n      <td>1.0</td>\n    </tr>\n    <tr>\n      <th>16238</th>\n      <td>1.0</td>\n    </tr>\n    <tr>\n      <th>16239</th>\n      <td>1.0</td>\n    </tr>\n  </tbody>\n</table>\n<p>16240 rows × 1 columns</p>\n</div>"
          },
          "metadata": {},
          "execution_count": 106
        }
      ]
    },
    {
      "cell_type": "code",
      "metadata": {
        "id": "N8AEG0unK_Z-"
      },
      "source": [
        "df_final = df_copy[['text', 'likes_faixa', 'likes']]"
      ],
      "execution_count": 119,
      "outputs": []
    },
    {
      "cell_type": "code",
      "metadata": {
        "colab": {
          "base_uri": "https://localhost:8080/",
          "height": 417
        },
        "id": "_YiGjHPfXNVW",
        "outputId": "9342dff0-4081-4dde-d664-46312cfb33ec"
      },
      "source": [
        "df_final"
      ],
      "execution_count": 120,
      "outputs": [
        {
          "output_type": "execute_result",
          "data": {
            "text/plain": [
              "                                                    text  likes_faixa  likes\n",
              "0      Tremores de terra sacudiram Goma na República ...           -1      7\n",
              "1      O novo presidente do Equador Guillermo Lasso f...           -1     13\n",
              "2      Novos dados sobre pesquisadores de Wuhan aumen...            0     39\n",
              "3      RT  A Ericsson disse que pode obter uma fatia ...           -1      0\n",
              "4      Aeroportos devem ser foco para conter a varian...            0     42\n",
              "...                                                  ...          ...    ...\n",
              "16235  Este conteúdo faz parte da NexoEDUnoEnem  noss...           -1     26\n",
              "16236  AcessoLivre   Ao longo do mês de dezembro o Ne...           -1     19\n",
              "16237  Este conteúdo faz parte da NexoEDUnoEnem  noss...           -1     23\n",
              "16238  opinião O termo empreendedorismo nada mais é d...            0     62\n",
              "16239  Seleção MaisLidasDoNexo entre os assinantes em...            0     56\n",
              "\n",
              "[16240 rows x 3 columns]"
            ],
            "text/html": "<div>\n<style scoped>\n    .dataframe tbody tr th:only-of-type {\n        vertical-align: middle;\n    }\n\n    .dataframe tbody tr th {\n        vertical-align: top;\n    }\n\n    .dataframe thead th {\n        text-align: right;\n    }\n</style>\n<table border=\"1\" class=\"dataframe\">\n  <thead>\n    <tr style=\"text-align: right;\">\n      <th></th>\n      <th>text</th>\n      <th>likes_faixa</th>\n      <th>likes</th>\n    </tr>\n  </thead>\n  <tbody>\n    <tr>\n      <th>0</th>\n      <td>Tremores de terra sacudiram Goma na República ...</td>\n      <td>-1</td>\n      <td>7</td>\n    </tr>\n    <tr>\n      <th>1</th>\n      <td>O novo presidente do Equador Guillermo Lasso f...</td>\n      <td>-1</td>\n      <td>13</td>\n    </tr>\n    <tr>\n      <th>2</th>\n      <td>Novos dados sobre pesquisadores de Wuhan aumen...</td>\n      <td>0</td>\n      <td>39</td>\n    </tr>\n    <tr>\n      <th>3</th>\n      <td>RT  A Ericsson disse que pode obter uma fatia ...</td>\n      <td>-1</td>\n      <td>0</td>\n    </tr>\n    <tr>\n      <th>4</th>\n      <td>Aeroportos devem ser foco para conter a varian...</td>\n      <td>0</td>\n      <td>42</td>\n    </tr>\n    <tr>\n      <th>...</th>\n      <td>...</td>\n      <td>...</td>\n      <td>...</td>\n    </tr>\n    <tr>\n      <th>16235</th>\n      <td>Este conteúdo faz parte da NexoEDUnoEnem  noss...</td>\n      <td>-1</td>\n      <td>26</td>\n    </tr>\n    <tr>\n      <th>16236</th>\n      <td>AcessoLivre   Ao longo do mês de dezembro o Ne...</td>\n      <td>-1</td>\n      <td>19</td>\n    </tr>\n    <tr>\n      <th>16237</th>\n      <td>Este conteúdo faz parte da NexoEDUnoEnem  noss...</td>\n      <td>-1</td>\n      <td>23</td>\n    </tr>\n    <tr>\n      <th>16238</th>\n      <td>opinião O termo empreendedorismo nada mais é d...</td>\n      <td>0</td>\n      <td>62</td>\n    </tr>\n    <tr>\n      <th>16239</th>\n      <td>Seleção MaisLidasDoNexo entre os assinantes em...</td>\n      <td>0</td>\n      <td>56</td>\n    </tr>\n  </tbody>\n</table>\n<p>16240 rows × 3 columns</p>\n</div>"
          },
          "metadata": {},
          "execution_count": 120
        }
      ]
    },
    {
      "source": [
        "## **4.2 Gerando o CSV final**\n"
      ],
      "cell_type": "markdown",
      "metadata": {}
    },
    {
      "source": [
        "### **Salvando no Drive**"
      ],
      "cell_type": "markdown",
      "metadata": {}
    },
    {
      "cell_type": "code",
      "metadata": {
        "id": "sRQ3-TCJMwoW"
      },
      "source": [
        "path = '/content/drive/MyDrive/Colab Notebooks/Estágio - IMT & NPL Brasil/Notebooks'\n",
        "df_final.to_csv(os.path.join(path,r'DataFrame_final_Twitter.csv'), index=False)"
      ],
      "execution_count": 109,
      "outputs": [
        {
          "output_type": "error",
          "ename": "FileNotFoundError",
          "evalue": "[Errno 2] No such file or directory: '/content/drive/MyDrive/Colab Notebooks/Estágio - IMT & NPL Brasil/Notebooks\\\\DataFrame_final_Twitter.csv'",
          "traceback": [
            "\u001b[1;31m---------------------------------------------------------------------------\u001b[0m",
            "\u001b[1;31mFileNotFoundError\u001b[0m                         Traceback (most recent call last)",
            "\u001b[1;32m<ipython-input-109-082e35e8052f>\u001b[0m in \u001b[0;36m<module>\u001b[1;34m\u001b[0m\n\u001b[0;32m      1\u001b[0m \u001b[0mpath\u001b[0m \u001b[1;33m=\u001b[0m \u001b[1;34m'/content/drive/MyDrive/Colab Notebooks/Estágio - IMT & NPL Brasil/Notebooks'\u001b[0m\u001b[1;33m\u001b[0m\u001b[1;33m\u001b[0m\u001b[0m\n\u001b[1;32m----> 2\u001b[1;33m \u001b[0mdf_final\u001b[0m\u001b[1;33m.\u001b[0m\u001b[0mto_csv\u001b[0m\u001b[1;33m(\u001b[0m\u001b[0mos\u001b[0m\u001b[1;33m.\u001b[0m\u001b[0mpath\u001b[0m\u001b[1;33m.\u001b[0m\u001b[0mjoin\u001b[0m\u001b[1;33m(\u001b[0m\u001b[0mpath\u001b[0m\u001b[1;33m,\u001b[0m\u001b[1;34mr'DataFrame_final_Twitter.csv'\u001b[0m\u001b[1;33m)\u001b[0m\u001b[1;33m,\u001b[0m \u001b[0mindex\u001b[0m\u001b[1;33m=\u001b[0m\u001b[1;32mFalse\u001b[0m\u001b[1;33m)\u001b[0m\u001b[1;33m\u001b[0m\u001b[1;33m\u001b[0m\u001b[0m\n\u001b[0m",
            "\u001b[1;32m~\\AppData\\Local\\Programs\\Python\\Python39\\lib\\site-packages\\pandas\\core\\generic.py\u001b[0m in \u001b[0;36mto_csv\u001b[1;34m(self, path_or_buf, sep, na_rep, float_format, columns, header, index, index_label, mode, encoding, compression, quoting, quotechar, line_terminator, chunksize, date_format, doublequote, escapechar, decimal, errors, storage_options)\u001b[0m\n\u001b[0;32m   3385\u001b[0m         )\n\u001b[0;32m   3386\u001b[0m \u001b[1;33m\u001b[0m\u001b[0m\n\u001b[1;32m-> 3387\u001b[1;33m         return DataFrameRenderer(formatter).to_csv(\n\u001b[0m\u001b[0;32m   3388\u001b[0m             \u001b[0mpath_or_buf\u001b[0m\u001b[1;33m,\u001b[0m\u001b[1;33m\u001b[0m\u001b[1;33m\u001b[0m\u001b[0m\n\u001b[0;32m   3389\u001b[0m             \u001b[0mline_terminator\u001b[0m\u001b[1;33m=\u001b[0m\u001b[0mline_terminator\u001b[0m\u001b[1;33m,\u001b[0m\u001b[1;33m\u001b[0m\u001b[1;33m\u001b[0m\u001b[0m\n",
            "\u001b[1;32m~\\AppData\\Local\\Programs\\Python\\Python39\\lib\\site-packages\\pandas\\io\\formats\\format.py\u001b[0m in \u001b[0;36mto_csv\u001b[1;34m(self, path_or_buf, encoding, sep, columns, index_label, mode, compression, quoting, quotechar, line_terminator, chunksize, date_format, doublequote, escapechar, errors, storage_options)\u001b[0m\n\u001b[0;32m   1081\u001b[0m             \u001b[0mformatter\u001b[0m\u001b[1;33m=\u001b[0m\u001b[0mself\u001b[0m\u001b[1;33m.\u001b[0m\u001b[0mfmt\u001b[0m\u001b[1;33m,\u001b[0m\u001b[1;33m\u001b[0m\u001b[1;33m\u001b[0m\u001b[0m\n\u001b[0;32m   1082\u001b[0m         )\n\u001b[1;32m-> 1083\u001b[1;33m         \u001b[0mcsv_formatter\u001b[0m\u001b[1;33m.\u001b[0m\u001b[0msave\u001b[0m\u001b[1;33m(\u001b[0m\u001b[1;33m)\u001b[0m\u001b[1;33m\u001b[0m\u001b[1;33m\u001b[0m\u001b[0m\n\u001b[0m\u001b[0;32m   1084\u001b[0m \u001b[1;33m\u001b[0m\u001b[0m\n\u001b[0;32m   1085\u001b[0m         \u001b[1;32mif\u001b[0m \u001b[0mcreated_buffer\u001b[0m\u001b[1;33m:\u001b[0m\u001b[1;33m\u001b[0m\u001b[1;33m\u001b[0m\u001b[0m\n",
            "\u001b[1;32m~\\AppData\\Local\\Programs\\Python\\Python39\\lib\\site-packages\\pandas\\io\\formats\\csvs.py\u001b[0m in \u001b[0;36msave\u001b[1;34m(self)\u001b[0m\n\u001b[0;32m    226\u001b[0m         \"\"\"\n\u001b[0;32m    227\u001b[0m         \u001b[1;31m# apply compression and byte/text conversion\u001b[0m\u001b[1;33m\u001b[0m\u001b[1;33m\u001b[0m\u001b[1;33m\u001b[0m\u001b[0m\n\u001b[1;32m--> 228\u001b[1;33m         with get_handle(\n\u001b[0m\u001b[0;32m    229\u001b[0m             \u001b[0mself\u001b[0m\u001b[1;33m.\u001b[0m\u001b[0mfilepath_or_buffer\u001b[0m\u001b[1;33m,\u001b[0m\u001b[1;33m\u001b[0m\u001b[1;33m\u001b[0m\u001b[0m\n\u001b[0;32m    230\u001b[0m             \u001b[0mself\u001b[0m\u001b[1;33m.\u001b[0m\u001b[0mmode\u001b[0m\u001b[1;33m,\u001b[0m\u001b[1;33m\u001b[0m\u001b[1;33m\u001b[0m\u001b[0m\n",
            "\u001b[1;32m~\\AppData\\Local\\Programs\\Python\\Python39\\lib\\site-packages\\pandas\\io\\common.py\u001b[0m in \u001b[0;36mget_handle\u001b[1;34m(path_or_buf, mode, encoding, compression, memory_map, is_text, errors, storage_options)\u001b[0m\n\u001b[0;32m    640\u001b[0m                 \u001b[0merrors\u001b[0m \u001b[1;33m=\u001b[0m \u001b[1;34m\"replace\"\u001b[0m\u001b[1;33m\u001b[0m\u001b[1;33m\u001b[0m\u001b[0m\n\u001b[0;32m    641\u001b[0m             \u001b[1;31m# Encoding\u001b[0m\u001b[1;33m\u001b[0m\u001b[1;33m\u001b[0m\u001b[1;33m\u001b[0m\u001b[0m\n\u001b[1;32m--> 642\u001b[1;33m             handle = open(\n\u001b[0m\u001b[0;32m    643\u001b[0m                 \u001b[0mhandle\u001b[0m\u001b[1;33m,\u001b[0m\u001b[1;33m\u001b[0m\u001b[1;33m\u001b[0m\u001b[0m\n\u001b[0;32m    644\u001b[0m                 \u001b[0mioargs\u001b[0m\u001b[1;33m.\u001b[0m\u001b[0mmode\u001b[0m\u001b[1;33m,\u001b[0m\u001b[1;33m\u001b[0m\u001b[1;33m\u001b[0m\u001b[0m\n",
            "\u001b[1;31mFileNotFoundError\u001b[0m: [Errno 2] No such file or directory: '/content/drive/MyDrive/Colab Notebooks/Estágio - IMT & NPL Brasil/Notebooks\\\\DataFrame_final_Twitter.csv'"
          ]
        }
      ]
    },
    {
      "source": [
        "### **Salvando localmente**"
      ],
      "cell_type": "markdown",
      "metadata": {}
    },
    {
      "cell_type": "code",
      "execution_count": 128,
      "metadata": {},
      "outputs": [],
      "source": [
        "path = r'C:\\Users\\jcts1\\Desktop\\JEAN\\GitHub\\Machine-Learning-Projects\\Estágio\\Twitter\\Arquivos_e_dados_finais'\n",
        "df_final.to_csv(os.path.join(path,r'DataFrame_final_Twitter.csv'), index=False)"
      ]
    }
  ]
}